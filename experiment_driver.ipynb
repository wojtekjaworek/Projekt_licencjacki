{
 "cells": [
  {
   "cell_type": "markdown",
   "metadata": {},
   "source": [
    "## Import packages and modules"
   ]
  },
  {
   "cell_type": "code",
   "execution_count": 1,
   "metadata": {},
   "outputs": [
    {
     "name": "stdout",
     "output_type": "stream",
     "text": [
      "WARNING:tensorflow:From c:\\Users\\jawor\\AppData\\Local\\Programs\\Python\\Python310\\lib\\site-packages\\keras\\src\\losses.py:2976: The name tf.losses.sparse_softmax_cross_entropy is deprecated. Please use tf.compat.v1.losses.sparse_softmax_cross_entropy instead.\n",
      "\n"
     ]
    }
   ],
   "source": [
    "from models.tda_models import TDA_PI34_Model, TDA_PI42_Model, VECTOR_STITCHING_PI_Model_34, VECTOR_STITCHING_PI_Model_42\n",
    "from models.raw_models import Raw_Model, Dummy_Model\n",
    "from tda_pipelines import *\n",
    "import tensorflow as tf\n"
   ]
  },
  {
   "cell_type": "markdown",
   "metadata": {},
   "source": [
    "## Load TDA and Vector-stitching pipelines "
   ]
  },
  {
   "cell_type": "code",
   "execution_count": 2,
   "metadata": {},
   "outputs": [],
   "source": [
    "# load pipelines \n",
    "\n",
    "tda_pipeline_34 = TDA_PI34_Pipeline()\n",
    "tda_pipeline_42 = TDA_PI42_Pipeline()\n",
    "vector_stitching_pipeline_34, tda_union_34 = VECTOR_STITCHING_PI_Pipeline_34()\n",
    "vector_stitching_pipeline_42, tda_union_42 = VECTOR_STITCHING_PI_Pipeline_42()\n"
   ]
  },
  {
   "cell_type": "markdown",
   "metadata": {},
   "source": [
    "## Transform raw data to persistance images and stitched RAW-PI images"
   ]
  },
  {
   "cell_type": "code",
   "execution_count": 3,
   "metadata": {},
   "outputs": [
    {
     "name": "stderr",
     "output_type": "stream",
     "text": [
      "c:\\Users\\jawor\\Desktop\\Projekt_licencjacki\\data_preprocessing.py:47: FutureWarning: `seed` is a deprecated argument name for `random_noise`. It will be removed in version 0.23. Please use `rng` instead.\n",
      "  X_train_noisy = random_noise(X_train, mode=\"s&p\",amount=0.05, seed=666)\n",
      "c:\\Users\\jawor\\Desktop\\Projekt_licencjacki\\data_preprocessing.py:48: FutureWarning: `seed` is a deprecated argument name for `random_noise`. It will be removed in version 0.23. Please use `rng` instead.\n",
      "  X_test_noisy = random_noise(X_test, mode=\"s&p\",amount=0.05, seed=666)\n"
     ]
    },
    {
     "name": "stdout",
     "output_type": "stream",
     "text": [
      "1/8\n",
      "2/8\n",
      "3/8\n",
      "4/8\n",
      "5/8\n",
      "6/8\n",
      "7/8\n",
      "8/8\n"
     ]
    }
   ],
   "source": [
    "from data_preprocessing import process\n",
    "(X, y), _ = tf.keras.datasets.mnist.load_data()\n",
    "\n",
    "data = process(data=(X, y), training_size=100, testing_size=10, dist_ratio=10)"
   ]
  },
  {
   "cell_type": "markdown",
   "metadata": {},
   "source": [
    "# Initialize models"
   ]
  },
  {
   "cell_type": "code",
   "execution_count": 4,
   "metadata": {},
   "outputs": [
    {
     "name": "stdout",
     "output_type": "stream",
     "text": [
      "WARNING:tensorflow:From c:\\Users\\jawor\\AppData\\Local\\Programs\\Python\\Python310\\lib\\site-packages\\keras\\src\\backend.py:873: The name tf.get_default_graph is deprecated. Please use tf.compat.v1.get_default_graph instead.\n",
      "\n",
      "WARNING:tensorflow:From c:\\Users\\jawor\\AppData\\Local\\Programs\\Python\\Python310\\lib\\site-packages\\keras\\src\\layers\\pooling\\max_pooling2d.py:161: The name tf.nn.max_pool is deprecated. Please use tf.nn.max_pool2d instead.\n",
      "\n",
      "WARNING:tensorflow:From c:\\Users\\jawor\\AppData\\Local\\Programs\\Python\\Python310\\lib\\site-packages\\keras\\src\\optimizers\\__init__.py:309: The name tf.train.Optimizer is deprecated. Please use tf.compat.v1.train.Optimizer instead.\n",
      "\n"
     ]
    }
   ],
   "source": [
    "# models\n",
    "\n",
    "raw_model = Raw_Model() # cnn models working on raw images\n",
    "dummy_model = Dummy_Model() # fully dense model working on raw images\n",
    "tda_model_34 = TDA_PI34_Model() # cnn model working on persistance images\n",
    "tda_model_42 = TDA_PI42_Model() # cnn model working on persistance images\n",
    "vector_stitching_model_34 = VECTOR_STITCHING_PI_Model_34() # cnn model working on stitched raw and PI images\n",
    "vector_stitching_model_42 = VECTOR_STITCHING_PI_Model_42() # cnn model working on stitched raw and PI images\n"
   ]
  },
  {
   "cell_type": "markdown",
   "metadata": {},
   "source": [
    "# Fitting and validating models\n"
   ]
  },
  {
   "cell_type": "code",
   "execution_count": 5,
   "metadata": {},
   "outputs": [],
   "source": [
    "tf.keras.backend.clear_session()"
   ]
  },
  {
   "cell_type": "code",
   "execution_count": 6,
   "metadata": {},
   "outputs": [
    {
     "name": "stdout",
     "output_type": "stream",
     "text": [
      "Epoch 1/20\n",
      "WARNING:tensorflow:From c:\\Users\\jawor\\AppData\\Local\\Programs\\Python\\Python310\\lib\\site-packages\\keras\\src\\utils\\tf_utils.py:492: The name tf.ragged.RaggedTensorValue is deprecated. Please use tf.compat.v1.ragged.RaggedTensorValue instead.\n",
      "\n",
      "WARNING:tensorflow:From c:\\Users\\jawor\\AppData\\Local\\Programs\\Python\\Python310\\lib\\site-packages\\keras\\src\\engine\\base_layer_utils.py:384: The name tf.executing_eagerly_outside_functions is deprecated. Please use tf.compat.v1.executing_eagerly_outside_functions instead.\n",
      "\n",
      "100/100 [==============================] - 5s 14ms/step - loss: 2.9130 - accuracy: 0.1400 - val_loss: 2.3608 - val_accuracy: 0.1000\n",
      "Epoch 2/20\n",
      "100/100 [==============================] - 1s 12ms/step - loss: 2.0023 - accuracy: 0.3700 - val_loss: 2.5890 - val_accuracy: 0.2000\n",
      "Epoch 3/20\n",
      "100/100 [==============================] - 1s 13ms/step - loss: 1.9220 - accuracy: 0.5100 - val_loss: 3.5322 - val_accuracy: 0.2000\n",
      "Epoch 4/20\n",
      "100/100 [==============================] - 1s 15ms/step - loss: 1.3377 - accuracy: 0.5800 - val_loss: 1.9630 - val_accuracy: 0.3000\n",
      "Epoch 5/20\n",
      "100/100 [==============================] - 1s 14ms/step - loss: 0.8506 - accuracy: 0.7600 - val_loss: 1.6495 - val_accuracy: 0.6000\n",
      "Epoch 6/20\n",
      "100/100 [==============================] - 1s 11ms/step - loss: 0.7769 - accuracy: 0.7600 - val_loss: 4.4403 - val_accuracy: 0.0000e+00\n",
      "Epoch 7/20\n",
      "100/100 [==============================] - 2s 17ms/step - loss: 1.3400 - accuracy: 0.6500 - val_loss: 1.8151 - val_accuracy: 0.4000\n",
      "Epoch 8/20\n",
      "100/100 [==============================] - 1s 13ms/step - loss: 0.5274 - accuracy: 0.8600 - val_loss: 3.4396 - val_accuracy: 0.3000\n",
      "Epoch 9/20\n",
      "100/100 [==============================] - 1s 12ms/step - loss: 0.5493 - accuracy: 0.8900 - val_loss: 2.1955 - val_accuracy: 0.3000\n",
      "Epoch 10/20\n",
      "100/100 [==============================] - 1s 13ms/step - loss: 0.3949 - accuracy: 0.8700 - val_loss: 4.2160 - val_accuracy: 0.5000\n",
      "Epoch 11/20\n",
      "100/100 [==============================] - 1s 14ms/step - loss: 0.5606 - accuracy: 0.8200 - val_loss: 2.0474 - val_accuracy: 0.5000\n",
      "Epoch 12/20\n",
      "100/100 [==============================] - 1s 15ms/step - loss: 0.3489 - accuracy: 0.9100 - val_loss: 3.6076 - val_accuracy: 0.2000\n",
      "Epoch 13/20\n",
      "100/100 [==============================] - 1s 10ms/step - loss: 0.1021 - accuracy: 0.9700 - val_loss: 1.6592 - val_accuracy: 0.5000\n",
      "Epoch 14/20\n",
      "100/100 [==============================] - 1s 11ms/step - loss: 0.1092 - accuracy: 0.9600 - val_loss: 1.5773 - val_accuracy: 0.6000\n",
      "Epoch 15/20\n",
      "100/100 [==============================] - 1s 11ms/step - loss: 0.1070 - accuracy: 0.9600 - val_loss: 2.0872 - val_accuracy: 0.5000\n",
      "Epoch 16/20\n",
      "100/100 [==============================] - 1s 12ms/step - loss: 0.0575 - accuracy: 0.9800 - val_loss: 1.2175 - val_accuracy: 0.3000\n",
      "Epoch 17/20\n",
      "100/100 [==============================] - 2s 22ms/step - loss: 0.0293 - accuracy: 0.9900 - val_loss: 2.9532 - val_accuracy: 0.4000\n",
      "Epoch 18/20\n",
      "100/100 [==============================] - 2s 18ms/step - loss: 0.0061 - accuracy: 1.0000 - val_loss: 4.2417 - val_accuracy: 0.3000\n",
      "Epoch 19/20\n",
      "100/100 [==============================] - 1s 14ms/step - loss: 0.0158 - accuracy: 1.0000 - val_loss: 4.2663 - val_accuracy: 0.3000\n",
      "Epoch 20/20\n",
      "100/100 [==============================] - 1s 13ms/step - loss: 0.0023 - accuracy: 1.0000 - val_loss: 4.8256 - val_accuracy: 0.3000\n"
     ]
    },
    {
     "data": {
      "text/plain": [
       "<keras.src.callbacks.History at 0x2410b813760>"
      ]
     },
     "execution_count": 6,
     "metadata": {},
     "output_type": "execute_result"
    }
   ],
   "source": [
    "#TDA model\n",
    "\n",
    "tda_model_34.model.fit(data[\"X_tr_tda_34\"], data[\"y_tr_tda_34\"], epochs=20, batch_size=1, validation_data=(data[\"X_test_noisy_tda_good_34\"], data[\"y_test\"]))"
   ]
  },
  {
   "cell_type": "code",
   "execution_count": 10,
   "metadata": {},
   "outputs": [],
   "source": [
    "tf.keras.backend.clear_session()"
   ]
  },
  {
   "cell_type": "code",
   "execution_count": 11,
   "metadata": {},
   "outputs": [
    {
     "name": "stdout",
     "output_type": "stream",
     "text": [
      "Epoch 1/20\n",
      "100/100 [==============================] - 3s 16ms/step - loss: 6.2304 - accuracy: 0.5300 - val_loss: 2.4220 - val_accuracy: 0.1000\n",
      "Epoch 2/20\n",
      "100/100 [==============================] - 1s 13ms/step - loss: 1.3970 - accuracy: 0.4900 - val_loss: 2.3114 - val_accuracy: 0.1000\n",
      "Epoch 3/20\n",
      "100/100 [==============================] - 1s 12ms/step - loss: 0.6802 - accuracy: 0.7900 - val_loss: 2.3154 - val_accuracy: 0.1000\n",
      "Epoch 4/20\n",
      "100/100 [==============================] - 1s 13ms/step - loss: 0.3357 - accuracy: 0.9000 - val_loss: 2.4247 - val_accuracy: 0.1000\n",
      "Epoch 5/20\n",
      "100/100 [==============================] - 1s 14ms/step - loss: 0.2902 - accuracy: 0.9200 - val_loss: 2.2875 - val_accuracy: 0.1000\n",
      "Epoch 6/20\n",
      "100/100 [==============================] - 1s 14ms/step - loss: 0.2352 - accuracy: 0.9200 - val_loss: 2.3583 - val_accuracy: 0.1000\n",
      "Epoch 7/20\n",
      "100/100 [==============================] - 1s 14ms/step - loss: 0.4296 - accuracy: 0.8700 - val_loss: 2.2480 - val_accuracy: 0.1000\n",
      "Epoch 8/20\n",
      "100/100 [==============================] - 1s 11ms/step - loss: 0.2633 - accuracy: 0.9000 - val_loss: 2.3720 - val_accuracy: 0.1000\n",
      "Epoch 9/20\n",
      "100/100 [==============================] - 1s 11ms/step - loss: 0.4314 - accuracy: 0.8600 - val_loss: 2.6019 - val_accuracy: 0.1000\n",
      "Epoch 10/20\n",
      "100/100 [==============================] - 1s 10ms/step - loss: 0.1879 - accuracy: 0.9300 - val_loss: 2.1840 - val_accuracy: 0.3000\n",
      "Epoch 11/20\n",
      "100/100 [==============================] - 1s 14ms/step - loss: 0.1400 - accuracy: 0.9800 - val_loss: 2.3426 - val_accuracy: 0.2000\n",
      "Epoch 12/20\n",
      "100/100 [==============================] - 1s 13ms/step - loss: 0.1242 - accuracy: 0.9700 - val_loss: 2.1740 - val_accuracy: 0.3000\n",
      "Epoch 13/20\n",
      "100/100 [==============================] - 1s 11ms/step - loss: 0.1144 - accuracy: 0.9700 - val_loss: 2.3611 - val_accuracy: 0.1000\n",
      "Epoch 14/20\n",
      "100/100 [==============================] - 1s 11ms/step - loss: 0.0817 - accuracy: 0.9900 - val_loss: 2.3657 - val_accuracy: 0.4000\n",
      "Epoch 15/20\n",
      "100/100 [==============================] - 1s 11ms/step - loss: 0.0582 - accuracy: 1.0000 - val_loss: 2.4869 - val_accuracy: 0.2000\n",
      "Epoch 16/20\n",
      "100/100 [==============================] - 1s 13ms/step - loss: 0.0926 - accuracy: 0.9700 - val_loss: 2.3520 - val_accuracy: 0.3000\n",
      "Epoch 17/20\n",
      "100/100 [==============================] - 1s 9ms/step - loss: 0.0504 - accuracy: 0.9800 - val_loss: 2.4212 - val_accuracy: 0.4000\n",
      "Epoch 18/20\n",
      "100/100 [==============================] - 1s 11ms/step - loss: 0.1748 - accuracy: 0.9600 - val_loss: 2.5178 - val_accuracy: 0.2000\n",
      "Epoch 19/20\n",
      "100/100 [==============================] - 1s 12ms/step - loss: 1.9221 - accuracy: 0.7700 - val_loss: 2.6546 - val_accuracy: 0.4000\n",
      "Epoch 20/20\n",
      "100/100 [==============================] - 1s 10ms/step - loss: 0.7023 - accuracy: 0.8500 - val_loss: 2.7689 - val_accuracy: 0.4000\n"
     ]
    },
    {
     "data": {
      "text/plain": [
       "<keras.src.callbacks.History at 0x24111d1e500>"
      ]
     },
     "execution_count": 11,
     "metadata": {},
     "output_type": "execute_result"
    }
   ],
   "source": [
    "# RAW model\n",
    "raw_model.model.fit(data[\"X_tr\"], data[\"y_tr\"], epochs=20, batch_size=1, validation_data=(data[\"X_test_noisy_random\"], data[\"y_test\"]))"
   ]
  },
  {
   "cell_type": "code",
   "execution_count": null,
   "metadata": {},
   "outputs": [
    {
     "name": "stdout",
     "output_type": "stream",
     "text": [
      "tda:  3     raw:  5     combined:  3     actual:  4\n",
      "tda:  5     raw:  5     combined:  5     actual:  5\n",
      "tda:  4     raw:  5     combined:  4     actual:  6\n",
      "tda:  3     raw:  1     combined:  3     actual:  1\n",
      "tda:  1     raw:  5     combined:  1     actual:  2\n",
      "tda:  1     raw:  1     combined:  1     actual:  4\n",
      "tda:  1     raw:  1     combined:  1     actual:  8\n",
      "tda:  0     raw:  5     combined:  0     actual:  0\n",
      "tda:  0     raw:  5     combined:  0     actual:  8\n",
      "tda:  1     raw:  1     combined:  1     actual:  7\n",
      "tda:  9     raw:  1     combined:  9     actual:  7\n",
      "tda:  5     raw:  1     combined:  5     actual:  4\n",
      "tda:  1     raw:  5     combined:  1     actual:  4\n",
      "tda:  1     raw:  1     combined:  1     actual:  2\n",
      "tda:  1     raw:  1     combined:  1     actual:  3\n",
      "tda:  6     raw:  5     combined:  6     actual:  6\n",
      "tda:  1     raw:  5     combined:  1     actual:  6\n",
      "tda:  1     raw:  5     combined:  1     actual:  7\n",
      "tda:  8     raw:  5     combined:  8     actual:  2\n",
      "tda:  8     raw:  5     combined:  0     actual:  0\n",
      "tda:  5     raw:  5     combined:  5     actual:  0\n",
      "tda:  9     raw:  1     combined:  9     actual:  7\n",
      "tda:  1     raw:  1     combined:  1     actual:  1\n",
      "tda:  1     raw:  1     combined:  1     actual:  6\n",
      "tda:  8     raw:  5     combined:  8     actual:  0\n",
      "tda:  1     raw:  5     combined:  5     actual:  5\n",
      "tda:  0     raw:  0     combined:  0     actual:  0\n",
      "tda:  3     raw:  5     combined:  3     actual:  4\n",
      "tda:  1     raw:  1     combined:  1     actual:  4\n",
      "tda:  1     raw:  5     combined:  1     actual:  3\n",
      "tda:  1     raw:  1     combined:  1     actual:  1\n",
      "tda:  1     raw:  5     combined:  1     actual:  3\n",
      "tda:  5     raw:  5     combined:  5     actual:  2\n",
      "tda:  1     raw:  1     combined:  1     actual:  6\n",
      "tda:  3     raw:  5     combined:  3     actual:  3\n",
      "tda:  7     raw:  5     combined:  1     actual:  0\n",
      "tda:  3     raw:  1     combined:  3     actual:  2\n",
      "tda:  1     raw:  5     combined:  1     actual:  3\n",
      "tda:  5     raw:  5     combined:  5     actual:  5\n",
      "tda:  1     raw:  5     combined:  1     actual:  8\n",
      "tda:  5     raw:  1     combined:  5     actual:  4\n",
      "tda:  1     raw:  1     combined:  1     actual:  1\n",
      "tda:  3     raw:  5     combined:  3     actual:  3\n",
      "tda:  1     raw:  5     combined:  1     actual:  9\n",
      "tda:  5     raw:  5     combined:  5     actual:  2\n",
      "tda:  5     raw:  5     combined:  5     actual:  3\n",
      "tda:  1     raw:  1     combined:  1     actual:  2\n",
      "tda:  1     raw:  5     combined:  1     actual:  6\n",
      "tda:  9     raw:  5     combined:  9     actual:  0\n",
      "tda:  1     raw:  5     combined:  1     actual:  4\n",
      "tda:  3     raw:  5     combined:  3     actual:  5\n",
      "tda:  4     raw:  5     combined:  5     actual:  6\n",
      "tda:  1     raw:  5     combined:  1     actual:  6\n",
      "tda:  5     raw:  5     combined:  5     actual:  5\n",
      "tda:  1     raw:  5     combined:  1     actual:  7\n",
      "tda:  1     raw:  5     combined:  1     actual:  5\n",
      "tda:  5     raw:  5     combined:  5     actual:  9\n",
      "tda:  1     raw:  1     combined:  1     actual:  7\n",
      "tda:  1     raw:  1     combined:  1     actual:  7\n",
      "tda:  0     raw:  1     combined:  0     actual:  2\n",
      "tda:  8     raw:  5     combined:  8     actual:  0\n",
      "tda:  1     raw:  1     combined:  1     actual:  9\n",
      "tda:  5     raw:  5     combined:  5     actual:  7\n",
      "tda:  0     raw:  5     combined:  0     actual:  2\n",
      "tda:  1     raw:  5     combined:  1     actual:  2\n",
      "tda:  1     raw:  5     combined:  1     actual:  9\n",
      "tda:  4     raw:  1     combined:  4     actual:  8\n",
      "tda:  1     raw:  1     combined:  1     actual:  7\n",
      "tda:  1     raw:  5     combined:  1     actual:  9\n",
      "tda:  4     raw:  5     combined:  4     actual:  4\n",
      "tda:  1     raw:  1     combined:  1     actual:  1\n",
      "tda:  0     raw:  5     combined:  0     actual:  0\n",
      "tda:  5     raw:  5     combined:  5     actual:  9\n",
      "tda:  1     raw:  1     combined:  1     actual:  8\n",
      "tda:  1     raw:  1     combined:  1     actual:  1\n",
      "tda:  5     raw:  5     combined:  5     actual:  9\n",
      "tda:  3     raw:  1     combined:  5     actual:  8\n",
      "tda:  1     raw:  1     combined:  1     actual:  1\n",
      "tda:  6     raw:  5     combined:  6     actual:  6\n",
      "tda:  5     raw:  5     combined:  5     actual:  5\n",
      "tda:  1     raw:  1     combined:  1     actual:  1\n",
      "tda:  1     raw:  5     combined:  1     actual:  9\n",
      "tda:  8     raw:  5     combined:  8     actual:  3\n",
      "tda:  7     raw:  5     combined:  7     actual:  3\n",
      "tda:  5     raw:  5     combined:  5     actual:  8\n",
      "tda:  1     raw:  5     combined:  1     actual:  3\n",
      "tda:  1     raw:  5     combined:  1     actual:  0\n",
      "tda:  1     raw:  1     combined:  1     actual:  1\n",
      "tda:  3     raw:  5     combined:  3     actual:  9\n",
      "tda:  8     raw:  5     combined:  8     actual:  8\n",
      "tda:  3     raw:  1     combined:  3     actual:  1\n",
      "tda:  1     raw:  5     combined:  1     actual:  5\n",
      "tda:  8     raw:  5     combined:  8     actual:  8\n",
      "tda:  6     raw:  5     combined:  6     actual:  6\n",
      "tda:  3     raw:  1     combined:  3     actual:  1\n",
      "tda:  5     raw:  5     combined:  5     actual:  7\n",
      "tda:  8     raw:  5     combined:  8     actual:  5\n",
      "tda:  9     raw:  5     combined:  9     actual:  9\n",
      "tda:  5     raw:  1     combined:  5     actual:  4\n",
      "tda:  1     raw:  1     combined:  1     actual:  8\n",
      "Combined Accuracy: 0.26\n"
     ]
    }
   ],
   "source": [
    "i=0\n",
    "combined_score = 0\n",
    "for row_tda, row_raw in zip(predictions_tda, predictions_raw):\n",
    "    # multiply rows elementwise \n",
    "    combined = row_tda * row_raw\n",
    "    if np.argmax(combined) == y_test[i]:\n",
    "        combined_score += 1\n",
    "    #print(\"tda: \",np.argmax(row_tda),\"    raw: \", np.argmax(row_raw), \"    combined: \", np.argmax(combined), \"    actual: \", y_test[i]) \n",
    "    i+=1\n",
    "\n",
    "print(f\"Combined Accuracy: {combined_score/len(predictions_tda)}\")"
   ]
  },
  {
   "cell_type": "code",
   "execution_count": 14,
   "metadata": {},
   "outputs": [],
   "source": [
    "tf.keras.backend.clear_session()"
   ]
  },
  {
   "cell_type": "code",
   "execution_count": 15,
   "metadata": {},
   "outputs": [
    {
     "name": "stdout",
     "output_type": "stream",
     "text": [
      "Epoch 1/20\n",
      "100/100 [==============================] - 3s 18ms/step - loss: 1.2522 - accuracy: 0.7200 - val_loss: 1.3980 - val_accuracy: 0.6000\n",
      "Epoch 2/20\n",
      "100/100 [==============================] - 1s 12ms/step - loss: 1.6673 - accuracy: 0.8100 - val_loss: 2.6124 - val_accuracy: 0.3000\n",
      "Epoch 3/20\n",
      "100/100 [==============================] - 2s 24ms/step - loss: 1.1328 - accuracy: 0.7600 - val_loss: 1.3812 - val_accuracy: 0.5000\n",
      "Epoch 4/20\n",
      "100/100 [==============================] - 2s 21ms/step - loss: 0.3687 - accuracy: 0.8700 - val_loss: 1.0766 - val_accuracy: 0.8000\n",
      "Epoch 5/20\n",
      "100/100 [==============================] - 2s 18ms/step - loss: 0.1965 - accuracy: 0.9500 - val_loss: 1.7564 - val_accuracy: 0.8000\n",
      "Epoch 6/20\n",
      "100/100 [==============================] - 1s 11ms/step - loss: 0.5280 - accuracy: 0.9400 - val_loss: 1.5996 - val_accuracy: 0.7000\n",
      "Epoch 7/20\n",
      "100/100 [==============================] - 1s 11ms/step - loss: 0.7553 - accuracy: 0.8800 - val_loss: 0.8021 - val_accuracy: 0.8000\n",
      "Epoch 8/20\n",
      "100/100 [==============================] - 1s 14ms/step - loss: 0.8320 - accuracy: 0.9000 - val_loss: 1.1311 - val_accuracy: 0.6000\n",
      "Epoch 9/20\n",
      "100/100 [==============================] - 1s 11ms/step - loss: 0.2194 - accuracy: 0.9600 - val_loss: 0.7154 - val_accuracy: 0.9000\n",
      "Epoch 10/20\n",
      "100/100 [==============================] - 1s 13ms/step - loss: 0.8416 - accuracy: 0.8900 - val_loss: 1.6933 - val_accuracy: 0.8000\n",
      "Epoch 11/20\n",
      "100/100 [==============================] - 1s 11ms/step - loss: 0.0751 - accuracy: 0.9700 - val_loss: 0.3085 - val_accuracy: 0.9000\n",
      "Epoch 12/20\n",
      "100/100 [==============================] - 1s 12ms/step - loss: 0.1383 - accuracy: 0.9600 - val_loss: 0.9670 - val_accuracy: 0.7000\n",
      "Epoch 13/20\n",
      "100/100 [==============================] - 1s 14ms/step - loss: 0.0537 - accuracy: 0.9800 - val_loss: 0.9770 - val_accuracy: 0.8000\n",
      "Epoch 14/20\n",
      "100/100 [==============================] - 1s 13ms/step - loss: 0.0132 - accuracy: 1.0000 - val_loss: 1.0006 - val_accuracy: 0.8000\n",
      "Epoch 15/20\n",
      "100/100 [==============================] - 1s 11ms/step - loss: 0.2484 - accuracy: 0.9600 - val_loss: 0.6889 - val_accuracy: 0.8000\n",
      "Epoch 16/20\n",
      "100/100 [==============================] - 1s 10ms/step - loss: 0.1696 - accuracy: 0.9400 - val_loss: 1.7002 - val_accuracy: 0.7000\n",
      "Epoch 17/20\n",
      "100/100 [==============================] - 1s 11ms/step - loss: 0.1882 - accuracy: 0.9500 - val_loss: 1.7251 - val_accuracy: 0.7000\n",
      "Epoch 18/20\n",
      "100/100 [==============================] - 1s 12ms/step - loss: 0.0335 - accuracy: 0.9900 - val_loss: 1.8878 - val_accuracy: 0.7000\n",
      "Epoch 19/20\n",
      "100/100 [==============================] - 1s 12ms/step - loss: 0.1451 - accuracy: 0.9500 - val_loss: 1.7601 - val_accuracy: 0.8000\n",
      "Epoch 20/20\n",
      "100/100 [==============================] - 1s 12ms/step - loss: 0.0414 - accuracy: 0.9800 - val_loss: 1.7348 - val_accuracy: 0.8000\n"
     ]
    },
    {
     "data": {
      "text/plain": [
       "<keras.src.callbacks.History at 0x241079abd30>"
      ]
     },
     "execution_count": 15,
     "metadata": {},
     "output_type": "execute_result"
    }
   ],
   "source": [
    "#Vector stitching model\n",
    "\n",
    "vector_stitching_model_34.model.fit(data[\"X_tr_vector_stitching_34\"], data[\"y_tr_vector_stitching_34\"], epochs=20, batch_size=1, validation_data=(data[\"X_test_noisy_vector_stitching_good_34\"], data[\"y_test\"]))"
   ]
  },
  {
   "cell_type": "code",
   "execution_count": null,
   "metadata": {},
   "outputs": [],
   "source": []
  }
 ],
 "metadata": {
  "kernelspec": {
   "display_name": "Python 3",
   "language": "python",
   "name": "python3"
  },
  "language_info": {
   "codemirror_mode": {
    "name": "ipython",
    "version": 3
   },
   "file_extension": ".py",
   "mimetype": "text/x-python",
   "name": "python",
   "nbconvert_exporter": "python",
   "pygments_lexer": "ipython3",
   "version": "3.10.11"
  }
 },
 "nbformat": 4,
 "nbformat_minor": 2
}
