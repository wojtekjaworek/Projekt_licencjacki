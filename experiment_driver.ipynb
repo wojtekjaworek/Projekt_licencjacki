{
 "cells": [
  {
   "cell_type": "markdown",
   "metadata": {},
   "source": [
    "użyj experiment.ipynb"
   ]
  },
  {
   "cell_type": "markdown",
   "metadata": {},
   "source": [
    "## Import packages and modules"
   ]
  },
  {
   "cell_type": "code",
   "execution_count": 1,
   "metadata": {},
   "outputs": [
    {
     "name": "stdout",
     "output_type": "stream",
     "text": [
      "WARNING:tensorflow:From c:\\Users\\jawor\\AppData\\Local\\Programs\\Python\\Python310\\lib\\site-packages\\keras\\src\\losses.py:2976: The name tf.losses.sparse_softmax_cross_entropy is deprecated. Please use tf.compat.v1.losses.sparse_softmax_cross_entropy instead.\n",
      "\n"
     ]
    }
   ],
   "source": [
    "from models.tda_models import TDA_PI34_Model, TDA_PI42_Model, VECTOR_STITCHING_PI_Model_34, VECTOR_STITCHING_PI_Model_42\n",
    "from models.raw_models import Raw_Model, Dummy_Model\n",
    "import tensorflow as tf\n"
   ]
  },
  {
   "cell_type": "markdown",
   "metadata": {},
   "source": [
    "## Transform raw data to persistance images and stitched RAW-PI images"
   ]
  },
  {
   "cell_type": "code",
   "execution_count": 2,
   "metadata": {},
   "outputs": [
    {
     "name": "stderr",
     "output_type": "stream",
     "text": [
      "c:\\Users\\jawor\\Desktop\\Projekt_licencjacki\\data_preprocessing.py:50: FutureWarning: `seed` is a deprecated argument name for `random_noise`. It will be removed in version 0.23. Please use `rng` instead.\n",
      "  X_train_noisy = random_noise(X_train, mode=\"s&p\",amount=0.05, seed=666)\n",
      "c:\\Users\\jawor\\Desktop\\Projekt_licencjacki\\data_preprocessing.py:51: FutureWarning: `seed` is a deprecated argument name for `random_noise`. It will be removed in version 0.23. Please use `rng` instead.\n",
      "  X_test_noisy = random_noise(X_test, mode=\"s&p\",amount=0.05, seed=666)\n"
     ]
    },
    {
     "name": "stdout",
     "output_type": "stream",
     "text": [
      "1/8\n",
      "2/8\n",
      "3/8\n",
      "4/8\n",
      "5/8\n",
      "6/8\n",
      "7/8\n",
      "8/8\n"
     ]
    }
   ],
   "source": [
    "from data_preprocessing import process_mnist_alike\n",
    "(X, y), _ = tf.keras.datasets.mnist.load_data()\n",
    "\n",
    "data = process_mnist_alike(data=(X, y), training_indices=(400,650), testing_indices=(100,200), dist_ratio=10)"
   ]
  },
  {
   "cell_type": "markdown",
   "metadata": {},
   "source": [
    "# Initialize models"
   ]
  },
  {
   "cell_type": "code",
   "execution_count": 3,
   "metadata": {},
   "outputs": [
    {
     "name": "stdout",
     "output_type": "stream",
     "text": [
      "WARNING:tensorflow:From c:\\Users\\jawor\\AppData\\Local\\Programs\\Python\\Python310\\lib\\site-packages\\keras\\src\\backend.py:873: The name tf.get_default_graph is deprecated. Please use tf.compat.v1.get_default_graph instead.\n",
      "\n",
      "WARNING:tensorflow:From c:\\Users\\jawor\\AppData\\Local\\Programs\\Python\\Python310\\lib\\site-packages\\keras\\src\\layers\\pooling\\max_pooling2d.py:161: The name tf.nn.max_pool is deprecated. Please use tf.nn.max_pool2d instead.\n",
      "\n",
      "WARNING:tensorflow:From c:\\Users\\jawor\\AppData\\Local\\Programs\\Python\\Python310\\lib\\site-packages\\keras\\src\\optimizers\\__init__.py:309: The name tf.train.Optimizer is deprecated. Please use tf.compat.v1.train.Optimizer instead.\n",
      "\n"
     ]
    }
   ],
   "source": [
    "# models\n",
    "\n",
    "raw_model = Raw_Model() # cnn models working on raw images\n",
    "dummy_model = Dummy_Model() # fully dense model working on raw images\n",
    "tda_model_34 = TDA_PI34_Model() # cnn model working on persistance images\n",
    "tda_model_42 = TDA_PI42_Model() # cnn model working on persistance images\n",
    "vector_stitching_model_34 = VECTOR_STITCHING_PI_Model_34() # cnn model working on stitched raw and PI images\n",
    "vector_stitching_model_42 = VECTOR_STITCHING_PI_Model_42() # cnn model working on stitched raw and PI images\n"
   ]
  },
  {
   "cell_type": "markdown",
   "metadata": {},
   "source": [
    "# Fitting and validating models\n"
   ]
  },
  {
   "cell_type": "code",
   "execution_count": 7,
   "metadata": {},
   "outputs": [],
   "source": [
    "tf.keras.backend.clear_session()"
   ]
  },
  {
   "cell_type": "code",
   "execution_count": 8,
   "metadata": {},
   "outputs": [
    {
     "name": "stdout",
     "output_type": "stream",
     "text": [
      "Epoch 1/30\n",
      "250/250 [==============================] - 2s 7ms/step - loss: 0.0332 - accuracy: 0.9800 - val_loss: 3.0309 - val_accuracy: 0.4500\n",
      "Epoch 2/30\n",
      "250/250 [==============================] - 1s 6ms/step - loss: 0.0348 - accuracy: 0.9880 - val_loss: 5.7455 - val_accuracy: 0.4700\n",
      "Epoch 3/30\n",
      "250/250 [==============================] - 1s 6ms/step - loss: 0.0332 - accuracy: 0.9840 - val_loss: 5.0303 - val_accuracy: 0.4500\n",
      "Epoch 4/30\n",
      "250/250 [==============================] - 1s 6ms/step - loss: 0.0865 - accuracy: 0.9720 - val_loss: 2.7071 - val_accuracy: 0.4200\n",
      "Epoch 5/30\n",
      "250/250 [==============================] - 1s 6ms/step - loss: 0.5858 - accuracy: 0.9240 - val_loss: 2.4294 - val_accuracy: 0.4600\n",
      "Epoch 6/30\n",
      "250/250 [==============================] - 1s 6ms/step - loss: 0.4081 - accuracy: 0.9000 - val_loss: 9.8487 - val_accuracy: 0.2200\n",
      "Epoch 7/30\n",
      "250/250 [==============================] - 1s 6ms/step - loss: 0.1807 - accuracy: 0.9400 - val_loss: 4.3124 - val_accuracy: 0.4400\n"
     ]
    },
    {
     "data": {
      "text/plain": [
       "<keras.src.callbacks.History at 0x1f06591aef0>"
      ]
     },
     "execution_count": 8,
     "metadata": {},
     "output_type": "execute_result"
    }
   ],
   "source": [
    "#TDA model\n",
    "#early stopping\n",
    "early_stopping = tf.keras.callbacks.EarlyStopping(monitor='val_accuracy', patience=5, restore_best_weights=True)\n",
    "\n",
    "tda_model_34.model.fit(data[\"X_tr_tda_34\"], data[\"y_tr_tda_34\"], epochs=30, batch_size=1, validation_data=(data[\"X_test_noisy_tda_good_34\"], data[\"y_test\"]), callbacks=[early_stopping])"
   ]
  },
  {
   "cell_type": "code",
   "execution_count": 9,
   "metadata": {},
   "outputs": [
    {
     "name": "stdout",
     "output_type": "stream",
     "text": [
      "4/4 [==============================] - 0s 6ms/step - loss: 5.7455 - accuracy: 0.4700\n"
     ]
    },
    {
     "data": {
      "text/plain": [
       "[5.745476722717285, 0.4699999988079071]"
      ]
     },
     "execution_count": 9,
     "metadata": {},
     "output_type": "execute_result"
    }
   ],
   "source": [
    "tda_model_34.model.evaluate(data[\"X_test_noisy_tda_good_34\"], data[\"y_test\"])"
   ]
  },
  {
   "cell_type": "code",
   "execution_count": 10,
   "metadata": {},
   "outputs": [],
   "source": [
    "tf.keras.backend.clear_session()"
   ]
  },
  {
   "cell_type": "code",
   "execution_count": 11,
   "metadata": {},
   "outputs": [
    {
     "name": "stdout",
     "output_type": "stream",
     "text": [
      "Epoch 1/20\n",
      "250/250 [==============================] - 3s 6ms/step - loss: 6.0086 - accuracy: 0.3240 - val_loss: 2.2967 - val_accuracy: 0.1900\n",
      "Epoch 2/20\n",
      "250/250 [==============================] - 1s 5ms/step - loss: 1.1956 - accuracy: 0.6600 - val_loss: 2.2945 - val_accuracy: 0.1400\n",
      "Epoch 3/20\n",
      "250/250 [==============================] - 1s 5ms/step - loss: 1.0139 - accuracy: 0.7400 - val_loss: 2.2873 - val_accuracy: 0.1400\n",
      "Epoch 4/20\n",
      "250/250 [==============================] - 1s 5ms/step - loss: 0.4619 - accuracy: 0.8480 - val_loss: 2.2699 - val_accuracy: 0.2100\n",
      "Epoch 5/20\n",
      "250/250 [==============================] - 1s 5ms/step - loss: 0.5497 - accuracy: 0.8400 - val_loss: 2.2770 - val_accuracy: 0.1600\n",
      "Epoch 6/20\n",
      "250/250 [==============================] - 1s 5ms/step - loss: 0.6001 - accuracy: 0.8080 - val_loss: 2.2542 - val_accuracy: 0.1800\n",
      "Epoch 7/20\n",
      "250/250 [==============================] - 1s 5ms/step - loss: 0.4425 - accuracy: 0.8800 - val_loss: 2.2485 - val_accuracy: 0.1500\n",
      "Epoch 8/20\n",
      "250/250 [==============================] - 1s 5ms/step - loss: 0.3177 - accuracy: 0.9000 - val_loss: 2.2276 - val_accuracy: 0.1500\n",
      "Epoch 9/20\n",
      "250/250 [==============================] - 1s 5ms/step - loss: 0.2775 - accuracy: 0.9080 - val_loss: 2.2274 - val_accuracy: 0.1400\n"
     ]
    },
    {
     "data": {
      "text/plain": [
       "<keras.src.callbacks.History at 0x1f016071c30>"
      ]
     },
     "execution_count": 11,
     "metadata": {},
     "output_type": "execute_result"
    }
   ],
   "source": [
    "# RAW model\n",
    "early_stopping = tf.keras.callbacks.EarlyStopping(monitor='val_accuracy', patience=5, restore_best_weights=True)\n",
    "\n",
    "\n",
    "raw_model.model.fit(data[\"X_tr\"], data[\"y_tr\"], epochs=20, batch_size=1, validation_data=(data[\"X_test_noisy_random\"], data[\"y_test\"]), callbacks=[early_stopping])"
   ]
  },
  {
   "cell_type": "code",
   "execution_count": 12,
   "metadata": {},
   "outputs": [
    {
     "name": "stdout",
     "output_type": "stream",
     "text": [
      "4/4 [==============================] - 0s 5ms/step - loss: 2.2699 - accuracy: 0.2100\n"
     ]
    },
    {
     "data": {
      "text/plain": [
       "[2.2698519229888916, 0.20999999344348907]"
      ]
     },
     "execution_count": 12,
     "metadata": {},
     "output_type": "execute_result"
    }
   ],
   "source": [
    "raw_model.model.evaluate(data[\"X_test_noisy_random\"], data[\"y_test\"])"
   ]
  },
  {
   "cell_type": "code",
   "execution_count": null,
   "metadata": {},
   "outputs": [],
   "source": []
  },
  {
   "cell_type": "code",
   "execution_count": 14,
   "metadata": {},
   "outputs": [],
   "source": [
    "tf.keras.backend.clear_session()"
   ]
  },
  {
   "cell_type": "code",
   "execution_count": 15,
   "metadata": {},
   "outputs": [
    {
     "name": "stdout",
     "output_type": "stream",
     "text": [
      "Epoch 1/20\n",
      "250/250 [==============================] - 3s 8ms/step - loss: 2.2391 - accuracy: 0.2640 - val_loss: 2.2222 - val_accuracy: 0.3000\n",
      "Epoch 2/20\n",
      "250/250 [==============================] - 2s 7ms/step - loss: 1.4548 - accuracy: 0.5760 - val_loss: 2.1231 - val_accuracy: 0.3400\n",
      "Epoch 3/20\n",
      "250/250 [==============================] - 2s 7ms/step - loss: 1.0680 - accuracy: 0.7440 - val_loss: 1.5631 - val_accuracy: 0.5200\n",
      "Epoch 4/20\n",
      "250/250 [==============================] - 2s 7ms/step - loss: 0.7168 - accuracy: 0.7960 - val_loss: 1.6060 - val_accuracy: 0.5600\n",
      "Epoch 5/20\n",
      "250/250 [==============================] - 2s 7ms/step - loss: 0.4532 - accuracy: 0.8800 - val_loss: 1.3342 - val_accuracy: 0.5500\n",
      "Epoch 6/20\n",
      "250/250 [==============================] - 2s 7ms/step - loss: 0.7160 - accuracy: 0.8800 - val_loss: 2.3214 - val_accuracy: 0.2300\n",
      "Epoch 7/20\n",
      "250/250 [==============================] - 2s 7ms/step - loss: 0.5090 - accuracy: 0.8840 - val_loss: 1.1870 - val_accuracy: 0.5900\n",
      "Epoch 8/20\n",
      "250/250 [==============================] - 2s 7ms/step - loss: 0.1868 - accuracy: 0.9360 - val_loss: 1.4775 - val_accuracy: 0.5800\n",
      "Epoch 9/20\n",
      "250/250 [==============================] - 2s 7ms/step - loss: 0.1857 - accuracy: 0.9320 - val_loss: 1.3287 - val_accuracy: 0.6300\n",
      "Epoch 10/20\n",
      "250/250 [==============================] - 2s 7ms/step - loss: 0.1332 - accuracy: 0.9600 - val_loss: 1.1691 - val_accuracy: 0.7000\n",
      "Epoch 11/20\n",
      "250/250 [==============================] - 2s 7ms/step - loss: 0.3156 - accuracy: 0.9120 - val_loss: 1.2620 - val_accuracy: 0.6000\n",
      "Epoch 12/20\n",
      "250/250 [==============================] - 2s 7ms/step - loss: 0.2136 - accuracy: 0.9400 - val_loss: 1.0871 - val_accuracy: 0.7600\n",
      "Epoch 13/20\n",
      "250/250 [==============================] - 2s 8ms/step - loss: 0.0885 - accuracy: 0.9800 - val_loss: 0.9712 - val_accuracy: 0.7000\n",
      "Epoch 14/20\n",
      "250/250 [==============================] - 2s 7ms/step - loss: 0.0317 - accuracy: 0.9920 - val_loss: 1.1909 - val_accuracy: 0.7300\n",
      "Epoch 15/20\n",
      "250/250 [==============================] - 2s 7ms/step - loss: 0.1111 - accuracy: 0.9640 - val_loss: 1.3883 - val_accuracy: 0.6700\n",
      "Epoch 16/20\n",
      "250/250 [==============================] - 2s 7ms/step - loss: 0.0950 - accuracy: 0.9760 - val_loss: 0.9826 - val_accuracy: 0.7600\n",
      "Epoch 17/20\n",
      "250/250 [==============================] - 2s 7ms/step - loss: 0.0299 - accuracy: 0.9920 - val_loss: 0.9686 - val_accuracy: 0.7400\n"
     ]
    },
    {
     "data": {
      "text/plain": [
       "<keras.src.callbacks.History at 0x1f01622cc10>"
      ]
     },
     "execution_count": 15,
     "metadata": {},
     "output_type": "execute_result"
    }
   ],
   "source": [
    "#Vector stitching model\n",
    "\n",
    "early_stopping = tf.keras.callbacks.EarlyStopping(monitor='val_accuracy', patience=5, restore_best_weights=True)\n",
    "\n",
    "vector_stitching_model_34.model.fit(data[\"X_tr_vector_stitching_34\"], data[\"y_tr_vector_stitching_34\"], epochs=20, batch_size=1, validation_data=(data[\"X_test_noisy_vector_stitching_good_34\"], data[\"y_test\"]), callbacks=[early_stopping])"
   ]
  },
  {
   "cell_type": "code",
   "execution_count": 16,
   "metadata": {},
   "outputs": [
    {
     "name": "stdout",
     "output_type": "stream",
     "text": [
      "4/4 [==============================] - 0s 8ms/step - loss: 1.0871 - accuracy: 0.7600\n"
     ]
    },
    {
     "data": {
      "text/plain": [
       "[1.087052345275879, 0.7599999904632568]"
      ]
     },
     "execution_count": 16,
     "metadata": {},
     "output_type": "execute_result"
    }
   ],
   "source": [
    "vector_stitching_model_34.model.evaluate(data[\"X_test_noisy_vector_stitching_good_34\"], data[\"y_test\"])"
   ]
  },
  {
   "cell_type": "code",
   "execution_count": null,
   "metadata": {},
   "outputs": [],
   "source": []
  }
 ],
 "metadata": {
  "kernelspec": {
   "display_name": "Python 3",
   "language": "python",
   "name": "python3"
  },
  "language_info": {
   "codemirror_mode": {
    "name": "ipython",
    "version": 3
   },
   "file_extension": ".py",
   "mimetype": "text/x-python",
   "name": "python",
   "nbconvert_exporter": "python",
   "pygments_lexer": "ipython3",
   "version": "3.10.11"
  }
 },
 "nbformat": 4,
 "nbformat_minor": 2
}
