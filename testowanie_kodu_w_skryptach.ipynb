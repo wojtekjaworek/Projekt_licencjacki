{
 "cells": [
  {
   "cell_type": "markdown",
   "metadata": {},
   "source": [
    "## Import packages and modules"
   ]
  },
  {
   "cell_type": "code",
   "execution_count": 1,
   "metadata": {},
   "outputs": [
    {
     "name": "stdout",
     "output_type": "stream",
     "text": [
      "WARNING:tensorflow:From c:\\Users\\jawor\\AppData\\Local\\Programs\\Python\\Python310\\lib\\site-packages\\keras\\src\\losses.py:2976: The name tf.losses.sparse_softmax_cross_entropy is deprecated. Please use tf.compat.v1.losses.sparse_softmax_cross_entropy instead.\n",
      "\n"
     ]
    }
   ],
   "source": [
    "from models.tda_models import TDA_PI34_Model, VECTOR_STITCHING_PI_Model\n",
    "from models.raw_models import Raw_Model, Dummy_Model\n",
    "from tda_pipelines import *\n"
   ]
  },
  {
   "cell_type": "markdown",
   "metadata": {},
   "source": [
    "## Fetch dataset, prepare training and testing sets, generate distorted sets"
   ]
  },
  {
   "cell_type": "code",
   "execution_count": 2,
   "metadata": {},
   "outputs": [
    {
     "name": "stderr",
     "output_type": "stream",
     "text": [
      "c:\\Users\\jawor\\AppData\\Local\\Programs\\Python\\Python310\\lib\\site-packages\\sklearn\\datasets\\_openml.py:968: FutureWarning: The default value of `parser` will change from `'liac-arff'` to `'auto'` in 1.4. You can set `parser='auto'` to silence this warning. Therefore, an `ImportError` will be raised from 1.4 if the dataset is dense and pandas is not installed. Note that the pandas parser may return different data types. See the Notes Section in fetch_openml's API doc for details.\n",
      "  warn(\n"
     ]
    },
    {
     "name": "stdout",
     "output_type": "stream",
     "text": [
      "X shape: (70000, 784), y shape: (70000,)\n",
      "X_train shape: (1000, 28, 28), y_train shape: (1000,)\n",
      "X_test shape: (300, 28, 28), y_test shape: (300,)\n"
     ]
    }
   ],
   "source": [
    "# fetch data, prepare for pipeline and test models\n",
    "\n",
    "from sklearn.datasets import fetch_openml \n",
    "import numpy as np\n",
    "from sklearn.model_selection import train_test_split\n",
    "\n",
    "X, y = fetch_openml(\"mnist_784\", version=1, return_X_y=True, as_frame=False)\n",
    "print(f\"X shape: {X.shape}, y shape: {y.shape}\")\n",
    "train_size, test_size = 1000, 300 # Reshape to (n_samples, n_pixels_x, n_pixels_y) \n",
    "X = X.reshape((-1, 28, 28)) \n",
    "X_train, X_test, y_train, y_test = train_test_split( X, y, train_size=train_size, test_size=test_size, stratify=y, random_state=666 ) \n",
    "print(f\"X_train shape: {X_train.shape}, y_train shape: {y_train.shape}\") \n",
    "print(f\"X_test shape: {X_test.shape}, y_test shape: {y_test.shape}\")\n",
    "\n",
    "\n",
    "# mnist comes with string labels, we need to convert them to int\n",
    "y_train = y_train.astype(int)\n",
    "y_test = y_test.astype(int)\n"
   ]
  },
  {
   "cell_type": "code",
   "execution_count": 3,
   "metadata": {},
   "outputs": [
    {
     "name": "stderr",
     "output_type": "stream",
     "text": [
      "C:\\Users\\jawor\\AppData\\Local\\Temp\\ipykernel_12216\\3764725209.py:4: FutureWarning: `seed` is a deprecated argument name for `random_noise`. It will be removed in version 0.23. Please use `rng` instead.\n",
      "  X_train_noisy = random_noise(X_train, mode=\"s&p\",amount=0.05, seed=666)\n",
      "C:\\Users\\jawor\\AppData\\Local\\Temp\\ipykernel_12216\\3764725209.py:5: FutureWarning: `seed` is a deprecated argument name for `random_noise`. It will be removed in version 0.23. Please use `rng` instead.\n",
      "  X_test_noisy = random_noise(X_test, mode=\"s&p\",amount=0.05, seed=666)\n"
     ]
    },
    {
     "data": {
      "text/plain": [
       "Text(0.5, 1.0, 'Noisy Image with Random Noise')"
      ]
     },
     "execution_count": 3,
     "metadata": {},
     "output_type": "execute_result"
    },
    {
     "data": {
      "image/png": "[encoded data removed]",
      "text/plain": [
       "<Figure size 1500x500 with 3 Axes>"
      ]
     },
     "metadata": {},
     "output_type": "display_data"
    }
   ],
   "source": [
    "# distort X_train and X_test a little bit not using giotto\n",
    "import matplotlib.pyplot as plt\n",
    "from skimage.util import random_noise\n",
    "X_train_noisy = random_noise(X_train, mode=\"s&p\",amount=0.05, seed=666)\n",
    "X_test_noisy = random_noise(X_test, mode=\"s&p\",amount=0.05, seed=666)\n",
    "\n",
    "# generate random noise matrix of size X_train_noisy.shape and X_test_noisy.shape but without original image\n",
    "\n",
    "X_train_noisy_random = np.random.rand(*X_train_noisy.shape)\n",
    "X_test_noisy_random = np.random.rand(*X_test_noisy.shape)\n",
    "\n",
    "# for each image in X_train_noisy and X_test_noisy, we will add the random noise matrix to the image\n",
    "\n",
    "X_train_noisy_random = X_train_noisy + X_train_noisy_random\n",
    "X_test_noisy_random = X_test_noisy + 0.5*X_test_noisy_random\n",
    "\n",
    "# plot the original image, the noisy image and the noisy image with random noise\n",
    "\n",
    "fig, ax = plt.subplots(1, 3, figsize=(15, 5))\n",
    "ax[0].imshow(X_test[5], cmap=\"gray\")\n",
    "ax[0].set_title(\"Original Image\")\n",
    "ax[1].imshow(X_test_noisy[5], cmap=\"gray\")\n",
    "ax[1].set_title(\"Noisy Image\")\n",
    "ax[2].imshow(X_test_noisy_random[5], cmap=\"gray\")\n",
    "ax[2].set_title(\"Noisy Image with Random Noise\")\n"
   ]
  },
  {
   "cell_type": "markdown",
   "metadata": {},
   "source": [
    "## Load TDA and Vector-stitching pipelines "
   ]
  },
  {
   "cell_type": "code",
   "execution_count": 4,
   "metadata": {},
   "outputs": [],
   "source": [
    "# load pipelines \n",
    "\n",
    "tda_pipeline = TDA_PI34_Pipeline()\n",
    "vector_stitching_pipeline, tda_union = VECTOR_STITCHING_PI_Pipeline()\n"
   ]
  },
  {
   "cell_type": "markdown",
   "metadata": {},
   "source": [
    "## Transform raw data to persistance images and stitched RAW-PI images"
   ]
  },
  {
   "cell_type": "code",
   "execution_count": 5,
   "metadata": {},
   "outputs": [],
   "source": [
    "# clean data\n",
    "\n",
    "X_train_clean_tda = tda_pipeline.fit_transform(X_train)\n",
    "X_test_clean_tda = tda_pipeline.transform(X_test)\n",
    "\n",
    "\n",
    "# distorted data\n",
    "X_train_noisy_tda = tda_pipeline.fit_transform(X_train_noisy_random)\n",
    "X_test_noisy_tda = tda_pipeline.transform(X_test_noisy_random)\n"
   ]
  },
  {
   "cell_type": "code",
   "execution_count": 6,
   "metadata": {},
   "outputs": [],
   "source": [
    "\n",
    "#important for initializing Binarizer\n",
    "#X_training = tda_union.fit(X_train)\n",
    "\n",
    "#clean data\n",
    "X_train_clean_vector_stitching = vector_stitching_pipeline.fit_transform(X_train)\n",
    "X_test_clean_vector_stitching = vector_stitching_pipeline.transform(X_test)\n",
    "\n",
    "# distorted data\n",
    "X_train_noisy_vector_stitching = vector_stitching_pipeline.fit_transform(X_train_noisy_random)\n",
    "X_test_noisy_vector_stitching = vector_stitching_pipeline.transform(X_test_noisy_random)\n"
   ]
  },
  {
   "cell_type": "code",
   "execution_count": 7,
   "metadata": {},
   "outputs": [
    {
     "name": "stdout",
     "output_type": "stream",
     "text": [
      "X_train_clean_tda_good shape: (1000, 28, 28, 34), X_test_clean_tda_good shape: (300, 28, 28, 34)\n",
      "X_train_noisy_tda_good shape: (1000, 28, 28, 34), X_test_noisy_tda_good shape: (300, 28, 28, 34)\n",
      "X_train_clean_vector_stitching_good shape: (1000, 56, 28, 34), X_test_clean_vector_stitching_good shape: (300, 56, 28, 34)\n",
      "X_train_noisy_vector_stitching_good shape: (1000, 56, 28, 34), X_test_noisy_vector_stitching_good shape: (300, 56, 28, 34)\n"
     ]
    }
   ],
   "source": [
    "# this needs to be integrated into pipeline, transposing the data to fit the input shape of the model\n",
    "\n",
    "# normal tda\n",
    "X_train_clean_tda_good = np.transpose(X_train_clean_tda, (0, 3, 2, 1))\n",
    "X_test_clean_tda_good = np.transpose(X_test_clean_tda, (0, 3, 2, 1))\n",
    "\n",
    "X_train_noisy_tda_good = np.transpose(X_train_noisy_tda, (0, 3, 2, 1))\n",
    "X_test_noisy_tda_good = np.transpose(X_test_noisy_tda, (0, 3, 2, 1))\n",
    "\n",
    "#stitched\n",
    "\n",
    "X_train_clean_vector_stitching_good = np.transpose(X_train_clean_vector_stitching, (0, 3, 2, 1))\n",
    "X_test_clean_vector_stitching_good = np.transpose(X_test_clean_vector_stitching, (0, 3, 2, 1))\n",
    "\n",
    "X_train_noisy_vector_stitching_good = np.transpose(X_train_noisy_vector_stitching, (0, 3, 2, 1))\n",
    "X_test_noisy_vector_stitching_good = np.transpose(X_test_noisy_vector_stitching, (0, 3, 2, 1))\n",
    "\n",
    "# shapes\n",
    "print(f\"X_train_clean_tda_good shape: {X_train_clean_tda_good.shape}, X_test_clean_tda_good shape: {X_test_clean_tda_good.shape}\")\n",
    "print(f\"X_train_noisy_tda_good shape: {X_train_noisy_tda_good.shape}, X_test_noisy_tda_good shape: {X_test_noisy_tda_good.shape}\")\n",
    "print(f\"X_train_clean_vector_stitching_good shape: {X_train_clean_vector_stitching_good.shape}, X_test_clean_vector_stitching_good shape: {X_test_clean_vector_stitching_good.shape}\")\n",
    "print(f\"X_train_noisy_vector_stitching_good shape: {X_train_noisy_vector_stitching_good.shape}, X_test_noisy_vector_stitching_good shape: {X_test_noisy_vector_stitching_good.shape}\")\n",
    "\n"
   ]
  },
  {
   "cell_type": "markdown",
   "metadata": {},
   "source": [
    "# Initialize models"
   ]
  },
  {
   "cell_type": "code",
   "execution_count": 8,
   "metadata": {},
   "outputs": [
    {
     "name": "stdout",
     "output_type": "stream",
     "text": [
      "WARNING:tensorflow:From c:\\Users\\jawor\\AppData\\Local\\Programs\\Python\\Python310\\lib\\site-packages\\keras\\src\\backend.py:873: The name tf.get_default_graph is deprecated. Please use tf.compat.v1.get_default_graph instead.\n",
      "\n",
      "WARNING:tensorflow:From c:\\Users\\jawor\\AppData\\Local\\Programs\\Python\\Python310\\lib\\site-packages\\keras\\src\\layers\\pooling\\max_pooling2d.py:161: The name tf.nn.max_pool is deprecated. Please use tf.nn.max_pool2d instead.\n",
      "\n",
      "WARNING:tensorflow:From c:\\Users\\jawor\\AppData\\Local\\Programs\\Python\\Python310\\lib\\site-packages\\keras\\src\\optimizers\\__init__.py:309: The name tf.train.Optimizer is deprecated. Please use tf.compat.v1.train.Optimizer instead.\n",
      "\n"
     ]
    }
   ],
   "source": [
    "# models\n",
    "\n",
    "raw_model = Raw_Model() # cnn models working on raw images\n",
    "dummy_model = Dummy_Model() # fully dense model working on raw images\n",
    "tda_model = TDA_PI34_Model() # cnn model working on persistance images\n",
    "vector_stitching_model = VECTOR_STITCHING_PI_Model() # cnn model working on stitched raw and PI images\n"
   ]
  },
  {
   "cell_type": "markdown",
   "metadata": {},
   "source": [
    "## Fitting and validating models\n",
    "\n",
    "All models are trained on clean data, and then validated on only distorted data (look up 2nd paragraph to see plotted example images)"
   ]
  },
  {
   "cell_type": "code",
   "execution_count": 9,
   "metadata": {},
   "outputs": [
    {
     "name": "stdout",
     "output_type": "stream",
     "text": [
      "Epoch 1/20\n",
      "WARNING:tensorflow:From c:\\Users\\jawor\\AppData\\Local\\Programs\\Python\\Python310\\lib\\site-packages\\keras\\src\\utils\\tf_utils.py:492: The name tf.ragged.RaggedTensorValue is deprecated. Please use tf.compat.v1.ragged.RaggedTensorValue instead.\n",
      "\n",
      "WARNING:tensorflow:From c:\\Users\\jawor\\AppData\\Local\\Programs\\Python\\Python310\\lib\\site-packages\\keras\\src\\engine\\base_layer_utils.py:384: The name tf.executing_eagerly_outside_functions is deprecated. Please use tf.compat.v1.executing_eagerly_outside_functions instead.\n",
      "\n",
      "100/100 [==============================] - 3s 13ms/step - loss: 1.4258 - accuracy: 0.5520 - val_loss: 0.6448 - val_accuracy: 0.8333\n",
      "Epoch 2/20\n",
      "100/100 [==============================] - 1s 9ms/step - loss: 0.6006 - accuracy: 0.8300 - val_loss: 0.4357 - val_accuracy: 0.8800\n",
      "Epoch 3/20\n",
      "100/100 [==============================] - 1s 9ms/step - loss: 0.3931 - accuracy: 0.8960 - val_loss: 0.3682 - val_accuracy: 0.9100\n",
      "Epoch 4/20\n",
      "100/100 [==============================] - 1s 9ms/step - loss: 0.2993 - accuracy: 0.9220 - val_loss: 0.2871 - val_accuracy: 0.9100\n",
      "Epoch 5/20\n",
      "100/100 [==============================] - 1s 9ms/step - loss: 0.2280 - accuracy: 0.9290 - val_loss: 0.4182 - val_accuracy: 0.9067\n",
      "Epoch 6/20\n",
      "100/100 [==============================] - 1s 9ms/step - loss: 0.2568 - accuracy: 0.9210 - val_loss: 0.3776 - val_accuracy: 0.9100\n",
      "Epoch 7/20\n",
      "100/100 [==============================] - 1s 9ms/step - loss: 0.1623 - accuracy: 0.9430 - val_loss: 0.3997 - val_accuracy: 0.9133\n",
      "Epoch 8/20\n",
      "100/100 [==============================] - 1s 10ms/step - loss: 0.1814 - accuracy: 0.9440 - val_loss: 0.4594 - val_accuracy: 0.8900\n",
      "Epoch 9/20\n",
      "100/100 [==============================] - 1s 12ms/step - loss: 0.1285 - accuracy: 0.9540 - val_loss: 0.4527 - val_accuracy: 0.8967\n",
      "Epoch 10/20\n",
      "100/100 [==============================] - 1s 12ms/step - loss: 0.0912 - accuracy: 0.9700 - val_loss: 0.5795 - val_accuracy: 0.8833\n",
      "Epoch 11/20\n",
      "100/100 [==============================] - 1s 13ms/step - loss: 0.0790 - accuracy: 0.9760 - val_loss: 0.5592 - val_accuracy: 0.8800\n",
      "Epoch 12/20\n",
      "100/100 [==============================] - 1s 13ms/step - loss: 0.0515 - accuracy: 0.9810 - val_loss: 0.6207 - val_accuracy: 0.9033\n",
      "Epoch 13/20\n",
      "100/100 [==============================] - 1s 12ms/step - loss: 0.0946 - accuracy: 0.9650 - val_loss: 0.4983 - val_accuracy: 0.9133\n",
      "Epoch 14/20\n",
      "100/100 [==============================] - 1s 12ms/step - loss: 0.1565 - accuracy: 0.9520 - val_loss: 0.4132 - val_accuracy: 0.9133\n",
      "Epoch 15/20\n",
      "100/100 [==============================] - 1s 12ms/step - loss: 0.0698 - accuracy: 0.9760 - val_loss: 0.4687 - val_accuracy: 0.9267\n",
      "Epoch 16/20\n",
      "100/100 [==============================] - 1s 12ms/step - loss: 0.0788 - accuracy: 0.9740 - val_loss: 0.3604 - val_accuracy: 0.9233\n",
      "Epoch 17/20\n",
      "100/100 [==============================] - 1s 12ms/step - loss: 0.0606 - accuracy: 0.9800 - val_loss: 0.5068 - val_accuracy: 0.9267\n",
      "Epoch 18/20\n",
      "100/100 [==============================] - 1s 12ms/step - loss: 0.0565 - accuracy: 0.9810 - val_loss: 0.5545 - val_accuracy: 0.9100\n",
      "Epoch 19/20\n",
      "100/100 [==============================] - 1s 12ms/step - loss: 0.0511 - accuracy: 0.9840 - val_loss: 0.5028 - val_accuracy: 0.9067\n",
      "Epoch 20/20\n",
      "100/100 [==============================] - 1s 13ms/step - loss: 0.0227 - accuracy: 0.9960 - val_loss: 0.4544 - val_accuracy: 0.9267\n"
     ]
    },
    {
     "data": {
      "text/plain": [
       "<keras.src.callbacks.History at 0x1f3baa277f0>"
      ]
     },
     "execution_count": 9,
     "metadata": {},
     "output_type": "execute_result"
    }
   ],
   "source": [
    "#TDA model\n",
    "\n",
    "tda_model.model.fit(X_train_clean_tda_good, y_train, epochs=20, batch_size=10, validation_data=(X_test_clean_tda_good, y_test))"
   ]
  },
  {
   "cell_type": "code",
   "execution_count": 10,
   "metadata": {},
   "outputs": [
    {
     "name": "stdout",
     "output_type": "stream",
     "text": [
      "Epoch 1/20\n",
      "100/100 [==============================] - 2s 10ms/step - loss: 3.0814 - accuracy: 0.5300 - val_loss: 0.5971 - val_accuracy: 0.8067\n",
      "Epoch 2/20\n",
      "100/100 [==============================] - 1s 7ms/step - loss: 0.6454 - accuracy: 0.7860 - val_loss: 0.3966 - val_accuracy: 0.8733\n",
      "Epoch 3/20\n",
      "100/100 [==============================] - 1s 9ms/step - loss: 0.4104 - accuracy: 0.8700 - val_loss: 0.4311 - val_accuracy: 0.8567\n",
      "Epoch 4/20\n",
      "100/100 [==============================] - 1s 9ms/step - loss: 0.2837 - accuracy: 0.9120 - val_loss: 0.4472 - val_accuracy: 0.8500\n",
      "Epoch 5/20\n",
      "100/100 [==============================] - 1s 10ms/step - loss: 0.2202 - accuracy: 0.9280 - val_loss: 0.3218 - val_accuracy: 0.9267\n",
      "Epoch 6/20\n",
      "100/100 [==============================] - 1s 9ms/step - loss: 0.1478 - accuracy: 0.9480 - val_loss: 0.3156 - val_accuracy: 0.8967\n",
      "Epoch 7/20\n",
      "100/100 [==============================] - 1s 9ms/step - loss: 0.1287 - accuracy: 0.9470 - val_loss: 0.2015 - val_accuracy: 0.9300\n",
      "Epoch 8/20\n",
      "100/100 [==============================] - 1s 9ms/step - loss: 0.0907 - accuracy: 0.9730 - val_loss: 0.2815 - val_accuracy: 0.9267\n",
      "Epoch 9/20\n",
      "100/100 [==============================] - 1s 10ms/step - loss: 0.0632 - accuracy: 0.9810 - val_loss: 0.3437 - val_accuracy: 0.9133\n",
      "Epoch 10/20\n",
      "100/100 [==============================] - 1s 9ms/step - loss: 0.0925 - accuracy: 0.9740 - val_loss: 0.3215 - val_accuracy: 0.9200\n",
      "Epoch 11/20\n",
      "100/100 [==============================] - 1s 9ms/step - loss: 0.0681 - accuracy: 0.9780 - val_loss: 0.2893 - val_accuracy: 0.9200\n",
      "Epoch 12/20\n",
      "100/100 [==============================] - 1s 9ms/step - loss: 0.0482 - accuracy: 0.9790 - val_loss: 0.3452 - val_accuracy: 0.9100\n",
      "Epoch 13/20\n",
      "100/100 [==============================] - 1s 11ms/step - loss: 0.0656 - accuracy: 0.9780 - val_loss: 0.2714 - val_accuracy: 0.9167\n",
      "Epoch 14/20\n",
      "100/100 [==============================] - 1s 10ms/step - loss: 0.0632 - accuracy: 0.9790 - val_loss: 0.2236 - val_accuracy: 0.9333\n",
      "Epoch 15/20\n",
      "100/100 [==============================] - 1s 9ms/step - loss: 0.0480 - accuracy: 0.9830 - val_loss: 0.2241 - val_accuracy: 0.9367\n",
      "Epoch 16/20\n",
      "100/100 [==============================] - 1s 9ms/step - loss: 0.0556 - accuracy: 0.9810 - val_loss: 0.2903 - val_accuracy: 0.9200\n",
      "Epoch 17/20\n",
      "100/100 [==============================] - 1s 10ms/step - loss: 0.0467 - accuracy: 0.9850 - val_loss: 0.2160 - val_accuracy: 0.9467\n",
      "Epoch 18/20\n",
      "100/100 [==============================] - 1s 9ms/step - loss: 0.1009 - accuracy: 0.9760 - val_loss: 0.1618 - val_accuracy: 0.9533\n",
      "Epoch 19/20\n",
      "100/100 [==============================] - 1s 9ms/step - loss: 0.0748 - accuracy: 0.9790 - val_loss: 0.4350 - val_accuracy: 0.9133\n",
      "Epoch 20/20\n",
      "100/100 [==============================] - 1s 9ms/step - loss: 0.0968 - accuracy: 0.9730 - val_loss: 0.2892 - val_accuracy: 0.9300\n"
     ]
    },
    {
     "data": {
      "text/plain": [
       "<keras.src.callbacks.History at 0x1f3c599e9e0>"
      ]
     },
     "execution_count": 10,
     "metadata": {},
     "output_type": "execute_result"
    }
   ],
   "source": [
    "# RAW model\n",
    "raw_model.model.fit(X_train, y_train, epochs=20, batch_size=10, validation_data=(X_test, y_test))"
   ]
  },
  {
   "cell_type": "code",
   "execution_count": 11,
   "metadata": {},
   "outputs": [
    {
     "name": "stdout",
     "output_type": "stream",
     "text": [
      "Epoch 1/20\n",
      "100/100 [==============================] - 3s 16ms/step - loss: 1.0701 - accuracy: 0.6460 - val_loss: 0.3108 - val_accuracy: 0.9100\n",
      "Epoch 2/20\n",
      "100/100 [==============================] - 1s 13ms/step - loss: 0.4196 - accuracy: 0.8850 - val_loss: 0.3371 - val_accuracy: 0.8967\n",
      "Epoch 3/20\n",
      "100/100 [==============================] - 2s 15ms/step - loss: 0.2925 - accuracy: 0.9110 - val_loss: 0.1528 - val_accuracy: 0.9633\n",
      "Epoch 4/20\n",
      "100/100 [==============================] - 2s 18ms/step - loss: 0.1804 - accuracy: 0.9500 - val_loss: 0.1468 - val_accuracy: 0.9567\n",
      "Epoch 5/20\n",
      "100/100 [==============================] - 2s 18ms/step - loss: 0.1729 - accuracy: 0.9470 - val_loss: 0.1652 - val_accuracy: 0.9433\n",
      "Epoch 6/20\n",
      "100/100 [==============================] - 2s 18ms/step - loss: 0.1258 - accuracy: 0.9650 - val_loss: 0.1837 - val_accuracy: 0.9500\n",
      "Epoch 7/20\n",
      "100/100 [==============================] - 2s 19ms/step - loss: 0.1043 - accuracy: 0.9680 - val_loss: 0.1560 - val_accuracy: 0.9567\n",
      "Epoch 8/20\n",
      "100/100 [==============================] - 2s 18ms/step - loss: 0.0897 - accuracy: 0.9750 - val_loss: 0.1531 - val_accuracy: 0.9533\n",
      "Epoch 9/20\n",
      "100/100 [==============================] - 2s 18ms/step - loss: 0.0964 - accuracy: 0.9690 - val_loss: 0.1443 - val_accuracy: 0.9633\n",
      "Epoch 10/20\n",
      "100/100 [==============================] - 2s 18ms/step - loss: 0.0899 - accuracy: 0.9770 - val_loss: 0.1291 - val_accuracy: 0.9533\n",
      "Epoch 11/20\n",
      "100/100 [==============================] - 2s 18ms/step - loss: 0.0355 - accuracy: 0.9890 - val_loss: 0.1264 - val_accuracy: 0.9700\n",
      "Epoch 12/20\n",
      "100/100 [==============================] - 2s 19ms/step - loss: 0.0365 - accuracy: 0.9880 - val_loss: 0.1968 - val_accuracy: 0.9533\n",
      "Epoch 13/20\n",
      "100/100 [==============================] - 2s 18ms/step - loss: 0.0649 - accuracy: 0.9780 - val_loss: 0.1405 - val_accuracy: 0.9667\n",
      "Epoch 14/20\n",
      "100/100 [==============================] - 2s 19ms/step - loss: 0.0412 - accuracy: 0.9870 - val_loss: 0.1185 - val_accuracy: 0.9667\n",
      "Epoch 15/20\n",
      "100/100 [==============================] - 2s 21ms/step - loss: 0.0520 - accuracy: 0.9810 - val_loss: 0.1191 - val_accuracy: 0.9700\n",
      "Epoch 16/20\n",
      "100/100 [==============================] - 2s 23ms/step - loss: 0.0925 - accuracy: 0.9670 - val_loss: 0.1367 - val_accuracy: 0.9600\n",
      "Epoch 17/20\n",
      "100/100 [==============================] - 2s 19ms/step - loss: 0.0417 - accuracy: 0.9860 - val_loss: 0.1426 - val_accuracy: 0.9733\n",
      "Epoch 18/20\n",
      "100/100 [==============================] - 2s 17ms/step - loss: 0.0158 - accuracy: 0.9970 - val_loss: 0.1200 - val_accuracy: 0.9733\n",
      "Epoch 19/20\n",
      "100/100 [==============================] - 2s 18ms/step - loss: 0.0363 - accuracy: 0.9880 - val_loss: 0.1135 - val_accuracy: 0.9700\n",
      "Epoch 20/20\n",
      "100/100 [==============================] - 2s 18ms/step - loss: 0.0382 - accuracy: 0.9890 - val_loss: 0.1497 - val_accuracy: 0.9767\n"
     ]
    },
    {
     "data": {
      "text/plain": [
       "<keras.src.callbacks.History at 0x1f3c5b5e980>"
      ]
     },
     "execution_count": 11,
     "metadata": {},
     "output_type": "execute_result"
    }
   ],
   "source": [
    "#Vector stitching model\n",
    "\n",
    "vector_stitching_model.model.fit(X_train_clean_vector_stitching_good, y_train, epochs=20, batch_size=10, validation_data=(X_test_clean_vector_stitching_good, y_test))"
   ]
  },
  {
   "cell_type": "code",
   "execution_count": null,
   "metadata": {},
   "outputs": [],
   "source": []
  }
 ],
 "metadata": {
  "kernelspec": {
   "display_name": "Python 3",
   "language": "python",
   "name": "python3"
  },
  "language_info": {
   "codemirror_mode": {
    "name": "ipython",
    "version": 3
   },
   "file_extension": ".py",
   "mimetype": "text/x-python",
   "name": "python",
   "nbconvert_exporter": "python",
   "pygments_lexer": "ipython3",
   "version": "3.10.11"
  }
 },
 "nbformat": 4,
 "nbformat_minor": 2
}
