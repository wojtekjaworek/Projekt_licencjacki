{
 "cells": [
  {
   "cell_type": "markdown",
   "metadata": {},
   "source": [
    "## Import packages and modules"
   ]
  },
  {
   "cell_type": "code",
   "execution_count": 1,
   "metadata": {},
   "outputs": [],
   "source": [
    "from models.tda_models import TDA_PI34_Model, TDA_PI42_Model, VECTOR_STITCHING_PI_Model_34, VECTOR_STITCHING_PI_Model_42\n",
    "from models.raw_models import Raw_Model, Dummy_Model\n",
    "from tda_pipelines import *\n"
   ]
  },
  {
   "cell_type": "markdown",
   "metadata": {},
   "source": [
    "## Fetch dataset, prepare training and testing sets, generate distorted sets"
   ]
  },
  {
   "cell_type": "code",
   "execution_count": 2,
   "metadata": {},
   "outputs": [
    {
     "name": "stdout",
     "output_type": "stream",
     "text": [
      "X shape: (70000, 784), y shape: (70000,)\n",
      "X_train shape: (1000, 28, 28), y_train shape: (1000,)\n",
      "X_test shape: (300, 28, 28), y_test shape: (300,)\n"
     ]
    }
   ],
   "source": [
    "# fetch data, prepare for pipeline and test models\n",
    "\n",
    "from sklearn.datasets import fetch_openml \n",
    "import numpy as np\n",
    "from sklearn.model_selection import train_test_split\n",
    "\n",
    "X, y = fetch_openml(\"mnist_784\", version=1, return_X_y=True, as_frame=False)\n",
    "print(f\"X shape: {X.shape}, y shape: {y.shape}\")\n",
    "train_size, test_size = 1000, 300 # Reshape to (n_samples, n_pixels_x, n_pixels_y) \n",
    "X = X.reshape((-1, 28, 28)) \n",
    "X_train, X_test, y_train, y_test = train_test_split( X, y, train_size=train_size, test_size=test_size, stratify=y, random_state=666 ) \n",
    "print(f\"X_train shape: {X_train.shape}, y_train shape: {y_train.shape}\") \n",
    "print(f\"X_test shape: {X_test.shape}, y_test shape: {y_test.shape}\")\n",
    "\n",
    "\n",
    "# mnist comes with string labels, we need to convert them to int\n",
    "y_train = y_train.astype(int)\n",
    "y_test = y_test.astype(int)\n"
   ]
  },
  {
   "cell_type": "code",
   "execution_count": 14,
   "metadata": {},
   "outputs": [
    {
     "data": {
      "text/plain": [
       "Text(0.5, 1.0, 'Noisy Image with Random Noise')"
      ]
     },
     "execution_count": 14,
     "metadata": {},
     "output_type": "execute_result"
    },
    {
     "data": {
      "image/png": "[encoded data removed]",
      "text/plain": [
       "<Figure size 1080x360 with 3 Axes>"
      ]
     },
     "metadata": {
      "needs_background": "light"
     },
     "output_type": "display_data"
    }
   ],
   "source": [
    "# distort X_train and X_test a little bit not using giotto\n",
    "import matplotlib.pyplot as plt\n",
    "import tensorflow as tf\n",
    "from skimage.util import random_noise\n",
    "X_train_noisy = random_noise(X_train, mode=\"s&p\",amount=0.05, seed=666)\n",
    "X_test_noisy = random_noise(X_test, mode=\"s&p\",amount=0.05, seed=666)\n",
    "\n",
    "# generate random noise matrix of size X_train_noisy.shape and X_test_noisy.shape but without original image\n",
    "\n",
    "X_train_noisy_random = np.random.rand(*X_train_noisy.shape)\n",
    "X_test_noisy_random = np.random.rand(*X_test_noisy.shape)\n",
    "\n",
    "# for each image in X_train_noisy and X_test_noisy, we will add the random noise matrix to the image\n",
    "\n",
    "X_train_noisy_random = X_train_noisy + X_train_noisy_random\n",
    "X_test_noisy_random = X_test_noisy + 0.5*X_test_noisy_random\n",
    "\n",
    "# plot the original image, the noisy image and the noisy image with random noise\n",
    "\n",
    "fig, ax = plt.subplots(1, 3, figsize=(15, 5))\n",
    "ax[0].imshow(X_test[5], cmap=\"gray\")\n",
    "ax[0].set_title(\"Original Image\")\n",
    "ax[1].imshow(X_test_noisy[5], cmap=\"gray\")\n",
    "ax[1].set_title(\"Noisy Image\")\n",
    "ax[2].imshow(X_test_noisy_random[5], cmap=\"gray\")\n",
    "ax[2].set_title(\"Noisy Image with Random Noise\")\n"
   ]
  },
  {
   "cell_type": "markdown",
   "metadata": {},
   "source": [
    "## Load TDA and Vector-stitching pipelines "
   ]
  },
  {
   "cell_type": "code",
   "execution_count": 4,
   "metadata": {},
   "outputs": [],
   "source": [
    "# load pipelines \n",
    "\n",
    "tda_pipeline_34 = TDA_PI34_Pipeline()\n",
    "tda_pipeline_42 = TDA_PI42_Pipeline()\n",
    "vector_stitching_pipeline_34, tda_union_34 = VECTOR_STITCHING_PI_Pipeline_34()\n",
    "vector_stitching_pipeline_42, tda_union_42 = VECTOR_STITCHING_PI_Pipeline_42()\n"
   ]
  },
  {
   "cell_type": "markdown",
   "metadata": {},
   "source": [
    "## Transform raw data to persistance images and stitched RAW-PI images"
   ]
  },
  {
   "cell_type": "code",
   "execution_count": 5,
   "metadata": {},
   "outputs": [],
   "source": [
    "# clean data\n",
    "\n",
    "X_train_clean_tda_34 = tda_pipeline_34.fit_transform(X_train)\n",
    "X_test_clean_tda_34 = tda_pipeline_34.transform(X_test)\n",
    "X_train_clean_tda_42 = tda_pipeline_42.fit_transform(X_train)\n",
    "X_test_clean_tda_42 = tda_pipeline_42.transform(X_test)\n",
    "\n",
    "# distorted data\n",
    "X_train_noisy_tda_34 = tda_pipeline_34.fit_transform(X_train_noisy_random)\n",
    "X_test_noisy_tda_34 = tda_pipeline_34.transform(X_test_noisy_random)\n",
    "X_train_noisy_tda_42 = tda_pipeline_42.fit_transform(X_train_noisy_random)\n",
    "X_test_noisy_tda_42 = tda_pipeline_42.transform(X_test_noisy_random)\n"
   ]
  },
  {
   "cell_type": "code",
   "execution_count": 6,
   "metadata": {},
   "outputs": [],
   "source": [
    "\n",
    "#important for initializing Binarizer\n",
    "#X_training = tda_union.fit(X_train)\n",
    "\n",
    "#clean data\n",
    "X_train_clean_vector_stitching_34 = vector_stitching_pipeline_34.fit_transform(X_train)\n",
    "X_test_clean_vector_stitching_34 = vector_stitching_pipeline_34.transform(X_test)\n",
    "X_train_clean_vector_stitching_42 = vector_stitching_pipeline_42.fit_transform(X_train)\n",
    "X_test_clean_vector_stitching_42 = vector_stitching_pipeline_42.transform(X_test)\n",
    "\n",
    "# distorted data\n",
    "X_train_noisy_vector_stitching_34 = vector_stitching_pipeline_34.fit_transform(X_train_noisy_random)\n",
    "X_test_noisy_vector_stitching_34 = vector_stitching_pipeline_34.transform(X_test_noisy_random)\n",
    "X_train_noisy_vector_stitching_42 = vector_stitching_pipeline_42.fit_transform(X_train_noisy_random)\n",
    "X_test_noisy_vector_stitching_42 = vector_stitching_pipeline_42.transform(X_test_noisy_random)\n"
   ]
  },
  {
   "cell_type": "code",
   "execution_count": 7,
   "metadata": {},
   "outputs": [
    {
     "name": "stdout",
     "output_type": "stream",
     "text": [
      "X_train_clean_tda_good shape: (1000, 28, 28, 34), X_test_clean_tda_good shape: (300, 28, 28, 34)\n",
      "X_train_noisy_tda_good shape: (1000, 28, 28, 34), X_test_noisy_tda_good shape: (300, 28, 28, 34)\n",
      "X_train_clean_vector_stitching_good shape: (1000, 56, 28, 34), X_test_clean_vector_stitching_good shape: (300, 56, 28, 34)\n",
      "X_train_noisy_vector_stitching_good shape: (1000, 56, 28, 34), X_test_noisy_vector_stitching_good shape: (300, 56, 28, 34)\n",
      "X_train_clean_tda_good shape: (1000, 28, 28, 42), X_test_clean_tda_good shape: (300, 28, 28, 42)\n",
      "X_train_noisy_tda_good shape: (1000, 28, 28, 42), X_test_noisy_tda_good shape: (300, 28, 28, 42)\n",
      "X_train_clean_vector_stitching_good shape: (1000, 56, 28, 42), X_test_clean_vector_stitching_good shape: (300, 56, 28, 42)\n",
      "X_train_noisy_vector_stitching_good shape: (1000, 56, 28, 42), X_test_noisy_vector_stitching_good shape: (300, 56, 28, 42)\n"
     ]
    }
   ],
   "source": [
    "# this needs to be integrated into pipeline, transposing the data to fit the input shape of the model\n",
    "\n",
    "# normal tda\n",
    "X_train_clean_tda_good_34 = np.transpose(X_train_clean_tda_34, (0, 3, 2, 1))\n",
    "X_test_clean_tda_good_34 = np.transpose(X_test_clean_tda_34, (0, 3, 2, 1))\n",
    "\n",
    "X_train_noisy_tda_good_34 = np.transpose(X_train_noisy_tda_34, (0, 3, 2, 1))\n",
    "X_test_noisy_tda_good_34 = np.transpose(X_test_noisy_tda_34, (0, 3, 2, 1))\n",
    "\n",
    "X_train_clean_tda_good_42 = np.transpose(X_train_clean_tda_42, (0, 3, 2, 1))\n",
    "X_test_clean_tda_good_42 = np.transpose(X_test_clean_tda_42, (0, 3, 2, 1))\n",
    "\n",
    "X_train_noisy_tda_good_42 = np.transpose(X_train_noisy_tda_42, (0, 3, 2, 1))\n",
    "X_test_noisy_tda_good_42 = np.transpose(X_test_noisy_tda_42, (0, 3, 2, 1))\n",
    "\n",
    "#stitched\n",
    "\n",
    "X_train_clean_vector_stitching_good_34 = np.transpose(X_train_clean_vector_stitching_34, (0, 3, 2, 1))\n",
    "X_test_clean_vector_stitching_good_34 = np.transpose(X_test_clean_vector_stitching_34, (0, 3, 2, 1))\n",
    "\n",
    "X_train_noisy_vector_stitching_good_34 = np.transpose(X_train_noisy_vector_stitching_34, (0, 3, 2, 1))\n",
    "X_test_noisy_vector_stitching_good_34 = np.transpose(X_test_noisy_vector_stitching_34, (0, 3, 2, 1))\n",
    "\n",
    "X_train_clean_vector_stitching_good_42 = np.transpose(X_train_clean_vector_stitching_42, (0, 3, 2, 1))\n",
    "X_test_clean_vector_stitching_good_42 = np.transpose(X_test_clean_vector_stitching_42, (0, 3, 2, 1))\n",
    "\n",
    "X_train_noisy_vector_stitching_good_42 = np.transpose(X_train_noisy_vector_stitching_42, (0, 3, 2, 1))\n",
    "X_test_noisy_vector_stitching_good_42 = np.transpose(X_test_noisy_vector_stitching_42, (0, 3, 2, 1))\n",
    "\n",
    "# shapes\n",
    "print(f\"X_train_clean_tda_good shape: {X_train_clean_tda_good_34.shape}, X_test_clean_tda_good shape: {X_test_clean_tda_good_34.shape}\")\n",
    "print(f\"X_train_noisy_tda_good shape: {X_train_noisy_tda_good_34.shape}, X_test_noisy_tda_good shape: {X_test_noisy_tda_good_34.shape}\")\n",
    "print(f\"X_train_clean_vector_stitching_good shape: {X_train_clean_vector_stitching_good_34.shape}, X_test_clean_vector_stitching_good shape: {X_test_clean_vector_stitching_good_34.shape}\")\n",
    "print(f\"X_train_noisy_vector_stitching_good shape: {X_train_noisy_vector_stitching_good_34.shape}, X_test_noisy_vector_stitching_good shape: {X_test_noisy_vector_stitching_good_34.shape}\")\n",
    "\n",
    "print(f\"X_train_clean_tda_good shape: {X_train_clean_tda_good_42.shape}, X_test_clean_tda_good shape: {X_test_clean_tda_good_42.shape}\")\n",
    "print(f\"X_train_noisy_tda_good shape: {X_train_noisy_tda_good_42.shape}, X_test_noisy_tda_good shape: {X_test_noisy_tda_good_42.shape}\")\n",
    "print(f\"X_train_clean_vector_stitching_good shape: {X_train_clean_vector_stitching_good_42.shape}, X_test_clean_vector_stitching_good shape: {X_test_clean_vector_stitching_good_42.shape}\")\n",
    "print(f\"X_train_noisy_vector_stitching_good shape: {X_train_noisy_vector_stitching_good_42.shape}, X_test_noisy_vector_stitching_good shape: {X_test_noisy_vector_stitching_good_42.shape}\")\n",
    "\n"
   ]
  },
  {
   "cell_type": "code",
   "execution_count": 8,
   "metadata": {},
   "outputs": [],
   "source": [
    "X_train_expanded, X_test_noisy_random_expanded, X_test_expanded = transform_data(X_train, X_test_noisy_random, X_test)"
   ]
  },
  {
   "cell_type": "markdown",
   "metadata": {},
   "source": [
    "# Initialize models"
   ]
  },
  {
   "cell_type": "code",
   "execution_count": 9,
   "metadata": {},
   "outputs": [],
   "source": [
    "# models\n",
    "\n",
    "raw_model = Raw_Model() # cnn models working on raw images\n",
    "dummy_model = Dummy_Model() # fully dense model working on raw images\n",
    "tda_model_34 = TDA_PI34_Model() # cnn model working on persistance images\n",
    "tda_model_42 = TDA_PI42_Model() # cnn model working on persistance images\n",
    "vector_stitching_model_34 = VECTOR_STITCHING_PI_Model_34() # cnn model working on stitched raw and PI images\n",
    "vector_stitching_model_42 = VECTOR_STITCHING_PI_Model_42() # cnn model working on stitched raw and PI images\n"
   ]
  },
  {
   "cell_type": "markdown",
   "metadata": {},
   "source": [
    "## Fitting and validating models\n",
    "\n",
    "All models are trained on clean data, and then validated on only distorted data (look up 2nd paragraph to see plotted example images)"
   ]
  },
  {
   "cell_type": "code",
   "execution_count": null,
   "metadata": {},
   "outputs": [],
   "source": [
    "tf.keras.backend.clear_session()"
   ]
  },
  {
   "cell_type": "code",
   "execution_count": 10,
   "metadata": {},
   "outputs": [
    {
     "name": "stdout",
     "output_type": "stream",
     "text": [
      "Epoch 1/20\n",
      "100/100 [==============================] - 1s 10ms/step - loss: 1.3590 - accuracy: 0.5760 - val_loss: 0.6357 - val_accuracy: 0.8067\n",
      "Epoch 2/20\n",
      "100/100 [==============================] - 1s 8ms/step - loss: 0.6317 - accuracy: 0.8300 - val_loss: 0.5694 - val_accuracy: 0.8400\n",
      "Epoch 3/20\n",
      "100/100 [==============================] - 1s 8ms/step - loss: 0.4016 - accuracy: 0.8960 - val_loss: 0.2759 - val_accuracy: 0.9167\n",
      "Epoch 4/20\n",
      "100/100 [==============================] - 1s 8ms/step - loss: 0.2982 - accuracy: 0.9190 - val_loss: 0.3462 - val_accuracy: 0.9033\n",
      "Epoch 5/20\n",
      "100/100 [==============================] - 1s 8ms/step - loss: 0.2378 - accuracy: 0.9290 - val_loss: 0.3213 - val_accuracy: 0.8967\n",
      "Epoch 6/20\n",
      "100/100 [==============================] - 1s 8ms/step - loss: 0.2453 - accuracy: 0.9250 - val_loss: 0.6148 - val_accuracy: 0.8567\n",
      "Epoch 7/20\n",
      "100/100 [==============================] - 1s 8ms/step - loss: 0.1777 - accuracy: 0.9460 - val_loss: 0.3498 - val_accuracy: 0.9133\n",
      "Epoch 8/20\n",
      "100/100 [==============================] - 1s 8ms/step - loss: 0.1661 - accuracy: 0.9470 - val_loss: 0.4376 - val_accuracy: 0.8800\n",
      "Epoch 9/20\n",
      "100/100 [==============================] - 1s 8ms/step - loss: 0.1227 - accuracy: 0.9630 - val_loss: 0.3790 - val_accuracy: 0.8967\n",
      "Epoch 10/20\n",
      "100/100 [==============================] - 1s 8ms/step - loss: 0.0977 - accuracy: 0.9750 - val_loss: 0.4798 - val_accuracy: 0.8867\n",
      "Epoch 11/20\n",
      "100/100 [==============================] - 1s 8ms/step - loss: 0.1116 - accuracy: 0.9630 - val_loss: 0.3832 - val_accuracy: 0.8967\n",
      "Epoch 12/20\n",
      "100/100 [==============================] - 1s 8ms/step - loss: 0.0731 - accuracy: 0.9780 - val_loss: 0.2891 - val_accuracy: 0.9167\n",
      "Epoch 13/20\n",
      "100/100 [==============================] - 1s 8ms/step - loss: 0.0722 - accuracy: 0.9770 - val_loss: 0.5324 - val_accuracy: 0.8767\n",
      "Epoch 14/20\n",
      "100/100 [==============================] - 1s 8ms/step - loss: 0.1377 - accuracy: 0.9540 - val_loss: 0.5171 - val_accuracy: 0.8967\n",
      "Epoch 15/20\n",
      "100/100 [==============================] - 1s 8ms/step - loss: 0.0738 - accuracy: 0.9830 - val_loss: 0.5006 - val_accuracy: 0.9067\n",
      "Epoch 16/20\n",
      "100/100 [==============================] - 1s 8ms/step - loss: 0.0645 - accuracy: 0.9820 - val_loss: 0.4361 - val_accuracy: 0.9133\n",
      "Epoch 17/20\n",
      "100/100 [==============================] - 1s 8ms/step - loss: 0.0688 - accuracy: 0.9820 - val_loss: 0.3752 - val_accuracy: 0.9200\n",
      "Epoch 18/20\n",
      "100/100 [==============================] - 1s 8ms/step - loss: 0.0688 - accuracy: 0.9820 - val_loss: 0.5413 - val_accuracy: 0.9100\n",
      "Epoch 19/20\n",
      "100/100 [==============================] - 1s 8ms/step - loss: 0.0468 - accuracy: 0.9840 - val_loss: 0.3995 - val_accuracy: 0.9133\n",
      "Epoch 20/20\n",
      "100/100 [==============================] - 1s 8ms/step - loss: 0.0172 - accuracy: 0.9920 - val_loss: 0.4427 - val_accuracy: 0.9067\n"
     ]
    },
    {
     "data": {
      "text/plain": [
       "<tensorflow.python.keras.callbacks.History at 0x237149485b0>"
      ]
     },
     "execution_count": 10,
     "metadata": {},
     "output_type": "execute_result"
    }
   ],
   "source": [
    "#TDA model\n",
    "\n",
    "tda_model_34.model.fit(X_train_clean_tda_good_34, y_train, epochs=20, batch_size=10, validation_data=(X_test_clean_tda_good_34, y_test))"
   ]
  },
  {
   "cell_type": "code",
   "execution_count": 15,
   "metadata": {},
   "outputs": [],
   "source": [
    "tf.keras.backend.clear_session()"
   ]
  },
  {
   "cell_type": "code",
   "execution_count": 17,
   "metadata": {},
   "outputs": [
    {
     "name": "stdout",
     "output_type": "stream",
     "text": [
      "Epoch 1/20\n",
      "100/100 [==============================] - 1s 10ms/step - loss: 1.7118 - accuracy: 0.4090 - val_loss: 1.1040 - val_accuracy: 0.7167\n",
      "Epoch 2/20\n",
      "100/100 [==============================] - 1s 8ms/step - loss: 0.8115 - accuracy: 0.7710 - val_loss: 0.5205 - val_accuracy: 0.8367\n",
      "Epoch 3/20\n",
      "100/100 [==============================] - 1s 8ms/step - loss: 0.5121 - accuracy: 0.8390 - val_loss: 0.4020 - val_accuracy: 0.8767\n",
      "Epoch 4/20\n",
      "100/100 [==============================] - 1s 8ms/step - loss: 0.4201 - accuracy: 0.8760 - val_loss: 0.4280 - val_accuracy: 0.8767\n",
      "Epoch 5/20\n",
      "100/100 [==============================] - 1s 9ms/step - loss: 0.3048 - accuracy: 0.9070 - val_loss: 0.3767 - val_accuracy: 0.8933\n",
      "Epoch 6/20\n",
      "100/100 [==============================] - 1s 8ms/step - loss: 0.3441 - accuracy: 0.8900 - val_loss: 0.3528 - val_accuracy: 0.9000\n",
      "Epoch 7/20\n",
      "100/100 [==============================] - 1s 9ms/step - loss: 0.2207 - accuracy: 0.9380 - val_loss: 0.4439 - val_accuracy: 0.8867\n",
      "Epoch 8/20\n",
      "100/100 [==============================] - 1s 8ms/step - loss: 0.1898 - accuracy: 0.9380 - val_loss: 0.4375 - val_accuracy: 0.8933\n",
      "Epoch 9/20\n",
      "100/100 [==============================] - 1s 8ms/step - loss: 0.1504 - accuracy: 0.9550 - val_loss: 0.4543 - val_accuracy: 0.9133\n",
      "Epoch 10/20\n",
      "100/100 [==============================] - 1s 8ms/step - loss: 0.1891 - accuracy: 0.9460 - val_loss: 0.3268 - val_accuracy: 0.9300\n",
      "Epoch 11/20\n",
      "100/100 [==============================] - 1s 8ms/step - loss: 0.1180 - accuracy: 0.9570 - val_loss: 0.3838 - val_accuracy: 0.9267\n",
      "Epoch 12/20\n",
      "100/100 [==============================] - 1s 8ms/step - loss: 0.1214 - accuracy: 0.9600 - val_loss: 0.4529 - val_accuracy: 0.9133\n",
      "Epoch 13/20\n",
      "100/100 [==============================] - 1s 8ms/step - loss: 0.0903 - accuracy: 0.9770 - val_loss: 0.4278 - val_accuracy: 0.9267\n",
      "Epoch 14/20\n",
      "100/100 [==============================] - 1s 8ms/step - loss: 0.0501 - accuracy: 0.9810 - val_loss: 0.6932 - val_accuracy: 0.8800\n",
      "Epoch 15/20\n",
      "100/100 [==============================] - 1s 8ms/step - loss: 0.0889 - accuracy: 0.9740 - val_loss: 0.5288 - val_accuracy: 0.9167\n",
      "Epoch 16/20\n",
      "100/100 [==============================] - 1s 8ms/step - loss: 0.1454 - accuracy: 0.9570 - val_loss: 0.4468 - val_accuracy: 0.9133\n",
      "Epoch 17/20\n",
      "100/100 [==============================] - 1s 8ms/step - loss: 0.0893 - accuracy: 0.9720 - val_loss: 0.4982 - val_accuracy: 0.9033\n",
      "Epoch 18/20\n",
      "100/100 [==============================] - 1s 8ms/step - loss: 0.1807 - accuracy: 0.9520 - val_loss: 0.3982 - val_accuracy: 0.9200\n",
      "Epoch 19/20\n",
      "100/100 [==============================] - 1s 8ms/step - loss: 0.0487 - accuracy: 0.9840 - val_loss: 0.3842 - val_accuracy: 0.9333\n",
      "Epoch 20/20\n",
      "100/100 [==============================] - 1s 8ms/step - loss: 0.0341 - accuracy: 0.9850 - val_loss: 0.4485 - val_accuracy: 0.9133\n"
     ]
    },
    {
     "data": {
      "text/plain": [
       "<tensorflow.python.keras.callbacks.History at 0x2371450ae50>"
      ]
     },
     "execution_count": 17,
     "metadata": {},
     "output_type": "execute_result"
    }
   ],
   "source": [
    "tda_model_42.model.fit(X_train_clean_tda_good_42, y_train, epochs=20, batch_size=10, validation_data=(X_test_clean_tda_good_42, y_test))"
   ]
  },
  {
   "cell_type": "code",
   "execution_count": 18,
   "metadata": {},
   "outputs": [],
   "source": [
    "tf.keras.backend.clear_session()"
   ]
  },
  {
   "cell_type": "code",
   "execution_count": 19,
   "metadata": {},
   "outputs": [
    {
     "name": "stdout",
     "output_type": "stream",
     "text": [
      "Epoch 1/20\n",
      "100/100 [==============================] - 1s 7ms/step - loss: 3.0239 - accuracy: 0.4770 - val_loss: 2.2938 - val_accuracy: 0.1667\n",
      "Epoch 2/20\n",
      "100/100 [==============================] - 0s 5ms/step - loss: 0.6093 - accuracy: 0.8070 - val_loss: 2.2915 - val_accuracy: 0.1600\n",
      "Epoch 3/20\n",
      "100/100 [==============================] - 0s 5ms/step - loss: 0.3365 - accuracy: 0.8970 - val_loss: 2.2878 - val_accuracy: 0.1767\n",
      "Epoch 4/20\n",
      "100/100 [==============================] - 0s 5ms/step - loss: 0.2837 - accuracy: 0.9120 - val_loss: 2.2881 - val_accuracy: 0.1367\n",
      "Epoch 5/20\n",
      "100/100 [==============================] - 0s 5ms/step - loss: 0.1453 - accuracy: 0.9540 - val_loss: 2.2798 - val_accuracy: 0.1467\n",
      "Epoch 6/20\n",
      "100/100 [==============================] - 0s 5ms/step - loss: 0.1293 - accuracy: 0.9590 - val_loss: 2.2829 - val_accuracy: 0.1867\n",
      "Epoch 7/20\n",
      "100/100 [==============================] - 0s 5ms/step - loss: 0.1094 - accuracy: 0.9640 - val_loss: 2.2800 - val_accuracy: 0.1667\n",
      "Epoch 8/20\n",
      "100/100 [==============================] - 0s 5ms/step - loss: 0.0916 - accuracy: 0.9770 - val_loss: 2.2791 - val_accuracy: 0.1833\n",
      "Epoch 9/20\n",
      "100/100 [==============================] - 0s 5ms/step - loss: 0.0393 - accuracy: 0.9870 - val_loss: 2.2755 - val_accuracy: 0.2500\n",
      "Epoch 10/20\n",
      "100/100 [==============================] - 0s 5ms/step - loss: 0.0482 - accuracy: 0.9800 - val_loss: 2.2747 - val_accuracy: 0.1767\n",
      "Epoch 11/20\n",
      "100/100 [==============================] - 0s 5ms/step - loss: 0.0388 - accuracy: 0.9880 - val_loss: 2.2743 - val_accuracy: 0.2433\n",
      "Epoch 12/20\n",
      "100/100 [==============================] - 0s 5ms/step - loss: 0.0805 - accuracy: 0.9720 - val_loss: 2.2760 - val_accuracy: 0.1567\n",
      "Epoch 13/20\n",
      "100/100 [==============================] - 0s 5ms/step - loss: 0.1253 - accuracy: 0.9650 - val_loss: 2.2833 - val_accuracy: 0.1567\n",
      "Epoch 14/20\n",
      "100/100 [==============================] - 0s 5ms/step - loss: 0.0317 - accuracy: 0.9900 - val_loss: 2.2756 - val_accuracy: 0.1667\n",
      "Epoch 15/20\n",
      "100/100 [==============================] - 0s 5ms/step - loss: 0.0522 - accuracy: 0.9850 - val_loss: 2.2738 - val_accuracy: 0.1533\n",
      "Epoch 16/20\n",
      "100/100 [==============================] - 0s 5ms/step - loss: 0.0345 - accuracy: 0.9860 - val_loss: 2.2753 - val_accuracy: 0.1933\n",
      "Epoch 17/20\n",
      "100/100 [==============================] - 0s 5ms/step - loss: 0.0808 - accuracy: 0.9800 - val_loss: 2.2792 - val_accuracy: 0.1800\n",
      "Epoch 18/20\n",
      "100/100 [==============================] - 0s 5ms/step - loss: 0.0355 - accuracy: 0.9900 - val_loss: 2.2757 - val_accuracy: 0.1900\n",
      "Epoch 19/20\n",
      "100/100 [==============================] - 0s 5ms/step - loss: 0.0472 - accuracy: 0.9860 - val_loss: 2.2738 - val_accuracy: 0.1800\n",
      "Epoch 20/20\n",
      "100/100 [==============================] - 0s 5ms/step - loss: 0.0839 - accuracy: 0.9830 - val_loss: 2.2796 - val_accuracy: 0.1167\n"
     ]
    },
    {
     "data": {
      "text/plain": [
       "<tensorflow.python.keras.callbacks.History at 0x2371e383220>"
      ]
     },
     "execution_count": 19,
     "metadata": {},
     "output_type": "execute_result"
    }
   ],
   "source": [
    "# RAW model\n",
    "raw_model.model.fit(X_train_expanded, y_train, epochs=20, batch_size=10, validation_data=(X_test_noisy_random_expanded, y_test))"
   ]
  },
  {
   "cell_type": "code",
   "execution_count": 20,
   "metadata": {},
   "outputs": [],
   "source": [
    "tf.keras.backend.clear_session()"
   ]
  },
  {
   "cell_type": "code",
   "execution_count": 21,
   "metadata": {},
   "outputs": [
    {
     "name": "stdout",
     "output_type": "stream",
     "text": [
      "Epoch 1/20\n",
      "100/100 [==============================] - 2s 16ms/step - loss: 1.1516 - accuracy: 0.6210 - val_loss: 0.2813 - val_accuracy: 0.9167\n",
      "Epoch 2/20\n",
      "100/100 [==============================] - 1s 14ms/step - loss: 0.3936 - accuracy: 0.8760 - val_loss: 0.1918 - val_accuracy: 0.9400\n",
      "Epoch 3/20\n",
      "100/100 [==============================] - 1s 14ms/step - loss: 0.2810 - accuracy: 0.9200 - val_loss: 0.1507 - val_accuracy: 0.9467\n",
      "Epoch 4/20\n",
      "100/100 [==============================] - 1s 14ms/step - loss: 0.2057 - accuracy: 0.9360 - val_loss: 0.1991 - val_accuracy: 0.9433\n",
      "Epoch 5/20\n",
      "100/100 [==============================] - 1s 14ms/step - loss: 0.1976 - accuracy: 0.9310 - val_loss: 0.1460 - val_accuracy: 0.9400\n",
      "Epoch 6/20\n",
      "100/100 [==============================] - 1s 14ms/step - loss: 0.1312 - accuracy: 0.9510 - val_loss: 0.1071 - val_accuracy: 0.9667\n",
      "Epoch 7/20\n",
      "100/100 [==============================] - 1s 14ms/step - loss: 0.1108 - accuracy: 0.9620 - val_loss: 0.1224 - val_accuracy: 0.9633\n",
      "Epoch 8/20\n",
      "100/100 [==============================] - 1s 14ms/step - loss: 0.0724 - accuracy: 0.9740 - val_loss: 0.1359 - val_accuracy: 0.9767\n",
      "Epoch 9/20\n",
      "100/100 [==============================] - 1s 14ms/step - loss: 0.0548 - accuracy: 0.9840 - val_loss: 0.2145 - val_accuracy: 0.9433\n",
      "Epoch 10/20\n",
      "100/100 [==============================] - 1s 14ms/step - loss: 0.0755 - accuracy: 0.9740 - val_loss: 0.1093 - val_accuracy: 0.9600\n",
      "Epoch 11/20\n",
      "100/100 [==============================] - 1s 14ms/step - loss: 0.0562 - accuracy: 0.9850 - val_loss: 0.1456 - val_accuracy: 0.9567\n",
      "Epoch 12/20\n",
      "100/100 [==============================] - 1s 14ms/step - loss: 0.0404 - accuracy: 0.9890 - val_loss: 0.1760 - val_accuracy: 0.9633\n",
      "Epoch 13/20\n",
      "100/100 [==============================] - 1s 14ms/step - loss: 0.0805 - accuracy: 0.9740 - val_loss: 0.1756 - val_accuracy: 0.9667\n",
      "Epoch 14/20\n",
      "100/100 [==============================] - 1s 14ms/step - loss: 0.0421 - accuracy: 0.9860 - val_loss: 0.0952 - val_accuracy: 0.9733\n",
      "Epoch 15/20\n",
      "100/100 [==============================] - 1s 14ms/step - loss: 0.0404 - accuracy: 0.9890 - val_loss: 0.1510 - val_accuracy: 0.9600\n",
      "Epoch 16/20\n",
      "100/100 [==============================] - 1s 14ms/step - loss: 0.0243 - accuracy: 0.9890 - val_loss: 0.1618 - val_accuracy: 0.9567\n",
      "Epoch 17/20\n",
      "100/100 [==============================] - 1s 14ms/step - loss: 0.0209 - accuracy: 0.9940 - val_loss: 0.1592 - val_accuracy: 0.9667\n",
      "Epoch 18/20\n",
      "100/100 [==============================] - 1s 14ms/step - loss: 0.0432 - accuracy: 0.9810 - val_loss: 0.2892 - val_accuracy: 0.9500\n",
      "Epoch 19/20\n",
      "100/100 [==============================] - 1s 14ms/step - loss: 0.0750 - accuracy: 0.9790 - val_loss: 0.1438 - val_accuracy: 0.9700\n",
      "Epoch 20/20\n",
      "100/100 [==============================] - 1s 14ms/step - loss: 0.0342 - accuracy: 0.9870 - val_loss: 0.1214 - val_accuracy: 0.9700\n"
     ]
    },
    {
     "data": {
      "text/plain": [
       "<tensorflow.python.keras.callbacks.History at 0x2371491e8b0>"
      ]
     },
     "execution_count": 21,
     "metadata": {},
     "output_type": "execute_result"
    }
   ],
   "source": [
    "#Vector stitching model\n",
    "\n",
    "vector_stitching_model_34.model.fit(X_train_clean_vector_stitching_good_34, y_train, epochs=20, batch_size=10, validation_data=(X_test_clean_vector_stitching_good_34, y_test))"
   ]
  },
  {
   "cell_type": "code",
   "execution_count": 22,
   "metadata": {},
   "outputs": [],
   "source": [
    "tf.keras.backend.clear_session()"
   ]
  },
  {
   "cell_type": "code",
   "execution_count": 23,
   "metadata": {},
   "outputs": [
    {
     "name": "stdout",
     "output_type": "stream",
     "text": [
      "Epoch 1/20\n",
      "100/100 [==============================] - 2s 17ms/step - loss: 1.3208 - accuracy: 0.5570 - val_loss: 0.4790 - val_accuracy: 0.8467\n",
      "Epoch 2/20\n",
      "100/100 [==============================] - 2s 15ms/step - loss: 0.4551 - accuracy: 0.8560 - val_loss: 0.2881 - val_accuracy: 0.9167\n",
      "Epoch 3/20\n",
      "100/100 [==============================] - 2s 16ms/step - loss: 0.2970 - accuracy: 0.9110 - val_loss: 0.3411 - val_accuracy: 0.8867\n",
      "Epoch 4/20\n",
      "100/100 [==============================] - 2s 17ms/step - loss: 0.1845 - accuracy: 0.9460 - val_loss: 0.1207 - val_accuracy: 0.9600\n",
      "Epoch 5/20\n",
      "100/100 [==============================] - 2s 16ms/step - loss: 0.1589 - accuracy: 0.9470 - val_loss: 0.1826 - val_accuracy: 0.9467\n",
      "Epoch 6/20\n",
      "100/100 [==============================] - 2s 17ms/step - loss: 0.1117 - accuracy: 0.9630 - val_loss: 0.2451 - val_accuracy: 0.9467\n",
      "Epoch 7/20\n",
      "100/100 [==============================] - 2s 17ms/step - loss: 0.1209 - accuracy: 0.9620 - val_loss: 0.1546 - val_accuracy: 0.9467\n",
      "Epoch 8/20\n",
      "100/100 [==============================] - 2s 17ms/step - loss: 0.0781 - accuracy: 0.9740 - val_loss: 0.1867 - val_accuracy: 0.9467\n",
      "Epoch 9/20\n",
      "100/100 [==============================] - 2s 16ms/step - loss: 0.0759 - accuracy: 0.9770 - val_loss: 0.0803 - val_accuracy: 0.9800\n",
      "Epoch 10/20\n",
      "100/100 [==============================] - 2s 16ms/step - loss: 0.0398 - accuracy: 0.9890 - val_loss: 0.1043 - val_accuracy: 0.9733\n",
      "Epoch 11/20\n",
      "100/100 [==============================] - 2s 17ms/step - loss: 0.0751 - accuracy: 0.9740 - val_loss: 0.1881 - val_accuracy: 0.9533\n",
      "Epoch 12/20\n",
      "100/100 [==============================] - 2s 17ms/step - loss: 0.0675 - accuracy: 0.9790 - val_loss: 0.2048 - val_accuracy: 0.9567\n",
      "Epoch 13/20\n",
      "100/100 [==============================] - 2s 17ms/step - loss: 0.0781 - accuracy: 0.9760 - val_loss: 0.1472 - val_accuracy: 0.9533\n",
      "Epoch 14/20\n",
      "100/100 [==============================] - 2s 17ms/step - loss: 0.0492 - accuracy: 0.9840 - val_loss: 0.1245 - val_accuracy: 0.9700\n",
      "Epoch 15/20\n",
      "100/100 [==============================] - 2s 17ms/step - loss: 0.0165 - accuracy: 0.9960 - val_loss: 0.1822 - val_accuracy: 0.9600\n",
      "Epoch 16/20\n",
      "100/100 [==============================] - 2s 16ms/step - loss: 0.0209 - accuracy: 0.9930 - val_loss: 0.1383 - val_accuracy: 0.9667\n",
      "Epoch 17/20\n",
      "100/100 [==============================] - 2s 15ms/step - loss: 0.0196 - accuracy: 0.9940 - val_loss: 0.1340 - val_accuracy: 0.9700\n",
      "Epoch 18/20\n",
      "100/100 [==============================] - 2s 15ms/step - loss: 0.0163 - accuracy: 0.9940 - val_loss: 0.1606 - val_accuracy: 0.9600\n",
      "Epoch 19/20\n",
      "100/100 [==============================] - 1s 15ms/step - loss: 0.0397 - accuracy: 0.9880 - val_loss: 0.2118 - val_accuracy: 0.9600\n",
      "Epoch 20/20\n",
      "100/100 [==============================] - 2s 15ms/step - loss: 0.0149 - accuracy: 0.9970 - val_loss: 0.1834 - val_accuracy: 0.9600\n"
     ]
    },
    {
     "data": {
      "text/plain": [
       "<tensorflow.python.keras.callbacks.History at 0x237180a2e80>"
      ]
     },
     "execution_count": 23,
     "metadata": {},
     "output_type": "execute_result"
    }
   ],
   "source": [
    "vector_stitching_model_42.model.fit(X_train_clean_vector_stitching_good_42, y_train, epochs=20, batch_size=10, validation_data=(X_test_clean_vector_stitching_good_42, y_test))"
   ]
  }
 ],
 "metadata": {
  "kernelspec": {
   "display_name": "Python 3",
   "language": "python",
   "name": "python3"
  },
  "language_info": {
   "codemirror_mode": {
    "name": "ipython",
    "version": 3
   },
   "file_extension": ".py",
   "mimetype": "text/x-python",
   "name": "python",
   "nbconvert_exporter": "python",
   "pygments_lexer": "ipython3",
   "version": "3.8.8"
  }
 },
 "nbformat": 4,
 "nbformat_minor": 2
}
