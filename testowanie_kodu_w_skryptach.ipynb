{
 "cells": [
  {
   "cell_type": "code",
   "execution_count": 4,
   "metadata": {},
   "outputs": [],
   "source": [
    "from models.tda_models import TDA_PI34_Model\n",
    "from models.raw_models import Raw_Model, Dummy_Model\n",
    "from tda_pipelines import *\n"
   ]
  },
  {
   "cell_type": "code",
   "execution_count": 3,
   "metadata": {},
   "outputs": [
    {
     "name": "stderr",
     "output_type": "stream",
     "text": [
      "c:\\Users\\jawor\\AppData\\Local\\Programs\\Python\\Python310\\lib\\site-packages\\sklearn\\datasets\\_openml.py:968: FutureWarning: The default value of `parser` will change from `'liac-arff'` to `'auto'` in 1.4. You can set `parser='auto'` to silence this warning. Therefore, an `ImportError` will be raised from 1.4 if the dataset is dense and pandas is not installed. Note that the pandas parser may return different data types. See the Notes Section in fetch_openml's API doc for details.\n",
      "  warn(\n"
     ]
    },
    {
     "name": "stdout",
     "output_type": "stream",
     "text": [
      "X shape: (70000, 784), y shape: (70000,)\n"
     ]
    }
   ],
   "source": [
    "# fetch data, prepare for pipeline and test models\n",
    "\n",
    "from sklearn.datasets import fetch_openml \n",
    "import numpy as np\n",
    "from sklearn.model_selection import train_test_split\n",
    "\n",
    "X, y = fetch_openml(\"mnist_784\", version=1, return_X_y=True, as_frame=False)\n",
    "print(f\"X shape: {X.shape}, y shape: {y.shape}\")\n",
    "train_size, test_size = 1000, 300 # Reshape to (n_samples, n_pixels_x, n_pixels_y) \n",
    "X = X.reshape((-1, 28, 28)) \n",
    "X_train, X_test, y_train, y_test = train_test_split( X, y, train_size=train_size, test_size=test_size, stratify=y, random_state=666 ) \n",
    "print(f\"X_train shape: {X_train.shape}, y_train shape: {y_train.shape}\") \n",
    "print(f\"X_test shape: {X_test.shape}, y_test shape: {y_test.shape}\")\n"
   ]
  },
  {
   "cell_type": "code",
   "execution_count": 6,
   "metadata": {},
   "outputs": [],
   "source": [
    "tda_pipeline = TDA_PI34_Pipeline()\n",
    "\n",
    "X_train_tda_clean = tda_pipeline.fit_transform(X_train)\n",
    "print(X_train_tda_clean.shape)\n",
    "\n",
    "X_test_tda_clean = tda_pipeline.transform(X_test)\n",
    "print(X_test_tda_clean.shape)\n"
   ]
  },
  {
   "cell_type": "code",
   "execution_count": 8,
   "metadata": {},
   "outputs": [],
   "source": [
    "# this needs to be integrated into pipeline\n",
    "\n",
    "X_train_tda_clean_good = np.transpose(X_train_tda_clean, (0, 2, 3, 1))\n",
    "X_test_tda_clean_good = np.transpose(X_test_tda_clean, (0, 2, 3, 1))\n"
   ]
  },
  {
   "cell_type": "code",
   "execution_count": 9,
   "metadata": {},
   "outputs": [],
   "source": [
    "# mnist comes with string labels, we need to convert them to int\n",
    "\n",
    "y_train = y_train.astype(int)\n",
    "y_test = y_test.astype(int)\n"
   ]
  },
  {
   "cell_type": "code",
   "execution_count": 11,
   "metadata": {},
   "outputs": [
    {
     "name": "stdout",
     "output_type": "stream",
     "text": [
      "WARNING:tensorflow:From c:\\Users\\jawor\\AppData\\Local\\Programs\\Python\\Python310\\lib\\site-packages\\keras\\src\\backend.py:873: The name tf.get_default_graph is deprecated. Please use tf.compat.v1.get_default_graph instead.\n",
      "\n",
      "WARNING:tensorflow:From c:\\Users\\jawor\\AppData\\Local\\Programs\\Python\\Python310\\lib\\site-packages\\keras\\src\\layers\\pooling\\max_pooling2d.py:161: The name tf.nn.max_pool is deprecated. Please use tf.nn.max_pool2d instead.\n",
      "\n",
      "WARNING:tensorflow:From c:\\Users\\jawor\\AppData\\Local\\Programs\\Python\\Python310\\lib\\site-packages\\keras\\src\\optimizers\\__init__.py:309: The name tf.train.Optimizer is deprecated. Please use tf.compat.v1.train.Optimizer instead.\n",
      "\n"
     ]
    }
   ],
   "source": [
    "# models\n",
    "\n",
    "raw_model = Raw_Model()\n",
    "dummy_model = Dummy_Model()\n",
    "tda_model = TDA_PI34_Model()\n",
    "\n",
    "# testing models below"
   ]
  },
  {
   "cell_type": "code",
   "execution_count": 13,
   "metadata": {},
   "outputs": [
    {
     "name": "stdout",
     "output_type": "stream",
     "text": [
      "Epoch 1/20\n",
      "WARNING:tensorflow:From c:\\Users\\jawor\\AppData\\Local\\Programs\\Python\\Python310\\lib\\site-packages\\keras\\src\\utils\\tf_utils.py:492: The name tf.ragged.RaggedTensorValue is deprecated. Please use tf.compat.v1.ragged.RaggedTensorValue instead.\n",
      "\n",
      "WARNING:tensorflow:From c:\\Users\\jawor\\AppData\\Local\\Programs\\Python\\Python310\\lib\\site-packages\\keras\\src\\engine\\base_layer_utils.py:384: The name tf.executing_eagerly_outside_functions is deprecated. Please use tf.compat.v1.executing_eagerly_outside_functions instead.\n",
      "\n",
      "100/100 [==============================] - 7s 26ms/step - loss: 1.3545 - accuracy: 0.5660 - val_loss: 0.5917 - val_accuracy: 0.8467\n",
      "Epoch 2/20\n",
      "100/100 [==============================] - 2s 20ms/step - loss: 0.5853 - accuracy: 0.8460 - val_loss: 0.4673 - val_accuracy: 0.8700\n",
      "Epoch 3/20\n",
      "100/100 [==============================] - 2s 18ms/step - loss: 0.3961 - accuracy: 0.8830 - val_loss: 0.4112 - val_accuracy: 0.8700\n",
      "Epoch 4/20\n",
      "100/100 [==============================] - 2s 16ms/step - loss: 0.3613 - accuracy: 0.8840 - val_loss: 0.3897 - val_accuracy: 0.8800\n",
      "Epoch 5/20\n",
      "100/100 [==============================] - 2s 18ms/step - loss: 0.2291 - accuracy: 0.9350 - val_loss: 0.3495 - val_accuracy: 0.9100\n",
      "Epoch 6/20\n",
      "100/100 [==============================] - 2s 15ms/step - loss: 0.1830 - accuracy: 0.9360 - val_loss: 0.3669 - val_accuracy: 0.9167\n",
      "Epoch 7/20\n",
      "100/100 [==============================] - 2s 17ms/step - loss: 0.1327 - accuracy: 0.9620 - val_loss: 0.3410 - val_accuracy: 0.9333\n",
      "Epoch 8/20\n",
      "100/100 [==============================] - 2s 18ms/step - loss: 0.1571 - accuracy: 0.9500 - val_loss: 0.3178 - val_accuracy: 0.9267\n",
      "Epoch 9/20\n",
      "100/100 [==============================] - 2s 19ms/step - loss: 0.0891 - accuracy: 0.9730 - val_loss: 0.3882 - val_accuracy: 0.9167\n",
      "Epoch 10/20\n",
      "100/100 [==============================] - 1s 15ms/step - loss: 0.1335 - accuracy: 0.9580 - val_loss: 0.3779 - val_accuracy: 0.9167\n",
      "Epoch 11/20\n",
      "100/100 [==============================] - 2s 17ms/step - loss: 0.0857 - accuracy: 0.9710 - val_loss: 0.4052 - val_accuracy: 0.9333\n",
      "Epoch 12/20\n",
      "100/100 [==============================] - 2s 16ms/step - loss: 0.0797 - accuracy: 0.9740 - val_loss: 0.4708 - val_accuracy: 0.9167\n",
      "Epoch 13/20\n",
      "100/100 [==============================] - 2s 21ms/step - loss: 0.0772 - accuracy: 0.9720 - val_loss: 0.5428 - val_accuracy: 0.9100\n",
      "Epoch 14/20\n",
      "100/100 [==============================] - 2s 19ms/step - loss: 0.0923 - accuracy: 0.9700 - val_loss: 0.3936 - val_accuracy: 0.9200\n",
      "Epoch 15/20\n",
      "100/100 [==============================] - 1s 14ms/step - loss: 0.0759 - accuracy: 0.9790 - val_loss: 0.3040 - val_accuracy: 0.9400\n",
      "Epoch 16/20\n",
      "100/100 [==============================] - 2s 17ms/step - loss: 0.0629 - accuracy: 0.9830 - val_loss: 0.4409 - val_accuracy: 0.9400\n",
      "Epoch 17/20\n",
      "100/100 [==============================] - 2s 17ms/step - loss: 0.0191 - accuracy: 0.9950 - val_loss: 0.3597 - val_accuracy: 0.9467\n",
      "Epoch 18/20\n",
      "100/100 [==============================] - 2s 17ms/step - loss: 0.0103 - accuracy: 0.9970 - val_loss: 0.4211 - val_accuracy: 0.9367\n",
      "Epoch 19/20\n",
      "100/100 [==============================] - 2s 22ms/step - loss: 0.0991 - accuracy: 0.9720 - val_loss: 0.6915 - val_accuracy: 0.8900\n",
      "Epoch 20/20\n",
      "100/100 [==============================] - 2s 18ms/step - loss: 0.1193 - accuracy: 0.9620 - val_loss: 0.5992 - val_accuracy: 0.9100\n"
     ]
    },
    {
     "data": {
      "text/plain": [
       "<keras.src.callbacks.History at 0x17e327e1810>"
      ]
     },
     "execution_count": 13,
     "metadata": {},
     "output_type": "execute_result"
    }
   ],
   "source": [
    "tda_model.model.fit(X_train_tda_clean_good, y_train, epochs=20, batch_size=10, validation_data=(X_test_tda_clean_good, y_test))"
   ]
  },
  {
   "cell_type": "code",
   "execution_count": 14,
   "metadata": {},
   "outputs": [
    {
     "name": "stdout",
     "output_type": "stream",
     "text": [
      "Epoch 1/20\n",
      "100/100 [==============================] - 6s 21ms/step - loss: 3.3624 - accuracy: 0.5210 - val_loss: 0.5701 - val_accuracy: 0.8067\n",
      "Epoch 2/20\n",
      "100/100 [==============================] - 1s 12ms/step - loss: 0.5751 - accuracy: 0.8100 - val_loss: 0.3828 - val_accuracy: 0.8600\n",
      "Epoch 3/20\n",
      "100/100 [==============================] - 2s 19ms/step - loss: 0.3057 - accuracy: 0.9010 - val_loss: 0.3385 - val_accuracy: 0.8833\n",
      "Epoch 4/20\n",
      "100/100 [==============================] - 1s 14ms/step - loss: 0.2451 - accuracy: 0.9200 - val_loss: 0.4477 - val_accuracy: 0.8767\n",
      "Epoch 5/20\n",
      "100/100 [==============================] - 2s 23ms/step - loss: 0.2095 - accuracy: 0.9300 - val_loss: 0.2816 - val_accuracy: 0.9100\n",
      "Epoch 6/20\n",
      "100/100 [==============================] - 1s 14ms/step - loss: 0.0938 - accuracy: 0.9710 - val_loss: 0.4197 - val_accuracy: 0.9067\n",
      "Epoch 7/20\n",
      "100/100 [==============================] - 2s 18ms/step - loss: 0.0342 - accuracy: 0.9910 - val_loss: 0.5050 - val_accuracy: 0.8833\n",
      "Epoch 8/20\n",
      "100/100 [==============================] - 2s 21ms/step - loss: 0.0706 - accuracy: 0.9730 - val_loss: 0.5522 - val_accuracy: 0.8933\n",
      "Epoch 9/20\n",
      "100/100 [==============================] - 1s 14ms/step - loss: 0.0644 - accuracy: 0.9720 - val_loss: 0.3187 - val_accuracy: 0.9267\n",
      "Epoch 10/20\n",
      "100/100 [==============================] - 1s 14ms/step - loss: 0.0927 - accuracy: 0.9690 - val_loss: 0.4421 - val_accuracy: 0.9100\n",
      "Epoch 11/20\n",
      "100/100 [==============================] - 2s 21ms/step - loss: 0.1025 - accuracy: 0.9630 - val_loss: 0.4078 - val_accuracy: 0.9067\n",
      "Epoch 12/20\n",
      "100/100 [==============================] - 2s 19ms/step - loss: 0.0755 - accuracy: 0.9780 - val_loss: 0.3585 - val_accuracy: 0.9133\n",
      "Epoch 13/20\n",
      "100/100 [==============================] - 1s 14ms/step - loss: 0.0477 - accuracy: 0.9830 - val_loss: 0.3720 - val_accuracy: 0.9333\n",
      "Epoch 14/20\n",
      "100/100 [==============================] - 1s 13ms/step - loss: 0.0440 - accuracy: 0.9820 - val_loss: 0.4344 - val_accuracy: 0.9200\n",
      "Epoch 15/20\n",
      "100/100 [==============================] - 2s 22ms/step - loss: 0.0535 - accuracy: 0.9800 - val_loss: 0.3745 - val_accuracy: 0.9267\n",
      "Epoch 16/20\n",
      "100/100 [==============================] - 1s 13ms/step - loss: 0.0607 - accuracy: 0.9780 - val_loss: 0.4649 - val_accuracy: 0.9233\n",
      "Epoch 17/20\n",
      "100/100 [==============================] - 1s 14ms/step - loss: 0.0867 - accuracy: 0.9760 - val_loss: 0.5383 - val_accuracy: 0.9233\n",
      "Epoch 18/20\n",
      "100/100 [==============================] - 1s 15ms/step - loss: 0.0561 - accuracy: 0.9810 - val_loss: 0.3767 - val_accuracy: 0.9333\n",
      "Epoch 19/20\n",
      "100/100 [==============================] - 1s 14ms/step - loss: 0.0395 - accuracy: 0.9890 - val_loss: 0.3764 - val_accuracy: 0.9267\n",
      "Epoch 20/20\n",
      "100/100 [==============================] - 2s 16ms/step - loss: 0.0440 - accuracy: 0.9820 - val_loss: 0.4637 - val_accuracy: 0.9233\n"
     ]
    },
    {
     "data": {
      "text/plain": [
       "<keras.src.callbacks.History at 0x17e3b548d90>"
      ]
     },
     "execution_count": 14,
     "metadata": {},
     "output_type": "execute_result"
    }
   ],
   "source": [
    "raw_model.model.fit(X_train, y_train, epochs=20, batch_size=10, validation_data=(X_test, y_test))"
   ]
  },
  {
   "cell_type": "code",
   "execution_count": 15,
   "metadata": {},
   "outputs": [
    {
     "name": "stdout",
     "output_type": "stream",
     "text": [
      "Epoch 1/20\n",
      "100/100 [==============================] - 4s 13ms/step - loss: 19.7019 - accuracy: 0.5820 - val_loss: 7.6441 - val_accuracy: 0.7667\n",
      "Epoch 2/20\n",
      "100/100 [==============================] - 1s 8ms/step - loss: 3.1578 - accuracy: 0.8470 - val_loss: 6.3984 - val_accuracy: 0.7933\n",
      "Epoch 3/20\n",
      "100/100 [==============================] - 1s 7ms/step - loss: 1.8467 - accuracy: 0.8910 - val_loss: 6.4596 - val_accuracy: 0.7800\n",
      "Epoch 4/20\n",
      "100/100 [==============================] - 1s 8ms/step - loss: 0.8523 - accuracy: 0.9270 - val_loss: 5.6980 - val_accuracy: 0.8100\n",
      "Epoch 5/20\n",
      "100/100 [==============================] - 1s 10ms/step - loss: 1.2152 - accuracy: 0.9300 - val_loss: 6.0334 - val_accuracy: 0.8133\n",
      "Epoch 6/20\n",
      "100/100 [==============================] - 1s 12ms/step - loss: 0.6156 - accuracy: 0.9550 - val_loss: 5.7768 - val_accuracy: 0.7867\n",
      "Epoch 7/20\n",
      "100/100 [==============================] - 1s 10ms/step - loss: 1.0526 - accuracy: 0.9310 - val_loss: 4.9284 - val_accuracy: 0.7967\n",
      "Epoch 8/20\n",
      "100/100 [==============================] - 1s 13ms/step - loss: 0.7543 - accuracy: 0.9550 - val_loss: 4.8535 - val_accuracy: 0.8433\n",
      "Epoch 9/20\n",
      "100/100 [==============================] - 1s 7ms/step - loss: 0.5181 - accuracy: 0.9600 - val_loss: 7.4677 - val_accuracy: 0.8033\n",
      "Epoch 10/20\n",
      "100/100 [==============================] - 1s 11ms/step - loss: 1.0365 - accuracy: 0.9490 - val_loss: 6.0784 - val_accuracy: 0.8267\n",
      "Epoch 11/20\n",
      "100/100 [==============================] - 1s 8ms/step - loss: 0.6921 - accuracy: 0.9510 - val_loss: 5.3712 - val_accuracy: 0.8467\n",
      "Epoch 12/20\n",
      "100/100 [==============================] - 1s 8ms/step - loss: 0.4293 - accuracy: 0.9720 - val_loss: 5.3717 - val_accuracy: 0.8300\n",
      "Epoch 13/20\n",
      "100/100 [==============================] - 1s 8ms/step - loss: 0.3015 - accuracy: 0.9710 - val_loss: 6.1063 - val_accuracy: 0.8567\n",
      "Epoch 14/20\n",
      "100/100 [==============================] - 1s 11ms/step - loss: 0.3640 - accuracy: 0.9780 - val_loss: 5.7462 - val_accuracy: 0.8200\n",
      "Epoch 15/20\n",
      "100/100 [==============================] - 1s 12ms/step - loss: 0.8667 - accuracy: 0.9470 - val_loss: 10.4788 - val_accuracy: 0.7833\n",
      "Epoch 16/20\n",
      "100/100 [==============================] - 1s 8ms/step - loss: 0.5991 - accuracy: 0.9670 - val_loss: 7.6500 - val_accuracy: 0.8467\n",
      "Epoch 17/20\n",
      "100/100 [==============================] - 1s 8ms/step - loss: 1.4634 - accuracy: 0.9410 - val_loss: 7.0981 - val_accuracy: 0.8333\n",
      "Epoch 18/20\n",
      "100/100 [==============================] - 1s 7ms/step - loss: 0.6824 - accuracy: 0.9590 - val_loss: 9.1705 - val_accuracy: 0.8133\n",
      "Epoch 19/20\n",
      "100/100 [==============================] - 1s 8ms/step - loss: 0.7016 - accuracy: 0.9620 - val_loss: 6.4428 - val_accuracy: 0.8633\n",
      "Epoch 20/20\n",
      "100/100 [==============================] - 1s 8ms/step - loss: 0.3680 - accuracy: 0.9810 - val_loss: 6.2550 - val_accuracy: 0.8467\n"
     ]
    },
    {
     "data": {
      "text/plain": [
       "<keras.src.callbacks.History at 0x17e3b730f70>"
      ]
     },
     "execution_count": 15,
     "metadata": {},
     "output_type": "execute_result"
    }
   ],
   "source": [
    "dummy_model.model.fit(X_train, y_train, epochs=20, batch_size=10, validation_data=(X_test, y_test))"
   ]
  },
  {
   "cell_type": "code",
   "execution_count": null,
   "metadata": {},
   "outputs": [],
   "source": []
  }
 ],
 "metadata": {
  "kernelspec": {
   "display_name": "Python 3",
   "language": "python",
   "name": "python3"
  },
  "language_info": {
   "codemirror_mode": {
    "name": "ipython",
    "version": 3
   },
   "file_extension": ".py",
   "mimetype": "text/x-python",
   "name": "python",
   "nbconvert_exporter": "python",
   "pygments_lexer": "ipython3",
   "version": "3.10.11"
  }
 },
 "nbformat": 4,
 "nbformat_minor": 2
}
