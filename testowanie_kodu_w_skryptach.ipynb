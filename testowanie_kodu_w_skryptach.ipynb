{
 "cells": [
  {
   "cell_type": "markdown",
   "metadata": {},
   "source": [
    "## Import packages and modules"
   ]
  },
  {
   "cell_type": "code",
   "execution_count": 1,
   "metadata": {},
   "outputs": [
    {
     "name": "stdout",
     "output_type": "stream",
     "text": [
      "WARNING:tensorflow:From c:\\Users\\jawor\\AppData\\Local\\Programs\\Python\\Python310\\lib\\site-packages\\keras\\src\\losses.py:2976: The name tf.losses.sparse_softmax_cross_entropy is deprecated. Please use tf.compat.v1.losses.sparse_softmax_cross_entropy instead.\n",
      "\n"
     ]
    }
   ],
   "source": [
    "from models.tda_models import TDA_PI34_Model, TDA_PI42_Model, VECTOR_STITCHING_PI_Model_34, VECTOR_STITCHING_PI_Model_42\n",
    "from models.raw_models import Raw_Model, Dummy_Model\n",
    "from tda_pipelines import *\n"
   ]
  },
  {
   "cell_type": "markdown",
   "metadata": {},
   "source": [
    "## Fetch dataset, prepare training and testing sets, generate distorted sets"
   ]
  },
  {
   "cell_type": "code",
   "execution_count": 4,
   "metadata": {},
   "outputs": [
    {
     "name": "stdout",
     "output_type": "stream",
     "text": [
      "X shape: (60000, 28, 28), y shape: (60000,)\n",
      "X_train shape: (100, 28, 28), y_train shape: (100,)\n",
      "X_test shape: (100, 28, 28), y_test shape: (100,)\n"
     ]
    }
   ],
   "source": [
    "# fetch data, prepare for pipeline and test models\n",
    "\n",
    "from sklearn.datasets import fetch_openml \n",
    "import numpy as np\n",
    "from sklearn.model_selection import train_test_split\n",
    "import tensorflow as tf\n",
    "\n",
    "#X, y = fetch_openml(\"mnist_784\", version=1, return_X_y=True, as_frame=False)\n",
    "\n",
    "(X, y), _ = tf.keras.datasets.mnist.load_data()\n",
    "print(f\"X shape: {X.shape}, y shape: {y.shape}\")\n",
    "train_size, test_size = 100, 100 # Reshape to (n_samples, n_pixels_x, n_pixels_y) \n",
    "X = X.reshape((-1, 28, 28)) \n",
    "X_train, X_test, y_train, y_test = train_test_split( X, y, train_size=train_size, test_size=test_size, stratify=y, random_state=666 ) \n",
    "print(f\"X_train shape: {X_train.shape}, y_train shape: {y_train.shape}\") \n",
    "print(f\"X_test shape: {X_test.shape}, y_test shape: {y_test.shape}\")\n",
    "\n",
    "\n",
    "# mnist comes with string labels, we need to convert them to int\n",
    "y_train = y_train.astype(int)\n",
    "y_test = y_test.astype(int)\n"
   ]
  },
  {
   "cell_type": "code",
   "execution_count": 37,
   "metadata": {},
   "outputs": [
    {
     "name": "stderr",
     "output_type": "stream",
     "text": [
      "C:\\Users\\jawor\\AppData\\Local\\Temp\\ipykernel_30508\\2546615655.py:5: FutureWarning: `seed` is a deprecated argument name for `random_noise`. It will be removed in version 0.23. Please use `rng` instead.\n",
      "  X_train_noisy = random_noise(X_train, mode=\"s&p\",amount=0.05, seed=666)\n",
      "C:\\Users\\jawor\\AppData\\Local\\Temp\\ipykernel_30508\\2546615655.py:6: FutureWarning: `seed` is a deprecated argument name for `random_noise`. It will be removed in version 0.23. Please use `rng` instead.\n",
      "  X_test_noisy = random_noise(X_test, mode=\"s&p\",amount=0.05, seed=666)\n"
     ]
    },
    {
     "data": {
      "text/plain": [
       "Text(0.5, 1.0, 'Noisy Image with Random Noise')"
      ]
     },
     "execution_count": 37,
     "metadata": {},
     "output_type": "execute_result"
    },
    {
     "data": {
      "image/png": "[encoded data removed]",
      "text/plain": [
       "<Figure size 1500x500 with 3 Axes>"
      ]
     },
     "metadata": {},
     "output_type": "display_data"
    }
   ],
   "source": [
    "# distort X_train and X_test a little bit not using giotto\n",
    "import matplotlib.pyplot as plt\n",
    "import tensorflow as tf\n",
    "from skimage.util import random_noise\n",
    "X_train_noisy = random_noise(X_train, mode=\"s&p\",amount=0.05, seed=666)\n",
    "X_test_noisy = random_noise(X_test, mode=\"s&p\",amount=0.05, seed=666)\n",
    "\n",
    "# generate random noise matrix of size X_train_noisy.shape and X_test_noisy.shape but without original image\n",
    "\n",
    "X_train_gaussian_noise = np.random.rand(*X_train_noisy.shape)\n",
    "X_test_gaussian_noise = np.random.rand(*X_test_noisy.shape)\n",
    "\n",
    "# for each image in X_train_noisy and X_test_noisy, we will add the random noise matrix to the image\n",
    "\n",
    "X_train_noisy_random = X_train_noisy + X_train_gaussian_noise\n",
    "X_test_noisy_random = X_test_noisy + 0.5*X_test_gaussian_noise\n",
    "\n",
    "# plot the original image, the noisy image and the noisy image with random noise\n",
    "\n",
    "fig, ax = plt.subplots(1, 3, figsize=(15, 5))\n",
    "ax[0].imshow(X_test[5], cmap=\"gray\")\n",
    "ax[0].set_title(\"Original Image\")\n",
    "ax[1].imshow(X_test_noisy[5], cmap=\"gray\")\n",
    "ax[1].set_title(\"Noisy Image\")\n",
    "ax[2].imshow(X_test_noisy_random[5], cmap=\"gray\")\n",
    "ax[2].set_title(\"Noisy Image with Random Noise\")\n"
   ]
  },
  {
   "cell_type": "markdown",
   "metadata": {},
   "source": [
    "## Load TDA and Vector-stitching pipelines "
   ]
  },
  {
   "cell_type": "code",
   "execution_count": 6,
   "metadata": {},
   "outputs": [],
   "source": [
    "# load pipelines \n",
    "\n",
    "tda_pipeline_34 = TDA_PI34_Pipeline()\n",
    "tda_pipeline_42 = TDA_PI42_Pipeline()\n",
    "vector_stitching_pipeline_34, tda_union_34 = VECTOR_STITCHING_PI_Pipeline_34()\n",
    "vector_stitching_pipeline_42, tda_union_42 = VECTOR_STITCHING_PI_Pipeline_42()\n"
   ]
  },
  {
   "cell_type": "markdown",
   "metadata": {},
   "source": [
    "## Transform raw data to persistance images and stitched RAW-PI images"
   ]
  },
  {
   "cell_type": "code",
   "execution_count": 7,
   "metadata": {},
   "outputs": [
    {
     "name": "stdout",
     "output_type": "stream",
     "text": [
      "done\n",
      "done\n",
      "done\n",
      "done\n",
      "done\n",
      "done\n",
      "done\n",
      "done\n"
     ]
    }
   ],
   "source": [
    "# clean data\n",
    "\n",
    "X_train_clean_tda_34 = tda_pipeline_34.fit_transform(X_train)\n",
    "print(\"done\")\n",
    "X_test_clean_tda_34 = tda_pipeline_34.transform(X_test)\n",
    "print(\"done\")\n",
    "\n",
    "# distorted data\n",
    "X_train_noisy_tda_34 = tda_pipeline_34.fit_transform(X_train_noisy_random)\n",
    "print(\"done\")\n",
    "X_test_noisy_tda_34 = tda_pipeline_34.transform(X_test_noisy_random)\n",
    "print(\"done\")\n"
   ]
  },
  {
   "cell_type": "code",
   "execution_count": 8,
   "metadata": {},
   "outputs": [
    {
     "name": "stdout",
     "output_type": "stream",
     "text": [
      "done\n",
      "done\n",
      "done\n",
      "done\n",
      "done\n",
      "done\n",
      "done\n",
      "done\n"
     ]
    }
   ],
   "source": [
    "\n",
    "#important for initializing Binarizer\n",
    "#X_training = tda_union.fit(X_train)\n",
    "\n",
    "#clean data\n",
    "X_train_clean_vector_stitching_34 = vector_stitching_pipeline_34.fit_transform(X_train)\n",
    "print(\"done\")\n",
    "X_test_clean_vector_stitching_34 = vector_stitching_pipeline_34.transform(X_test)\n",
    "print(\"done\")\n",
    "\n",
    "# distorted data\n",
    "X_train_noisy_vector_stitching_34 = vector_stitching_pipeline_34.fit_transform(X_train_noisy_random)\n",
    "print(\"done\")\n",
    "X_test_noisy_vector_stitching_34 = vector_stitching_pipeline_34.transform(X_test_noisy_random)\n",
    "print(\"done\")"
   ]
  },
  {
   "cell_type": "code",
   "execution_count": 9,
   "metadata": {},
   "outputs": [
    {
     "name": "stdout",
     "output_type": "stream",
     "text": [
      "X_train_clean_tda_good shape: (100, 28, 28, 34), X_test_clean_tda_good shape: (100, 28, 28, 34)\n",
      "X_train_noisy_tda_good shape: (100, 28, 28, 34), X_test_noisy_tda_good shape: (100, 28, 28, 34)\n",
      "X_train_clean_vector_stitching_good shape: (100, 56, 28, 34), X_test_clean_vector_stitching_good shape: (100, 56, 28, 34)\n",
      "X_train_noisy_vector_stitching_good shape: (100, 56, 28, 34), X_test_noisy_vector_stitching_good shape: (100, 56, 28, 34)\n"
     ]
    }
   ],
   "source": [
    "# this needs to be integrated into pipeline, transposing the data to fit the input shape of the model\n",
    "\n",
    "# normal tda\n",
    "X_train_clean_tda_good_34 = np.transpose(X_train_clean_tda_34, (0, 3, 2, 1))\n",
    "X_test_clean_tda_good_34 = np.transpose(X_test_clean_tda_34, (0, 3, 2, 1))\n",
    "\n",
    "X_train_noisy_tda_good_34 = np.transpose(X_train_noisy_tda_34, (0, 3, 2, 1))\n",
    "X_test_noisy_tda_good_34 = np.transpose(X_test_noisy_tda_34, (0, 3, 2, 1))\n",
    "\n",
    "#stitched\n",
    "\n",
    "X_train_clean_vector_stitching_good_34 = np.transpose(X_train_clean_vector_stitching_34, (0, 3, 2, 1))\n",
    "X_test_clean_vector_stitching_good_34 = np.transpose(X_test_clean_vector_stitching_34, (0, 3, 2, 1))\n",
    "\n",
    "X_train_noisy_vector_stitching_good_34 = np.transpose(X_train_noisy_vector_stitching_34, (0, 3, 2, 1))\n",
    "X_test_noisy_vector_stitching_good_34 = np.transpose(X_test_noisy_vector_stitching_34, (0, 3, 2, 1))\n",
    "\n",
    "# shapes\n",
    "print(f\"X_train_clean_tda_good shape: {X_train_clean_tda_good_34.shape}, X_test_clean_tda_good shape: {X_test_clean_tda_good_34.shape}\")\n",
    "print(f\"X_train_noisy_tda_good shape: {X_train_noisy_tda_good_34.shape}, X_test_noisy_tda_good shape: {X_test_noisy_tda_good_34.shape}\")\n",
    "print(f\"X_train_clean_vector_stitching_good shape: {X_train_clean_vector_stitching_good_34.shape}, X_test_clean_vector_stitching_good shape: {X_test_clean_vector_stitching_good_34.shape}\")\n",
    "print(f\"X_train_noisy_vector_stitching_good shape: {X_train_noisy_vector_stitching_good_34.shape}, X_test_noisy_vector_stitching_good shape: {X_test_noisy_vector_stitching_good_34.shape}\")\n",
    "\n",
    "\n"
   ]
  },
  {
   "cell_type": "code",
   "execution_count": 10,
   "metadata": {},
   "outputs": [],
   "source": [
    "X_train_expanded, X_test_noisy_random_expanded, X_test_expanded = transform_data(X_train, X_test_noisy_random, X_test)\n",
    "_, X_train_noisy_random_expanded, _ = transform_data(X_train, X_train_noisy_random, X_test)"
   ]
  },
  {
   "cell_type": "markdown",
   "metadata": {},
   "source": [
    "## Prepare 90% clean and 10% distorted training and testing sets"
   ]
  },
  {
   "cell_type": "code",
   "execution_count": 25,
   "metadata": {},
   "outputs": [
    {
     "name": "stdout",
     "output_type": "stream",
     "text": [
      "X_tr shape: (100, 28, 28, 1), y_tr shape: (100,)\n",
      "X_tr_tda_34 shape: (100, 28, 28, 34), y_tr_tda_34 shape: (100,)\n",
      "X_tr_vector_stitching_34 shape: (100, 56, 28, 34), y_tr_vector_stitching_34 shape: (100,)\n"
     ]
    }
   ],
   "source": [
    "from sklearn.utils import shuffle\n",
    "\n",
    "# prepare 90% clean and 10% noisy data for training and testing\n",
    "# X_tr_ should be clean raw data of 90% clean and 10% noisy\n",
    "\n",
    "percent = 10\n",
    "# calculate how many distorted data should be added to the clean data\n",
    "n = int((percent/100)*X_train_expanded.shape[0])\n",
    "\n",
    "\n",
    "X_tr = np.concatenate((X_train_expanded[:-n], X_train_noisy_random_expanded[:n]), axis=0)\n",
    "y_tr = np.concatenate((y_train[:-n], y_train[:n]), axis=0)\n",
    "X_tr, y_tr = shuffle(X_tr, y_tr, random_state=666)\n",
    "\n",
    "# the same for other data\n",
    "X_tr_tda_34 = np.concatenate((X_train_clean_tda_good_34[:-n], X_train_noisy_tda_good_34[:n]), axis=0)\n",
    "y_tr_tda_34 = np.concatenate((y_train[:-n], y_train[:n]), axis=0)\n",
    "X_tr_tda_34, y_tr_tda_34 = shuffle(X_tr_tda_34, y_tr_tda_34, random_state=666)\n",
    "\n",
    "\n",
    "X_tr_vector_stitching_34 = np.concatenate((X_train_clean_vector_stitching_good_34[:-n], X_train_noisy_vector_stitching_good_34[:n]), axis=0)\n",
    "y_tr_vector_stitching_34 = np.concatenate((y_train[:-n], y_train[:n]), axis=0)\n",
    "X_tr_vector_stitching_34, y_tr_vector_stitching_34 = shuffle(X_tr_vector_stitching_34, y_tr_vector_stitching_34, random_state=666)\n",
    "\n",
    "\n",
    "print(f\"X_tr shape: {X_tr.shape}, y_tr shape: {y_tr.shape}\")\n",
    "print(f\"X_tr_tda_34 shape: {X_tr_tda_34.shape}, y_tr_tda_34 shape: {y_tr_tda_34.shape}\")\n",
    "print(f\"X_tr_vector_stitching_34 shape: {X_tr_vector_stitching_34.shape}, y_tr_vector_stitching_34 shape: {y_tr_vector_stitching_34.shape}\")\n",
    "\n"
   ]
  },
  {
   "cell_type": "markdown",
   "metadata": {},
   "source": [
    "# Use new module to generate full experiment input data"
   ]
  },
  {
   "cell_type": "code",
   "execution_count": 41,
   "metadata": {},
   "outputs": [
    {
     "name": "stderr",
     "output_type": "stream",
     "text": [
      "c:\\Users\\jawor\\Desktop\\Projekt_licencjacki\\data_preprocessing.py:42: FutureWarning: `seed` is a deprecated argument name for `random_noise`. It will be removed in version 0.23. Please use `rng` instead.\n",
      "  X_train_noisy = random_noise(X_train, mode=\"s&p\",amount=0.05, seed=666)\n",
      "c:\\Users\\jawor\\Desktop\\Projekt_licencjacki\\data_preprocessing.py:43: FutureWarning: `seed` is a deprecated argument name for `random_noise`. It will be removed in version 0.23. Please use `rng` instead.\n",
      "  X_test_noisy = random_noise(X_test, mode=\"s&p\",amount=0.05, seed=666)\n"
     ]
    },
    {
     "name": "stdout",
     "output_type": "stream",
     "text": [
      "done1\n",
      "done2\n",
      "done3\n",
      "done4\n",
      "done5\n",
      "done6\n",
      "done7\n",
      "done8\n"
     ]
    }
   ],
   "source": [
    "from data_preprocessing import process\n",
    "(X, y), _ = tf.keras.datasets.mnist.load_data()\n",
    "\n",
    "data = process(data=(X, y), training_size=10, testing_size=10, dist_ratio=10)"
   ]
  },
  {
   "cell_type": "markdown",
   "metadata": {},
   "source": [
    "# Initialize models"
   ]
  },
  {
   "cell_type": "code",
   "execution_count": 42,
   "metadata": {},
   "outputs": [],
   "source": [
    "# models\n",
    "\n",
    "raw_model = Raw_Model() # cnn models working on raw images\n",
    "dummy_model = Dummy_Model() # fully dense model working on raw images\n",
    "tda_model_34 = TDA_PI34_Model() # cnn model working on persistance images\n",
    "tda_model_42 = TDA_PI42_Model() # cnn model working on persistance images\n",
    "vector_stitching_model_34 = VECTOR_STITCHING_PI_Model_34() # cnn model working on stitched raw and PI images\n",
    "vector_stitching_model_42 = VECTOR_STITCHING_PI_Model_42() # cnn model working on stitched raw and PI images\n"
   ]
  },
  {
   "cell_type": "markdown",
   "metadata": {},
   "source": [
    "## Fitting and validating models\n",
    "\n",
    "All models are trained on clean data, and then validated on only distorted data (look up 2nd paragraph to see plotted example images)"
   ]
  },
  {
   "cell_type": "code",
   "execution_count": 43,
   "metadata": {},
   "outputs": [],
   "source": [
    "tf.keras.backend.clear_session()"
   ]
  },
  {
   "cell_type": "code",
   "execution_count": 44,
   "metadata": {},
   "outputs": [
    {
     "name": "stdout",
     "output_type": "stream",
     "text": [
      "Epoch 1/20\n",
      "10/10 [==============================] - 3s 76ms/step - loss: 3.6559 - accuracy: 0.1000 - val_loss: 7.2002 - val_accuracy: 0.2000\n",
      "Epoch 2/20\n",
      "10/10 [==============================] - 0s 26ms/step - loss: 3.1774 - accuracy: 0.2000 - val_loss: 7.0160 - val_accuracy: 0.1000\n",
      "Epoch 3/20\n",
      "10/10 [==============================] - 0s 32ms/step - loss: 1.8087 - accuracy: 0.3000 - val_loss: 8.0114 - val_accuracy: 0.1000\n",
      "Epoch 4/20\n",
      "10/10 [==============================] - 0s 50ms/step - loss: 1.6880 - accuracy: 0.4000 - val_loss: 6.3501 - val_accuracy: 0.1000\n",
      "Epoch 5/20\n",
      "10/10 [==============================] - 0s 53ms/step - loss: 1.0204 - accuracy: 0.8000 - val_loss: 7.1780 - val_accuracy: 0.1000\n",
      "Epoch 6/20\n",
      "10/10 [==============================] - 0s 49ms/step - loss: 0.7656 - accuracy: 0.8000 - val_loss: 8.4078 - val_accuracy: 0.1000\n",
      "Epoch 7/20\n",
      "10/10 [==============================] - 0s 44ms/step - loss: 0.5464 - accuracy: 0.9000 - val_loss: 12.4109 - val_accuracy: 0.1000\n",
      "Epoch 8/20\n",
      "10/10 [==============================] - 0s 51ms/step - loss: 0.1122 - accuracy: 1.0000 - val_loss: 13.5755 - val_accuracy: 0.1000\n",
      "Epoch 9/20\n",
      "10/10 [==============================] - 0s 36ms/step - loss: 0.2312 - accuracy: 1.0000 - val_loss: 17.0702 - val_accuracy: 0.1000\n",
      "Epoch 10/20\n",
      "10/10 [==============================] - 0s 26ms/step - loss: 0.1235 - accuracy: 1.0000 - val_loss: 16.0548 - val_accuracy: 0.1000\n",
      "Epoch 11/20\n",
      "10/10 [==============================] - 0s 25ms/step - loss: 0.8420 - accuracy: 0.8000 - val_loss: 12.3465 - val_accuracy: 0.1000\n",
      "Epoch 12/20\n",
      "10/10 [==============================] - 0s 24ms/step - loss: 0.5855 - accuracy: 0.8000 - val_loss: 16.4425 - val_accuracy: 0.1000\n",
      "Epoch 13/20\n",
      "10/10 [==============================] - 0s 45ms/step - loss: 0.5347 - accuracy: 0.8000 - val_loss: 16.1868 - val_accuracy: 0.1000\n",
      "Epoch 14/20\n",
      "10/10 [==============================] - 0s 36ms/step - loss: 0.2672 - accuracy: 0.9000 - val_loss: 20.2558 - val_accuracy: 0.1000\n",
      "Epoch 15/20\n",
      "10/10 [==============================] - 0s 38ms/step - loss: 0.1706 - accuracy: 1.0000 - val_loss: 22.0438 - val_accuracy: 0.1000\n",
      "Epoch 16/20\n",
      "10/10 [==============================] - 0s 20ms/step - loss: 0.0516 - accuracy: 1.0000 - val_loss: 20.8822 - val_accuracy: 0.1000\n",
      "Epoch 17/20\n",
      "10/10 [==============================] - 0s 21ms/step - loss: 0.0195 - accuracy: 1.0000 - val_loss: 20.3682 - val_accuracy: 0.1000\n",
      "Epoch 18/20\n",
      "10/10 [==============================] - 0s 23ms/step - loss: 0.0333 - accuracy: 1.0000 - val_loss: 20.9798 - val_accuracy: 0.1000\n",
      "Epoch 19/20\n",
      "10/10 [==============================] - 0s 25ms/step - loss: 0.0486 - accuracy: 1.0000 - val_loss: 22.9880 - val_accuracy: 0.1000\n",
      "Epoch 20/20\n",
      "10/10 [==============================] - 0s 24ms/step - loss: 0.0458 - accuracy: 1.0000 - val_loss: 24.0088 - val_accuracy: 0.1000\n"
     ]
    },
    {
     "data": {
      "text/plain": [
       "<keras.src.callbacks.History at 0x2a8ceca2050>"
      ]
     },
     "execution_count": 44,
     "metadata": {},
     "output_type": "execute_result"
    }
   ],
   "source": [
    "#TDA model\n",
    "\n",
    "tda_model_34.model.fit(data[\"X_tr_tda_34\"], data[\"y_tr_tda_34\"], epochs=20, batch_size=1, validation_data=(data[\"X_test_noisy_tda_good_34\"], data[\"y_test\"]))"
   ]
  },
  {
   "cell_type": "code",
   "execution_count": 45,
   "metadata": {},
   "outputs": [
    {
     "name": "stdout",
     "output_type": "stream",
     "text": [
      "4/4 [==============================] - 0s 12ms/step\n",
      "0 4\n",
      "0 5\n",
      "0 6\n",
      "0 1\n",
      "0 2\n",
      "0 4\n",
      "0 8\n",
      "0 0\n",
      "0 8\n",
      "0 7\n",
      "0 7\n",
      "0 4\n",
      "0 4\n",
      "0 2\n",
      "0 3\n",
      "0 6\n",
      "0 6\n",
      "0 7\n",
      "0 2\n",
      "0 0\n",
      "0 0\n",
      "0 7\n",
      "0 1\n",
      "0 6\n",
      "0 0\n",
      "0 5\n",
      "0 0\n",
      "0 4\n",
      "0 4\n",
      "0 3\n",
      "0 1\n",
      "0 3\n",
      "0 2\n",
      "0 6\n",
      "0 3\n",
      "0 0\n",
      "0 2\n",
      "0 3\n",
      "0 5\n",
      "0 8\n",
      "0 4\n",
      "0 1\n",
      "0 3\n",
      "0 9\n",
      "0 2\n",
      "0 3\n",
      "0 2\n",
      "0 6\n",
      "0 0\n",
      "0 4\n",
      "0 5\n",
      "0 6\n",
      "0 6\n",
      "0 5\n",
      "0 7\n",
      "0 5\n",
      "0 9\n",
      "0 7\n",
      "0 7\n",
      "0 2\n",
      "0 0\n",
      "0 9\n",
      "0 7\n",
      "0 2\n",
      "0 2\n",
      "0 9\n",
      "0 8\n",
      "0 7\n",
      "0 9\n",
      "0 4\n",
      "0 1\n",
      "0 0\n",
      "0 9\n",
      "0 8\n",
      "0 1\n",
      "0 9\n",
      "0 8\n",
      "0 1\n",
      "0 6\n",
      "0 5\n",
      "0 1\n",
      "0 9\n",
      "0 3\n",
      "0 3\n",
      "0 8\n",
      "0 3\n",
      "0 0\n",
      "0 1\n",
      "0 9\n",
      "0 8\n",
      "0 1\n",
      "0 5\n",
      "0 8\n",
      "0 6\n",
      "0 1\n",
      "0 7\n",
      "0 5\n",
      "0 9\n",
      "0 4\n",
      "0 8\n",
      "Accuracy: 0.1\n"
     ]
    }
   ],
   "source": [
    "predictions_tda = tda_model_34.model.predict(X_test_noisy_tda_good_34)\n",
    "\n",
    "score =0\n",
    "for i,row in enumerate(predictions_tda):\n",
    "    print(np.argmax(row), y_test[i])\n",
    "    if np.argmax(row) == y_test[i]:\n",
    "        score += 1\n",
    "\n",
    "print(f\"Accuracy: {score/len(predictions_tda)}\")"
   ]
  },
  {
   "cell_type": "code",
   "execution_count": 46,
   "metadata": {},
   "outputs": [],
   "source": [
    "tf.keras.backend.clear_session()"
   ]
  },
  {
   "cell_type": "code",
   "execution_count": 31,
   "metadata": {},
   "outputs": [
    {
     "name": "stdout",
     "output_type": "stream",
     "text": [
      "Epoch 1/20\n",
      "20/20 [==============================] - 3s 37ms/step - loss: 9.2035 - accuracy: 0.1800 - val_loss: 2.2980 - val_accuracy: 0.1800\n",
      "Epoch 2/20\n",
      "20/20 [==============================] - 0s 23ms/step - loss: 1.9751 - accuracy: 0.4200 - val_loss: 2.2996 - val_accuracy: 0.1900\n",
      "Epoch 3/20\n",
      "20/20 [==============================] - 1s 27ms/step - loss: 1.1975 - accuracy: 0.5800 - val_loss: 2.2990 - val_accuracy: 0.1200\n",
      "Epoch 4/20\n",
      "20/20 [==============================] - 1s 42ms/step - loss: 0.8358 - accuracy: 0.7800 - val_loss: 2.2971 - val_accuracy: 0.2000\n",
      "Epoch 5/20\n",
      "20/20 [==============================] - 1s 32ms/step - loss: 0.7305 - accuracy: 0.7900 - val_loss: 2.2956 - val_accuracy: 0.2100\n",
      "Epoch 6/20\n",
      "20/20 [==============================] - 1s 42ms/step - loss: 0.4406 - accuracy: 0.8600 - val_loss: 2.2954 - val_accuracy: 0.1900\n",
      "Epoch 7/20\n",
      "20/20 [==============================] - 1s 37ms/step - loss: 0.3232 - accuracy: 0.9100 - val_loss: 2.2938 - val_accuracy: 0.2100\n",
      "Epoch 8/20\n",
      "20/20 [==============================] - 0s 22ms/step - loss: 0.3067 - accuracy: 0.9000 - val_loss: 2.2906 - val_accuracy: 0.2500\n",
      "Epoch 9/20\n",
      "20/20 [==============================] - 0s 22ms/step - loss: 0.2458 - accuracy: 0.9700 - val_loss: 2.2887 - val_accuracy: 0.2100\n",
      "Epoch 10/20\n",
      "20/20 [==============================] - 1s 26ms/step - loss: 0.2987 - accuracy: 0.9000 - val_loss: 2.2873 - val_accuracy: 0.2300\n",
      "Epoch 11/20\n",
      "20/20 [==============================] - 1s 28ms/step - loss: 0.3566 - accuracy: 0.9100 - val_loss: 2.2863 - val_accuracy: 0.2100\n",
      "Epoch 12/20\n",
      "20/20 [==============================] - 1s 29ms/step - loss: 0.3214 - accuracy: 0.9100 - val_loss: 2.2865 - val_accuracy: 0.2100\n",
      "Epoch 13/20\n",
      "20/20 [==============================] - 0s 24ms/step - loss: 0.2722 - accuracy: 0.9300 - val_loss: 2.2826 - val_accuracy: 0.2200\n",
      "Epoch 14/20\n",
      "20/20 [==============================] - 1s 40ms/step - loss: 0.2423 - accuracy: 0.9500 - val_loss: 2.2781 - val_accuracy: 0.2400\n",
      "Epoch 15/20\n",
      "20/20 [==============================] - 0s 24ms/step - loss: 0.2676 - accuracy: 0.9300 - val_loss: 2.2772 - val_accuracy: 0.2000\n",
      "Epoch 16/20\n",
      "20/20 [==============================] - 0s 21ms/step - loss: 0.2449 - accuracy: 0.9400 - val_loss: 2.2748 - val_accuracy: 0.2100\n",
      "Epoch 17/20\n",
      "20/20 [==============================] - 1s 26ms/step - loss: 0.2272 - accuracy: 0.9500 - val_loss: 2.2737 - val_accuracy: 0.2000\n",
      "Epoch 18/20\n",
      "20/20 [==============================] - 1s 28ms/step - loss: 0.2435 - accuracy: 0.9100 - val_loss: 2.2739 - val_accuracy: 0.2000\n",
      "Epoch 19/20\n",
      "20/20 [==============================] - 1s 27ms/step - loss: 0.3226 - accuracy: 0.8900 - val_loss: 2.2764 - val_accuracy: 0.1400\n",
      "Epoch 20/20\n",
      "20/20 [==============================] - 1s 28ms/step - loss: 0.3228 - accuracy: 0.9100 - val_loss: 2.2749 - val_accuracy: 0.2100\n"
     ]
    },
    {
     "data": {
      "text/plain": [
       "<keras.src.callbacks.History at 0x2a8b97d0d30>"
      ]
     },
     "execution_count": 31,
     "metadata": {},
     "output_type": "execute_result"
    }
   ],
   "source": [
    "# RAW model\n",
    "raw_model.model.fit(X_tr, y_tr, epochs=20, batch_size=5, validation_data=(X_test_noisy_random_expanded, y_test))"
   ]
  },
  {
   "cell_type": "code",
   "execution_count": 32,
   "metadata": {},
   "outputs": [
    {
     "name": "stdout",
     "output_type": "stream",
     "text": [
      "4/4 [==============================] - 0s 10ms/step\n",
      "5 4\n",
      "5 5\n",
      "5 6\n",
      "1 1\n",
      "5 2\n",
      "1 4\n",
      "1 8\n",
      "5 0\n",
      "5 8\n",
      "1 7\n",
      "1 7\n",
      "1 4\n",
      "5 4\n",
      "1 2\n",
      "1 3\n",
      "5 6\n",
      "5 6\n",
      "5 7\n",
      "5 2\n",
      "5 0\n",
      "5 0\n",
      "1 7\n",
      "1 1\n",
      "1 6\n",
      "5 0\n",
      "5 5\n",
      "0 0\n",
      "5 4\n",
      "1 4\n",
      "5 3\n",
      "1 1\n",
      "5 3\n",
      "5 2\n",
      "1 6\n",
      "5 3\n",
      "5 0\n",
      "1 2\n",
      "5 3\n",
      "5 5\n",
      "5 8\n",
      "1 4\n",
      "1 1\n",
      "5 3\n",
      "5 9\n",
      "5 2\n",
      "5 3\n",
      "1 2\n",
      "5 6\n",
      "5 0\n",
      "5 4\n",
      "5 5\n",
      "5 6\n",
      "5 6\n",
      "5 5\n",
      "5 7\n",
      "5 5\n",
      "5 9\n",
      "1 7\n",
      "1 7\n",
      "1 2\n",
      "5 0\n",
      "1 9\n",
      "5 7\n",
      "5 2\n",
      "5 2\n",
      "5 9\n",
      "1 8\n",
      "1 7\n",
      "5 9\n",
      "5 4\n",
      "1 1\n",
      "5 0\n",
      "5 9\n",
      "1 8\n",
      "1 1\n",
      "5 9\n",
      "1 8\n",
      "1 1\n",
      "5 6\n",
      "5 5\n",
      "1 1\n",
      "5 9\n",
      "5 3\n",
      "5 3\n",
      "5 8\n",
      "5 3\n",
      "5 0\n",
      "1 1\n",
      "5 9\n",
      "5 8\n",
      "1 1\n",
      "5 5\n",
      "5 8\n",
      "5 6\n",
      "1 1\n",
      "5 7\n",
      "5 5\n",
      "5 9\n",
      "1 4\n",
      "1 8\n",
      "Accuracy: 0.21\n"
     ]
    }
   ],
   "source": [
    "predictions_raw = raw_model.model.predict(X_test_noisy_random_expanded)\n",
    "\n",
    "scoreraw=0\n",
    "\n",
    "for i,row in enumerate(predictions_raw):\n",
    "    print(np.argmax(row), y_test[i])\n",
    "    if np.argmax(row) == y_test[i]:\n",
    "        scoreraw += 1\n",
    "\n",
    "print(f\"Accuracy: {scoreraw/len(predictions_raw)}\")\n"
   ]
  },
  {
   "cell_type": "code",
   "execution_count": 33,
   "metadata": {},
   "outputs": [
    {
     "name": "stdout",
     "output_type": "stream",
     "text": [
      "tda:  3     raw:  5     combined:  3     actual:  4\n",
      "tda:  5     raw:  5     combined:  5     actual:  5\n",
      "tda:  4     raw:  5     combined:  4     actual:  6\n",
      "tda:  3     raw:  1     combined:  3     actual:  1\n",
      "tda:  1     raw:  5     combined:  1     actual:  2\n",
      "tda:  1     raw:  1     combined:  1     actual:  4\n",
      "tda:  1     raw:  1     combined:  1     actual:  8\n",
      "tda:  0     raw:  5     combined:  0     actual:  0\n",
      "tda:  0     raw:  5     combined:  0     actual:  8\n",
      "tda:  1     raw:  1     combined:  1     actual:  7\n",
      "tda:  9     raw:  1     combined:  9     actual:  7\n",
      "tda:  5     raw:  1     combined:  5     actual:  4\n",
      "tda:  1     raw:  5     combined:  1     actual:  4\n",
      "tda:  1     raw:  1     combined:  1     actual:  2\n",
      "tda:  1     raw:  1     combined:  1     actual:  3\n",
      "tda:  6     raw:  5     combined:  6     actual:  6\n",
      "tda:  1     raw:  5     combined:  1     actual:  6\n",
      "tda:  1     raw:  5     combined:  1     actual:  7\n",
      "tda:  8     raw:  5     combined:  8     actual:  2\n",
      "tda:  8     raw:  5     combined:  0     actual:  0\n",
      "tda:  5     raw:  5     combined:  5     actual:  0\n",
      "tda:  9     raw:  1     combined:  9     actual:  7\n",
      "tda:  1     raw:  1     combined:  1     actual:  1\n",
      "tda:  1     raw:  1     combined:  1     actual:  6\n",
      "tda:  8     raw:  5     combined:  8     actual:  0\n",
      "tda:  1     raw:  5     combined:  5     actual:  5\n",
      "tda:  0     raw:  0     combined:  0     actual:  0\n",
      "tda:  3     raw:  5     combined:  3     actual:  4\n",
      "tda:  1     raw:  1     combined:  1     actual:  4\n",
      "tda:  1     raw:  5     combined:  1     actual:  3\n",
      "tda:  1     raw:  1     combined:  1     actual:  1\n",
      "tda:  1     raw:  5     combined:  1     actual:  3\n",
      "tda:  5     raw:  5     combined:  5     actual:  2\n",
      "tda:  1     raw:  1     combined:  1     actual:  6\n",
      "tda:  3     raw:  5     combined:  3     actual:  3\n",
      "tda:  7     raw:  5     combined:  1     actual:  0\n",
      "tda:  3     raw:  1     combined:  3     actual:  2\n",
      "tda:  1     raw:  5     combined:  1     actual:  3\n",
      "tda:  5     raw:  5     combined:  5     actual:  5\n",
      "tda:  1     raw:  5     combined:  1     actual:  8\n",
      "tda:  5     raw:  1     combined:  5     actual:  4\n",
      "tda:  1     raw:  1     combined:  1     actual:  1\n",
      "tda:  3     raw:  5     combined:  3     actual:  3\n",
      "tda:  1     raw:  5     combined:  1     actual:  9\n",
      "tda:  5     raw:  5     combined:  5     actual:  2\n",
      "tda:  5     raw:  5     combined:  5     actual:  3\n",
      "tda:  1     raw:  1     combined:  1     actual:  2\n",
      "tda:  1     raw:  5     combined:  1     actual:  6\n",
      "tda:  9     raw:  5     combined:  9     actual:  0\n",
      "tda:  1     raw:  5     combined:  1     actual:  4\n",
      "tda:  3     raw:  5     combined:  3     actual:  5\n",
      "tda:  4     raw:  5     combined:  5     actual:  6\n",
      "tda:  1     raw:  5     combined:  1     actual:  6\n",
      "tda:  5     raw:  5     combined:  5     actual:  5\n",
      "tda:  1     raw:  5     combined:  1     actual:  7\n",
      "tda:  1     raw:  5     combined:  1     actual:  5\n",
      "tda:  5     raw:  5     combined:  5     actual:  9\n",
      "tda:  1     raw:  1     combined:  1     actual:  7\n",
      "tda:  1     raw:  1     combined:  1     actual:  7\n",
      "tda:  0     raw:  1     combined:  0     actual:  2\n",
      "tda:  8     raw:  5     combined:  8     actual:  0\n",
      "tda:  1     raw:  1     combined:  1     actual:  9\n",
      "tda:  5     raw:  5     combined:  5     actual:  7\n",
      "tda:  0     raw:  5     combined:  0     actual:  2\n",
      "tda:  1     raw:  5     combined:  1     actual:  2\n",
      "tda:  1     raw:  5     combined:  1     actual:  9\n",
      "tda:  4     raw:  1     combined:  4     actual:  8\n",
      "tda:  1     raw:  1     combined:  1     actual:  7\n",
      "tda:  1     raw:  5     combined:  1     actual:  9\n",
      "tda:  4     raw:  5     combined:  4     actual:  4\n",
      "tda:  1     raw:  1     combined:  1     actual:  1\n",
      "tda:  0     raw:  5     combined:  0     actual:  0\n",
      "tda:  5     raw:  5     combined:  5     actual:  9\n",
      "tda:  1     raw:  1     combined:  1     actual:  8\n",
      "tda:  1     raw:  1     combined:  1     actual:  1\n",
      "tda:  5     raw:  5     combined:  5     actual:  9\n",
      "tda:  3     raw:  1     combined:  5     actual:  8\n",
      "tda:  1     raw:  1     combined:  1     actual:  1\n",
      "tda:  6     raw:  5     combined:  6     actual:  6\n",
      "tda:  5     raw:  5     combined:  5     actual:  5\n",
      "tda:  1     raw:  1     combined:  1     actual:  1\n",
      "tda:  1     raw:  5     combined:  1     actual:  9\n",
      "tda:  8     raw:  5     combined:  8     actual:  3\n",
      "tda:  7     raw:  5     combined:  7     actual:  3\n",
      "tda:  5     raw:  5     combined:  5     actual:  8\n",
      "tda:  1     raw:  5     combined:  1     actual:  3\n",
      "tda:  1     raw:  5     combined:  1     actual:  0\n",
      "tda:  1     raw:  1     combined:  1     actual:  1\n",
      "tda:  3     raw:  5     combined:  3     actual:  9\n",
      "tda:  8     raw:  5     combined:  8     actual:  8\n",
      "tda:  3     raw:  1     combined:  3     actual:  1\n",
      "tda:  1     raw:  5     combined:  1     actual:  5\n",
      "tda:  8     raw:  5     combined:  8     actual:  8\n",
      "tda:  6     raw:  5     combined:  6     actual:  6\n",
      "tda:  3     raw:  1     combined:  3     actual:  1\n",
      "tda:  5     raw:  5     combined:  5     actual:  7\n",
      "tda:  8     raw:  5     combined:  8     actual:  5\n",
      "tda:  9     raw:  5     combined:  9     actual:  9\n",
      "tda:  5     raw:  1     combined:  5     actual:  4\n",
      "tda:  1     raw:  1     combined:  1     actual:  8\n",
      "Combined Accuracy: 0.26\n"
     ]
    }
   ],
   "source": [
    "i=0\n",
    "combined_score = 0\n",
    "for row_tda, row_raw in zip(predictions_tda, predictions_raw):\n",
    "    # multiply rows elementwise \n",
    "    combined = row_tda * row_raw\n",
    "    if np.argmax(combined) == y_test[i]:\n",
    "        combined_score += 1\n",
    "    print(\"tda: \",np.argmax(row_tda),\"    raw: \", np.argmax(row_raw), \"    combined: \", np.argmax(combined), \"    actual: \", y_test[i]) \n",
    "    i+=1\n",
    "\n",
    "print(f\"Combined Accuracy: {combined_score/len(predictions_tda)}\")"
   ]
  },
  {
   "cell_type": "code",
   "execution_count": 34,
   "metadata": {},
   "outputs": [],
   "source": [
    "tf.keras.backend.clear_session()"
   ]
  },
  {
   "cell_type": "code",
   "execution_count": 35,
   "metadata": {},
   "outputs": [
    {
     "name": "stdout",
     "output_type": "stream",
     "text": [
      "Epoch 1/20\n",
      "20/20 [==============================] - 4s 45ms/step - loss: 2.6781 - accuracy: 0.2000 - val_loss: 2.4179 - val_accuracy: 0.1800\n",
      "Epoch 2/20\n",
      "20/20 [==============================] - 1s 34ms/step - loss: 2.2543 - accuracy: 0.2600 - val_loss: 2.1943 - val_accuracy: 0.1900\n",
      "Epoch 3/20\n",
      "20/20 [==============================] - 1s 43ms/step - loss: 2.0302 - accuracy: 0.3100 - val_loss: 2.0727 - val_accuracy: 0.2700\n",
      "Epoch 4/20\n",
      "20/20 [==============================] - 1s 29ms/step - loss: 1.6966 - accuracy: 0.4000 - val_loss: 1.9657 - val_accuracy: 0.3900\n",
      "Epoch 5/20\n",
      "20/20 [==============================] - 1s 29ms/step - loss: 1.3108 - accuracy: 0.5500 - val_loss: 2.0813 - val_accuracy: 0.3000\n",
      "Epoch 6/20\n",
      "20/20 [==============================] - 1s 33ms/step - loss: 1.0625 - accuracy: 0.7000 - val_loss: 1.9380 - val_accuracy: 0.4000\n",
      "Epoch 7/20\n",
      "20/20 [==============================] - 1s 49ms/step - loss: 0.8620 - accuracy: 0.7500 - val_loss: 1.5820 - val_accuracy: 0.4500\n",
      "Epoch 8/20\n",
      "20/20 [==============================] - 1s 58ms/step - loss: 0.7205 - accuracy: 0.7500 - val_loss: 1.4694 - val_accuracy: 0.6000\n",
      "Epoch 9/20\n",
      "20/20 [==============================] - 1s 48ms/step - loss: 0.4313 - accuracy: 0.8800 - val_loss: 1.4155 - val_accuracy: 0.5700\n",
      "Epoch 10/20\n",
      "20/20 [==============================] - 1s 47ms/step - loss: 0.4201 - accuracy: 0.9100 - val_loss: 1.1865 - val_accuracy: 0.6100\n",
      "Epoch 11/20\n",
      "20/20 [==============================] - 1s 48ms/step - loss: 0.2457 - accuracy: 0.9500 - val_loss: 1.1646 - val_accuracy: 0.6100\n",
      "Epoch 12/20\n",
      "20/20 [==============================] - 1s 31ms/step - loss: 0.2461 - accuracy: 0.9300 - val_loss: 1.0311 - val_accuracy: 0.7000\n",
      "Epoch 13/20\n",
      "20/20 [==============================] - 1s 35ms/step - loss: 0.2310 - accuracy: 0.9400 - val_loss: 1.1342 - val_accuracy: 0.6300\n",
      "Epoch 14/20\n",
      "20/20 [==============================] - 1s 45ms/step - loss: 0.1014 - accuracy: 0.9800 - val_loss: 0.8939 - val_accuracy: 0.7400\n",
      "Epoch 15/20\n",
      "20/20 [==============================] - 1s 38ms/step - loss: 0.0546 - accuracy: 0.9900 - val_loss: 0.9297 - val_accuracy: 0.7300\n",
      "Epoch 16/20\n",
      "20/20 [==============================] - 1s 30ms/step - loss: 0.1428 - accuracy: 0.9600 - val_loss: 0.8644 - val_accuracy: 0.7400\n",
      "Epoch 17/20\n",
      "20/20 [==============================] - 1s 42ms/step - loss: 0.2485 - accuracy: 0.9500 - val_loss: 1.0077 - val_accuracy: 0.7100\n",
      "Epoch 18/20\n",
      "20/20 [==============================] - 1s 48ms/step - loss: 0.1457 - accuracy: 0.9700 - val_loss: 0.9846 - val_accuracy: 0.7000\n",
      "Epoch 19/20\n",
      "20/20 [==============================] - 1s 47ms/step - loss: 0.3200 - accuracy: 0.9700 - val_loss: 0.8616 - val_accuracy: 0.7100\n",
      "Epoch 20/20\n",
      "20/20 [==============================] - 1s 33ms/step - loss: 0.0909 - accuracy: 0.9700 - val_loss: 0.8447 - val_accuracy: 0.7400\n"
     ]
    },
    {
     "data": {
      "text/plain": [
       "<keras.src.callbacks.History at 0x2a8a4ed3730>"
      ]
     },
     "execution_count": 35,
     "metadata": {},
     "output_type": "execute_result"
    }
   ],
   "source": [
    "#Vector stitching model\n",
    "\n",
    "vector_stitching_model_34.model.fit(X_tr_vector_stitching_34, y_tr_vector_stitching_34, epochs=20, batch_size=5, validation_data=(X_test_noisy_vector_stitching_good_34, y_test))"
   ]
  },
  {
   "cell_type": "code",
   "execution_count": null,
   "metadata": {},
   "outputs": [],
   "source": []
  }
 ],
 "metadata": {
  "kernelspec": {
   "display_name": "Python 3",
   "language": "python",
   "name": "python3"
  },
  "language_info": {
   "codemirror_mode": {
    "name": "ipython",
    "version": 3
   },
   "file_extension": ".py",
   "mimetype": "text/x-python",
   "name": "python",
   "nbconvert_exporter": "python",
   "pygments_lexer": "ipython3",
   "version": "3.10.11"
  }
 },
 "nbformat": 4,
 "nbformat_minor": 2
}
