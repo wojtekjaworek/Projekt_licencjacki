{
 "cells": [
  {
   "cell_type": "markdown",
   "metadata": {},
   "source": [
    "## Import packages and modules"
   ]
  },
  {
   "cell_type": "code",
   "execution_count": 42,
   "metadata": {},
   "outputs": [],
   "source": [
    "from models.tda_models import TDA_PI34_Model, TDA_PI42_Model, VECTOR_STITCHING_PI_Model_34, VECTOR_STITCHING_PI_Model_42\n",
    "from models.raw_models import Raw_Model, Dummy_Model\n",
    "from models.combined_models import Combined_model\n",
    "from tda_pipelines import *\n"
   ]
  },
  {
   "cell_type": "markdown",
   "metadata": {},
   "source": [
    "## Fetch dataset, prepare training and testing sets, generate distorted sets"
   ]
  },
  {
   "cell_type": "code",
   "execution_count": 44,
   "metadata": {},
   "outputs": [
    {
     "name": "stderr",
     "output_type": "stream",
     "text": [
      "c:\\Users\\jawor\\AppData\\Local\\Programs\\Python\\Python310\\lib\\site-packages\\sklearn\\datasets\\_openml.py:968: FutureWarning: The default value of `parser` will change from `'liac-arff'` to `'auto'` in 1.4. You can set `parser='auto'` to silence this warning. Therefore, an `ImportError` will be raised from 1.4 if the dataset is dense and pandas is not installed. Note that the pandas parser may return different data types. See the Notes Section in fetch_openml's API doc for details.\n",
      "  warn(\n"
     ]
    },
    {
     "name": "stdout",
     "output_type": "stream",
     "text": [
      "X shape: (70000, 784), y shape: (70000,)\n",
      "X_train shape: (1000, 28, 28), y_train shape: (1000,)\n",
      "X_test shape: (100, 28, 28), y_test shape: (100,)\n"
     ]
    }
   ],
   "source": [
    "# fetch data, prepare for pipeline and test models\n",
    "\n",
    "from sklearn.datasets import fetch_openml \n",
    "import numpy as np\n",
    "from sklearn.model_selection import train_test_split\n",
    "\n",
    "X, y = fetch_openml(\"mnist_784\", version=1, return_X_y=True, as_frame=False)\n",
    "print(f\"X shape: {X.shape}, y shape: {y.shape}\")\n",
    "train_size, test_size = 1000, 100 # Reshape to (n_samples, n_pixels_x, n_pixels_y) \n",
    "X = X.reshape((-1, 28, 28)) \n",
    "X_train, X_test, y_train, y_test = train_test_split( X, y, train_size=train_size, test_size=test_size, stratify=y, random_state=666 ) \n",
    "print(f\"X_train shape: {X_train.shape}, y_train shape: {y_train.shape}\") \n",
    "print(f\"X_test shape: {X_test.shape}, y_test shape: {y_test.shape}\")\n",
    "\n",
    "\n",
    "# mnist comes with string labels, we need to convert them to int\n",
    "y_train = y_train.astype(int)\n",
    "y_test = y_test.astype(int)\n"
   ]
  },
  {
   "cell_type": "code",
   "execution_count": 45,
   "metadata": {},
   "outputs": [
    {
     "name": "stderr",
     "output_type": "stream",
     "text": [
      "C:\\Users\\jawor\\AppData\\Local\\Temp\\ipykernel_13676\\1520112787.py:5: FutureWarning: `seed` is a deprecated argument name for `random_noise`. It will be removed in version 0.23. Please use `rng` instead.\n",
      "  X_train_noisy = random_noise(X_train, mode=\"s&p\",amount=0.05, seed=666)\n",
      "C:\\Users\\jawor\\AppData\\Local\\Temp\\ipykernel_13676\\1520112787.py:6: FutureWarning: `seed` is a deprecated argument name for `random_noise`. It will be removed in version 0.23. Please use `rng` instead.\n",
      "  X_test_noisy = random_noise(X_test, mode=\"s&p\",amount=0.05, seed=666)\n"
     ]
    },
    {
     "data": {
      "text/plain": [
       "Text(0.5, 1.0, 'Noisy Image with Random Noise')"
      ]
     },
     "execution_count": 45,
     "metadata": {},
     "output_type": "execute_result"
    },
    {
     "data": {
      "image/png": "[encoded data removed]",
      "text/plain": [
       "<Figure size 1500x500 with 3 Axes>"
      ]
     },
     "metadata": {},
     "output_type": "display_data"
    }
   ],
   "source": [
    "# distort X_train and X_test a little bit not using giotto\n",
    "import matplotlib.pyplot as plt\n",
    "import tensorflow as tf\n",
    "from skimage.util import random_noise\n",
    "X_train_noisy = random_noise(X_train, mode=\"s&p\",amount=0.05, seed=666)\n",
    "X_test_noisy = random_noise(X_test, mode=\"s&p\",amount=0.05, seed=666)\n",
    "\n",
    "# generate random noise matrix of size X_train_noisy.shape and X_test_noisy.shape but without original image\n",
    "\n",
    "X_train_noisy_random = np.random.rand(*X_train_noisy.shape)\n",
    "X_test_noisy_random = np.random.rand(*X_test_noisy.shape)\n",
    "\n",
    "# for each image in X_train_noisy and X_test_noisy, we will add the random noise matrix to the image\n",
    "\n",
    "X_train_noisy_random = X_train_noisy + X_train_noisy_random\n",
    "X_test_noisy_random = X_test_noisy + 0.5*X_test_noisy_random\n",
    "\n",
    "# plot the original image, the noisy image and the noisy image with random noise\n",
    "\n",
    "fig, ax = plt.subplots(1, 3, figsize=(15, 5))\n",
    "ax[0].imshow(X_test[5], cmap=\"gray\")\n",
    "ax[0].set_title(\"Original Image\")\n",
    "ax[1].imshow(X_test_noisy[5], cmap=\"gray\")\n",
    "ax[1].set_title(\"Noisy Image\")\n",
    "ax[2].imshow(X_test_noisy_random[5], cmap=\"gray\")\n",
    "ax[2].set_title(\"Noisy Image with Random Noise\")\n"
   ]
  },
  {
   "cell_type": "markdown",
   "metadata": {},
   "source": [
    "## Load TDA and Vector-stitching pipelines "
   ]
  },
  {
   "cell_type": "code",
   "execution_count": 46,
   "metadata": {},
   "outputs": [],
   "source": [
    "# load pipelines \n",
    "\n",
    "tda_pipeline_34 = TDA_PI34_Pipeline()\n",
    "tda_pipeline_42 = TDA_PI42_Pipeline()\n",
    "vector_stitching_pipeline_34, tda_union_34 = VECTOR_STITCHING_PI_Pipeline_34()\n",
    "vector_stitching_pipeline_42, tda_union_42 = VECTOR_STITCHING_PI_Pipeline_42()\n"
   ]
  },
  {
   "cell_type": "markdown",
   "metadata": {},
   "source": [
    "## Transform raw data to persistance images and stitched RAW-PI images"
   ]
  },
  {
   "cell_type": "code",
   "execution_count": 47,
   "metadata": {},
   "outputs": [
    {
     "name": "stdout",
     "output_type": "stream",
     "text": [
      "done\n",
      "done\n",
      "done\n",
      "done\n",
      "done\n",
      "done\n",
      "done\n",
      "done\n"
     ]
    }
   ],
   "source": [
    "# clean data\n",
    "\n",
    "X_train_clean_tda_34 = tda_pipeline_34.fit_transform(X_train)\n",
    "print(\"done\")\n",
    "X_test_clean_tda_34 = tda_pipeline_34.transform(X_test)\n",
    "print(\"done\")\n",
    "X_train_clean_tda_42 = tda_pipeline_42.fit_transform(X_train)\n",
    "print(\"done\")\n",
    "X_test_clean_tda_42 = tda_pipeline_42.transform(X_test)\n",
    "print(\"done\")\n",
    "\n",
    "# distorted data\n",
    "X_train_noisy_tda_34 = tda_pipeline_34.fit_transform(X_train_noisy_random)\n",
    "print(\"done\")\n",
    "X_test_noisy_tda_34 = tda_pipeline_34.transform(X_test_noisy_random)\n",
    "print(\"done\")\n",
    "X_train_noisy_tda_42 = tda_pipeline_42.fit_transform(X_train_noisy_random)\n",
    "print(\"done\")\n",
    "X_test_noisy_tda_42 = tda_pipeline_42.transform(X_test_noisy_random)\n",
    "print(\"done\")\n"
   ]
  },
  {
   "cell_type": "code",
   "execution_count": 48,
   "metadata": {},
   "outputs": [
    {
     "name": "stdout",
     "output_type": "stream",
     "text": [
      "done\n",
      "done\n",
      "done\n",
      "done\n",
      "done\n",
      "done\n",
      "done\n",
      "done\n"
     ]
    }
   ],
   "source": [
    "\n",
    "#important for initializing Binarizer\n",
    "#X_training = tda_union.fit(X_train)\n",
    "\n",
    "#clean data\n",
    "X_train_clean_vector_stitching_34 = vector_stitching_pipeline_34.fit_transform(X_train)\n",
    "print(\"done\")\n",
    "X_test_clean_vector_stitching_34 = vector_stitching_pipeline_34.transform(X_test)\n",
    "print(\"done\")\n",
    "X_train_clean_vector_stitching_42 = vector_stitching_pipeline_42.fit_transform(X_train)\n",
    "print(\"done\")\n",
    "X_test_clean_vector_stitching_42 = vector_stitching_pipeline_42.transform(X_test)\n",
    "print(\"done\")\n",
    "\n",
    "# distorted data\n",
    "X_train_noisy_vector_stitching_34 = vector_stitching_pipeline_34.fit_transform(X_train_noisy_random)\n",
    "print(\"done\")\n",
    "X_test_noisy_vector_stitching_34 = vector_stitching_pipeline_34.transform(X_test_noisy_random)\n",
    "print(\"done\")\n",
    "X_train_noisy_vector_stitching_42 = vector_stitching_pipeline_42.fit_transform(X_train_noisy_random)\n",
    "print(\"done\")\n",
    "X_test_noisy_vector_stitching_42 = vector_stitching_pipeline_42.transform(X_test_noisy_random)\n",
    "print(\"done\")\n"
   ]
  },
  {
   "cell_type": "code",
   "execution_count": 49,
   "metadata": {},
   "outputs": [
    {
     "name": "stdout",
     "output_type": "stream",
     "text": [
      "X_train_clean_tda_good shape: (1000, 28, 28, 34), X_test_clean_tda_good shape: (100, 28, 28, 34)\n",
      "X_train_noisy_tda_good shape: (1000, 28, 28, 34), X_test_noisy_tda_good shape: (100, 28, 28, 34)\n",
      "X_train_clean_vector_stitching_good shape: (1000, 56, 28, 34), X_test_clean_vector_stitching_good shape: (100, 56, 28, 34)\n",
      "X_train_noisy_vector_stitching_good shape: (1000, 56, 28, 34), X_test_noisy_vector_stitching_good shape: (100, 56, 28, 34)\n",
      "X_train_clean_tda_good shape: (1000, 28, 28, 42), X_test_clean_tda_good shape: (100, 28, 28, 42)\n",
      "X_train_noisy_tda_good shape: (1000, 28, 28, 42), X_test_noisy_tda_good shape: (100, 28, 28, 42)\n",
      "X_train_clean_vector_stitching_good shape: (1000, 56, 28, 42), X_test_clean_vector_stitching_good shape: (100, 56, 28, 42)\n",
      "X_train_noisy_vector_stitching_good shape: (1000, 56, 28, 42), X_test_noisy_vector_stitching_good shape: (100, 56, 28, 42)\n"
     ]
    }
   ],
   "source": [
    "# this needs to be integrated into pipeline, transposing the data to fit the input shape of the model\n",
    "\n",
    "# normal tda\n",
    "X_train_clean_tda_good_34 = np.transpose(X_train_clean_tda_34, (0, 3, 2, 1))\n",
    "X_test_clean_tda_good_34 = np.transpose(X_test_clean_tda_34, (0, 3, 2, 1))\n",
    "\n",
    "X_train_noisy_tda_good_34 = np.transpose(X_train_noisy_tda_34, (0, 3, 2, 1))\n",
    "X_test_noisy_tda_good_34 = np.transpose(X_test_noisy_tda_34, (0, 3, 2, 1))\n",
    "\n",
    "X_train_clean_tda_good_42 = np.transpose(X_train_clean_tda_42, (0, 3, 2, 1))\n",
    "X_test_clean_tda_good_42 = np.transpose(X_test_clean_tda_42, (0, 3, 2, 1))\n",
    "\n",
    "X_train_noisy_tda_good_42 = np.transpose(X_train_noisy_tda_42, (0, 3, 2, 1))\n",
    "X_test_noisy_tda_good_42 = np.transpose(X_test_noisy_tda_42, (0, 3, 2, 1))\n",
    "\n",
    "#stitched\n",
    "\n",
    "X_train_clean_vector_stitching_good_34 = np.transpose(X_train_clean_vector_stitching_34, (0, 3, 2, 1))\n",
    "X_test_clean_vector_stitching_good_34 = np.transpose(X_test_clean_vector_stitching_34, (0, 3, 2, 1))\n",
    "\n",
    "X_train_noisy_vector_stitching_good_34 = np.transpose(X_train_noisy_vector_stitching_34, (0, 3, 2, 1))\n",
    "X_test_noisy_vector_stitching_good_34 = np.transpose(X_test_noisy_vector_stitching_34, (0, 3, 2, 1))\n",
    "\n",
    "X_train_clean_vector_stitching_good_42 = np.transpose(X_train_clean_vector_stitching_42, (0, 3, 2, 1))\n",
    "X_test_clean_vector_stitching_good_42 = np.transpose(X_test_clean_vector_stitching_42, (0, 3, 2, 1))\n",
    "\n",
    "X_train_noisy_vector_stitching_good_42 = np.transpose(X_train_noisy_vector_stitching_42, (0, 3, 2, 1))\n",
    "X_test_noisy_vector_stitching_good_42 = np.transpose(X_test_noisy_vector_stitching_42, (0, 3, 2, 1))\n",
    "\n",
    "# shapes\n",
    "print(f\"X_train_clean_tda_good shape: {X_train_clean_tda_good_34.shape}, X_test_clean_tda_good shape: {X_test_clean_tda_good_34.shape}\")\n",
    "print(f\"X_train_noisy_tda_good shape: {X_train_noisy_tda_good_34.shape}, X_test_noisy_tda_good shape: {X_test_noisy_tda_good_34.shape}\")\n",
    "print(f\"X_train_clean_vector_stitching_good shape: {X_train_clean_vector_stitching_good_34.shape}, X_test_clean_vector_stitching_good shape: {X_test_clean_vector_stitching_good_34.shape}\")\n",
    "print(f\"X_train_noisy_vector_stitching_good shape: {X_train_noisy_vector_stitching_good_34.shape}, X_test_noisy_vector_stitching_good shape: {X_test_noisy_vector_stitching_good_34.shape}\")\n",
    "\n",
    "print(f\"X_train_clean_tda_good shape: {X_train_clean_tda_good_42.shape}, X_test_clean_tda_good shape: {X_test_clean_tda_good_42.shape}\")\n",
    "print(f\"X_train_noisy_tda_good shape: {X_train_noisy_tda_good_42.shape}, X_test_noisy_tda_good shape: {X_test_noisy_tda_good_42.shape}\")\n",
    "print(f\"X_train_clean_vector_stitching_good shape: {X_train_clean_vector_stitching_good_42.shape}, X_test_clean_vector_stitching_good shape: {X_test_clean_vector_stitching_good_42.shape}\")\n",
    "print(f\"X_train_noisy_vector_stitching_good shape: {X_train_noisy_vector_stitching_good_42.shape}, X_test_noisy_vector_stitching_good shape: {X_test_noisy_vector_stitching_good_42.shape}\")\n",
    "\n"
   ]
  },
  {
   "cell_type": "code",
   "execution_count": 68,
   "metadata": {},
   "outputs": [],
   "source": [
    "X_train_expanded, X_test_noisy_random_expanded, X_test_expanded = transform_data(X_train, X_test_noisy_random, X_test)\n",
    "_, X_train_noisy_random_expanded, _ = transform_data(X_train, X_train_noisy_random, X_test)"
   ]
  },
  {
   "cell_type": "markdown",
   "metadata": {},
   "source": [
    "## Prepare 90% clean and 10% distorted training and testing sets"
   ]
  },
  {
   "cell_type": "code",
   "execution_count": 79,
   "metadata": {},
   "outputs": [],
   "source": [
    "from sklearn.utils import shuffle\n",
    "\n",
    "# prepare 90% clean and 10% noisy data for training and testing\n",
    "# X_tr_ should be clean raw data of 90% clean and 10% noisy\n",
    "\n",
    "X_tr = np.concatenate((X_train_expanded, X_train_noisy_random_expanded[:100]), axis=0)\n",
    "y_tr = np.concatenate((y_train, y_train[:100]), axis=0)\n",
    "X_tr, y_tr = shuffle(X_tr, y_tr, random_state=666)\n",
    "\n",
    "# the same for other data\n",
    "X_tr_tda_34 = np.concatenate((X_train_clean_tda_good_34, X_train_noisy_tda_good_34[:100]), axis=0)\n",
    "y_tr_tda_34 = np.concatenate((y_train, y_train[:100]), axis=0)\n",
    "X_tr_tda_34, y_tr_tda_34 = shuffle(X_tr_tda_34, y_tr_tda_34, random_state=666)\n",
    "\n",
    "X_tr_tda_42 = np.concatenate((X_train_clean_tda_good_42, X_train_noisy_tda_good_42[:100]), axis=0)\n",
    "y_tr_tda_42 = np.concatenate((y_train, y_train[:100]), axis=0)\n",
    "X_tr_tda_42, y_tr_tda_42 = shuffle(X_tr_tda_42, y_tr_tda_42, random_state=666)\n",
    "\n",
    "X_tr_vector_stitching_34 = np.concatenate((X_train_clean_vector_stitching_good_34, X_train_noisy_vector_stitching_good_34[:100]), axis=0)\n",
    "y_tr_vector_stitching_34 = np.concatenate((y_train, y_train[:100]), axis=0)\n",
    "X_tr_vector_stitching_34, y_tr_vector_stitching_34 = shuffle(X_tr_vector_stitching_34, y_tr_vector_stitching_34, random_state=666)\n",
    "\n",
    "X_tr_vector_stitching_42 = np.concatenate((X_train_clean_vector_stitching_good_42, X_train_noisy_vector_stitching_good_42[:100]), axis=0)\n",
    "y_tr_vector_stitching_42 = np.concatenate((y_train, y_train[:100]), axis=0)\n",
    "X_tr_vector_stitching_42, y_tr_vector_stitching_42 = shuffle(X_tr_vector_stitching_42, y_tr_vector_stitching_42, random_state=666)\n",
    "\n",
    "\n",
    "\n"
   ]
  },
  {
   "cell_type": "markdown",
   "metadata": {},
   "source": [
    "# Initialize models"
   ]
  },
  {
   "cell_type": "code",
   "execution_count": 80,
   "metadata": {},
   "outputs": [],
   "source": [
    "# models\n",
    "\n",
    "raw_model = Raw_Model() # cnn models working on raw images\n",
    "dummy_model = Dummy_Model() # fully dense model working on raw images\n",
    "tda_model_34 = TDA_PI34_Model() # cnn model working on persistance images\n",
    "tda_model_42 = TDA_PI42_Model() # cnn model working on persistance images\n",
    "vector_stitching_model_34 = VECTOR_STITCHING_PI_Model_34() # cnn model working on stitched raw and PI images\n",
    "vector_stitching_model_42 = VECTOR_STITCHING_PI_Model_42() # cnn model working on stitched raw and PI images\n"
   ]
  },
  {
   "cell_type": "markdown",
   "metadata": {},
   "source": [
    "## Fitting and validating models\n",
    "\n",
    "All models are trained on clean data, and then validated on only distorted data (look up 2nd paragraph to see plotted example images)"
   ]
  },
  {
   "cell_type": "code",
   "execution_count": 81,
   "metadata": {},
   "outputs": [],
   "source": [
    "tf.keras.backend.clear_session()"
   ]
  },
  {
   "cell_type": "code",
   "execution_count": 82,
   "metadata": {},
   "outputs": [
    {
     "name": "stdout",
     "output_type": "stream",
     "text": [
      "Epoch 1/20\n",
      "220/220 [==============================] - 3s 8ms/step - loss: 1.5386 - accuracy: 0.5264 - val_loss: 1.8724 - val_accuracy: 0.3900\n",
      "Epoch 2/20\n",
      "220/220 [==============================] - 1s 6ms/step - loss: 0.6933 - accuracy: 0.7791 - val_loss: 1.4947 - val_accuracy: 0.5700\n",
      "Epoch 3/20\n",
      "220/220 [==============================] - 1s 7ms/step - loss: 0.4995 - accuracy: 0.8573 - val_loss: 1.1396 - val_accuracy: 0.6100\n",
      "Epoch 4/20\n",
      "220/220 [==============================] - 2s 7ms/step - loss: 0.3922 - accuracy: 0.8764 - val_loss: 1.3780 - val_accuracy: 0.6100\n",
      "Epoch 5/20\n",
      "220/220 [==============================] - 1s 7ms/step - loss: 0.3069 - accuracy: 0.9055 - val_loss: 2.0568 - val_accuracy: 0.5700\n",
      "Epoch 6/20\n",
      "220/220 [==============================] - 2s 7ms/step - loss: 0.3156 - accuracy: 0.9073 - val_loss: 1.7080 - val_accuracy: 0.5200\n",
      "Epoch 7/20\n",
      "220/220 [==============================] - 1s 7ms/step - loss: 0.2480 - accuracy: 0.9236 - val_loss: 0.9925 - val_accuracy: 0.7100\n",
      "Epoch 8/20\n",
      "220/220 [==============================] - 1s 7ms/step - loss: 0.1528 - accuracy: 0.9536 - val_loss: 1.1121 - val_accuracy: 0.6800\n",
      "Epoch 9/20\n",
      "220/220 [==============================] - 2s 7ms/step - loss: 0.1540 - accuracy: 0.9536 - val_loss: 0.9923 - val_accuracy: 0.7400\n",
      "Epoch 10/20\n",
      "220/220 [==============================] - 2s 7ms/step - loss: 0.1575 - accuracy: 0.9409 - val_loss: 1.2289 - val_accuracy: 0.6500\n",
      "Epoch 11/20\n",
      "220/220 [==============================] - 1s 6ms/step - loss: 0.2051 - accuracy: 0.9400 - val_loss: 1.2406 - val_accuracy: 0.7400\n",
      "Epoch 12/20\n",
      "220/220 [==============================] - 2s 7ms/step - loss: 0.1391 - accuracy: 0.9645 - val_loss: 1.4659 - val_accuracy: 0.7100\n",
      "Epoch 13/20\n",
      "220/220 [==============================] - 3s 12ms/step - loss: 0.1026 - accuracy: 0.9718 - val_loss: 1.3219 - val_accuracy: 0.7400\n",
      "Epoch 14/20\n",
      "220/220 [==============================] - 3s 12ms/step - loss: 0.1581 - accuracy: 0.9564 - val_loss: 1.7693 - val_accuracy: 0.6400\n",
      "Epoch 15/20\n",
      "220/220 [==============================] - 2s 10ms/step - loss: 0.1372 - accuracy: 0.9573 - val_loss: 2.1280 - val_accuracy: 0.5700\n",
      "Epoch 16/20\n",
      "220/220 [==============================] - 2s 9ms/step - loss: 0.1370 - accuracy: 0.9582 - val_loss: 2.0782 - val_accuracy: 0.7000\n",
      "Epoch 17/20\n",
      "220/220 [==============================] - 2s 10ms/step - loss: 0.0522 - accuracy: 0.9873 - val_loss: 1.5824 - val_accuracy: 0.6900\n",
      "Epoch 18/20\n",
      "220/220 [==============================] - 2s 9ms/step - loss: 0.0569 - accuracy: 0.9809 - val_loss: 1.4876 - val_accuracy: 0.7500\n",
      "Epoch 19/20\n",
      "220/220 [==============================] - 2s 10ms/step - loss: 0.0516 - accuracy: 0.9836 - val_loss: 1.7983 - val_accuracy: 0.6600\n",
      "Epoch 20/20\n",
      "220/220 [==============================] - 2s 8ms/step - loss: 0.0277 - accuracy: 0.9918 - val_loss: 2.0173 - val_accuracy: 0.7200\n"
     ]
    },
    {
     "data": {
      "text/plain": [
       "<keras.src.callbacks.History at 0x2211c93f6d0>"
      ]
     },
     "execution_count": 82,
     "metadata": {},
     "output_type": "execute_result"
    }
   ],
   "source": [
    "#TDA model\n",
    "\n",
    "tda_model_34.model.fit(X_tr_tda_34, y_tr_tda_34, epochs=20, batch_size=5, validation_data=(X_test_noisy_tda_good_34, y_test))"
   ]
  },
  {
   "cell_type": "code",
   "execution_count": 110,
   "metadata": {},
   "outputs": [
    {
     "name": "stdout",
     "output_type": "stream",
     "text": [
      "4/4 [==============================] - 0s 7ms/step\n",
      "9 9\n",
      "0 0\n",
      "3 3\n",
      "5 5\n",
      "7 7\n",
      "7 7\n",
      "4 4\n",
      "3 1\n",
      "1 1\n",
      "3 3\n",
      "7 7\n",
      "8 8\n",
      "1 8\n",
      "0 6\n",
      "2 2\n",
      "4 4\n",
      "6 6\n",
      "1 1\n",
      "0 0\n",
      "8 8\n",
      "6 6\n",
      "1 0\n",
      "1 1\n",
      "3 3\n",
      "0 0\n",
      "8 9\n",
      "9 4\n",
      "5 5\n",
      "4 4\n",
      "3 5\n",
      "0 0\n",
      "9 9\n",
      "5 3\n",
      "1 1\n",
      "2 3\n",
      "8 9\n",
      "0 0\n",
      "5 5\n",
      "0 0\n",
      "0 7\n",
      "2 2\n",
      "8 7\n",
      "8 9\n",
      "8 1\n",
      "3 3\n",
      "2 2\n",
      "5 5\n",
      "5 5\n",
      "2 1\n",
      "6 6\n",
      "4 4\n",
      "9 9\n",
      "3 3\n",
      "8 9\n",
      "1 8\n",
      "6 8\n",
      "4 4\n",
      "5 9\n",
      "1 8\n",
      "3 3\n",
      "7 7\n",
      "2 2\n",
      "8 1\n",
      "9 9\n",
      "0 0\n",
      "2 2\n",
      "5 5\n",
      "7 7\n",
      "8 8\n",
      "8 5\n",
      "0 0\n",
      "6 6\n",
      "1 1\n",
      "9 6\n",
      "4 4\n",
      "7 7\n",
      "0 0\n",
      "6 6\n",
      "9 9\n",
      "1 2\n",
      "2 2\n",
      "5 5\n",
      "1 1\n",
      "7 4\n",
      "6 6\n",
      "9 3\n",
      "6 6\n",
      "2 2\n",
      "6 8\n",
      "8 8\n",
      "4 4\n",
      "6 6\n",
      "2 2\n",
      "3 3\n",
      "8 8\n",
      "7 7\n",
      "7 7\n",
      "1 1\n",
      "8 4\n",
      "2 2\n",
      "Accuracy: 0.72\n"
     ]
    }
   ],
   "source": [
    "predictions_tda = tda_model_34.model.predict(X_test_noisy_tda_good_34)\n",
    "\n",
    "score =0\n",
    "for i,row in enumerate(predictions_tda):\n",
    "    print(np.argmax(row), y_test[i])\n",
    "    if np.argmax(row) == y_test[i]:\n",
    "        score += 1\n",
    "\n",
    "print(f\"Accuracy: {score/len(predictions_tda)}\")"
   ]
  },
  {
   "cell_type": "code",
   "execution_count": 83,
   "metadata": {},
   "outputs": [],
   "source": [
    "tf.keras.backend.clear_session()"
   ]
  },
  {
   "cell_type": "code",
   "execution_count": 84,
   "metadata": {},
   "outputs": [
    {
     "name": "stdout",
     "output_type": "stream",
     "text": [
      "Epoch 1/20\n",
      "110/110 [==============================] - 2s 12ms/step - loss: 1.9968 - accuracy: 0.3500 - val_loss: 2.0308 - val_accuracy: 0.2900\n",
      "Epoch 2/20\n",
      "110/110 [==============================] - 1s 8ms/step - loss: 1.0926 - accuracy: 0.6509 - val_loss: 2.1448 - val_accuracy: 0.3200\n",
      "Epoch 3/20\n",
      "110/110 [==============================] - 1s 8ms/step - loss: 0.7442 - accuracy: 0.7773 - val_loss: 1.6964 - val_accuracy: 0.3300\n",
      "Epoch 4/20\n",
      "110/110 [==============================] - 1s 8ms/step - loss: 0.5696 - accuracy: 0.8409 - val_loss: 1.7817 - val_accuracy: 0.4300\n",
      "Epoch 5/20\n",
      "110/110 [==============================] - 1s 8ms/step - loss: 0.4853 - accuracy: 0.8536 - val_loss: 1.2863 - val_accuracy: 0.5100\n",
      "Epoch 6/20\n",
      "110/110 [==============================] - 1s 8ms/step - loss: 0.3765 - accuracy: 0.8964 - val_loss: 1.3745 - val_accuracy: 0.4900\n",
      "Epoch 7/20\n",
      "110/110 [==============================] - 1s 9ms/step - loss: 0.3415 - accuracy: 0.8955 - val_loss: 1.8699 - val_accuracy: 0.4300\n",
      "Epoch 8/20\n",
      "110/110 [==============================] - 1s 8ms/step - loss: 0.2943 - accuracy: 0.9045 - val_loss: 1.5486 - val_accuracy: 0.5300\n",
      "Epoch 9/20\n",
      "110/110 [==============================] - 1s 8ms/step - loss: 0.2935 - accuracy: 0.9100 - val_loss: 1.7632 - val_accuracy: 0.4900\n",
      "Epoch 10/20\n",
      "110/110 [==============================] - 1s 8ms/step - loss: 0.3482 - accuracy: 0.8927 - val_loss: 1.2449 - val_accuracy: 0.5500\n",
      "Epoch 11/20\n",
      "110/110 [==============================] - 1s 8ms/step - loss: 0.2463 - accuracy: 0.9345 - val_loss: 1.7474 - val_accuracy: 0.5500\n",
      "Epoch 12/20\n",
      "110/110 [==============================] - 1s 8ms/step - loss: 0.1979 - accuracy: 0.9373 - val_loss: 1.4503 - val_accuracy: 0.5300\n",
      "Epoch 13/20\n",
      "110/110 [==============================] - 1s 8ms/step - loss: 0.1900 - accuracy: 0.9445 - val_loss: 1.3924 - val_accuracy: 0.5900\n",
      "Epoch 14/20\n",
      "110/110 [==============================] - 1s 8ms/step - loss: 0.1662 - accuracy: 0.9473 - val_loss: 1.8961 - val_accuracy: 0.5500\n",
      "Epoch 15/20\n",
      "110/110 [==============================] - 1s 9ms/step - loss: 0.1608 - accuracy: 0.9527 - val_loss: 1.6998 - val_accuracy: 0.5300\n",
      "Epoch 16/20\n",
      "110/110 [==============================] - 1s 8ms/step - loss: 0.1614 - accuracy: 0.9491 - val_loss: 1.2975 - val_accuracy: 0.7000\n",
      "Epoch 17/20\n",
      "110/110 [==============================] - 1s 8ms/step - loss: 0.1549 - accuracy: 0.9509 - val_loss: 1.5317 - val_accuracy: 0.6100\n",
      "Epoch 18/20\n",
      "110/110 [==============================] - 1s 9ms/step - loss: 0.1749 - accuracy: 0.9491 - val_loss: 2.0061 - val_accuracy: 0.5400\n",
      "Epoch 19/20\n",
      "110/110 [==============================] - 1s 8ms/step - loss: 0.1330 - accuracy: 0.9600 - val_loss: 1.4685 - val_accuracy: 0.6900\n",
      "Epoch 20/20\n",
      "110/110 [==============================] - 1s 8ms/step - loss: 0.0649 - accuracy: 0.9773 - val_loss: 2.0534 - val_accuracy: 0.6200\n"
     ]
    },
    {
     "data": {
      "text/plain": [
       "<keras.src.callbacks.History at 0x2211c5f5a20>"
      ]
     },
     "execution_count": 84,
     "metadata": {},
     "output_type": "execute_result"
    }
   ],
   "source": [
    "tda_model_42.model.fit(X_tr_tda_42, y_tr_tda_42, epochs=20, batch_size=10, validation_data=(X_test_noisy_tda_good_42, y_test))"
   ]
  },
  {
   "cell_type": "code",
   "execution_count": 85,
   "metadata": {},
   "outputs": [],
   "source": [
    "tf.keras.backend.clear_session()"
   ]
  },
  {
   "cell_type": "code",
   "execution_count": 86,
   "metadata": {},
   "outputs": [
    {
     "name": "stdout",
     "output_type": "stream",
     "text": [
      "Epoch 1/20\n",
      "220/220 [==============================] - 3s 6ms/step - loss: 3.2349 - accuracy: 0.4673 - val_loss: 2.2867 - val_accuracy: 0.3300\n",
      "Epoch 2/20\n",
      "220/220 [==============================] - 1s 6ms/step - loss: 0.7652 - accuracy: 0.7445 - val_loss: 2.2631 - val_accuracy: 0.4800\n",
      "Epoch 3/20\n",
      "220/220 [==============================] - 1s 6ms/step - loss: 0.5872 - accuracy: 0.8264 - val_loss: 2.2394 - val_accuracy: 0.4100\n",
      "Epoch 4/20\n",
      "220/220 [==============================] - 1s 6ms/step - loss: 0.4304 - accuracy: 0.8682 - val_loss: 2.1836 - val_accuracy: 0.3600\n",
      "Epoch 5/20\n",
      "220/220 [==============================] - 1s 6ms/step - loss: 0.3784 - accuracy: 0.8909 - val_loss: 2.1623 - val_accuracy: 0.3000\n",
      "Epoch 6/20\n",
      "220/220 [==============================] - 1s 7ms/step - loss: 0.3327 - accuracy: 0.9064 - val_loss: 2.1006 - val_accuracy: 0.3100\n",
      "Epoch 7/20\n",
      "220/220 [==============================] - 1s 7ms/step - loss: 0.3086 - accuracy: 0.9136 - val_loss: 2.0036 - val_accuracy: 0.6700\n",
      "Epoch 8/20\n",
      "220/220 [==============================] - 1s 6ms/step - loss: 0.2918 - accuracy: 0.9291 - val_loss: 1.8717 - val_accuracy: 0.6400\n",
      "Epoch 9/20\n",
      "220/220 [==============================] - 1s 6ms/step - loss: 0.3136 - accuracy: 0.9173 - val_loss: 1.7627 - val_accuracy: 0.5600\n",
      "Epoch 10/20\n",
      "220/220 [==============================] - 2s 8ms/step - loss: 0.3294 - accuracy: 0.9118 - val_loss: 1.3751 - val_accuracy: 0.6900\n",
      "Epoch 11/20\n",
      "220/220 [==============================] - 2s 9ms/step - loss: 0.2929 - accuracy: 0.9227 - val_loss: 1.2642 - val_accuracy: 0.5300\n",
      "Epoch 12/20\n",
      "220/220 [==============================] - 2s 9ms/step - loss: 0.2041 - accuracy: 0.9436 - val_loss: 1.0794 - val_accuracy: 0.6200\n",
      "Epoch 13/20\n",
      "220/220 [==============================] - 2s 9ms/step - loss: 0.2460 - accuracy: 0.9327 - val_loss: 0.8777 - val_accuracy: 0.7200\n",
      "Epoch 14/20\n",
      "220/220 [==============================] - 1s 6ms/step - loss: 0.1546 - accuracy: 0.9600 - val_loss: 0.9089 - val_accuracy: 0.6600\n",
      "Epoch 15/20\n",
      "220/220 [==============================] - 1s 5ms/step - loss: 0.0922 - accuracy: 0.9727 - val_loss: 0.6519 - val_accuracy: 0.7900\n",
      "Epoch 16/20\n",
      "220/220 [==============================] - 1s 5ms/step - loss: 0.1473 - accuracy: 0.9645 - val_loss: 0.6541 - val_accuracy: 0.7900\n",
      "Epoch 17/20\n",
      "220/220 [==============================] - 1s 6ms/step - loss: 0.3150 - accuracy: 0.9418 - val_loss: 0.7414 - val_accuracy: 0.7100\n",
      "Epoch 18/20\n",
      "220/220 [==============================] - 1s 5ms/step - loss: 0.1386 - accuracy: 0.9636 - val_loss: 0.6325 - val_accuracy: 0.8000\n",
      "Epoch 19/20\n",
      "220/220 [==============================] - 1s 6ms/step - loss: 0.0887 - accuracy: 0.9827 - val_loss: 0.5392 - val_accuracy: 0.8400\n",
      "Epoch 20/20\n",
      "220/220 [==============================] - 1s 5ms/step - loss: 0.1001 - accuracy: 0.9782 - val_loss: 0.6397 - val_accuracy: 0.7800\n"
     ]
    },
    {
     "data": {
      "text/plain": [
       "<keras.src.callbacks.History at 0x2211c5f5e10>"
      ]
     },
     "execution_count": 86,
     "metadata": {},
     "output_type": "execute_result"
    }
   ],
   "source": [
    "# RAW model\n",
    "raw_model.model.fit(X_tr, y_tr, epochs=20, batch_size=5, validation_data=(X_test_noisy_random_expanded, y_test))"
   ]
  },
  {
   "cell_type": "code",
   "execution_count": 111,
   "metadata": {},
   "outputs": [
    {
     "name": "stdout",
     "output_type": "stream",
     "text": [
      "4/4 [==============================] - 0s 4ms/step\n",
      "7 9\n",
      "0 0\n",
      "3 3\n",
      "5 5\n",
      "7 7\n",
      "7 7\n",
      "4 4\n",
      "1 1\n",
      "1 1\n",
      "3 3\n",
      "7 7\n",
      "3 8\n",
      "8 8\n",
      "6 6\n",
      "2 2\n",
      "4 4\n",
      "6 6\n",
      "1 1\n",
      "0 0\n",
      "8 8\n",
      "6 6\n",
      "0 0\n",
      "1 1\n",
      "3 3\n",
      "5 0\n",
      "9 9\n",
      "8 4\n",
      "5 5\n",
      "4 4\n",
      "5 5\n",
      "0 0\n",
      "7 9\n",
      "3 3\n",
      "1 1\n",
      "3 3\n",
      "4 9\n",
      "0 0\n",
      "3 5\n",
      "0 0\n",
      "7 7\n",
      "2 2\n",
      "7 7\n",
      "9 9\n",
      "1 1\n",
      "3 3\n",
      "2 2\n",
      "5 5\n",
      "5 5\n",
      "1 1\n",
      "6 6\n",
      "9 4\n",
      "9 9\n",
      "3 3\n",
      "7 9\n",
      "8 8\n",
      "1 8\n",
      "4 4\n",
      "3 9\n",
      "1 8\n",
      "3 3\n",
      "7 7\n",
      "2 2\n",
      "1 1\n",
      "1 9\n",
      "0 0\n",
      "1 2\n",
      "7 5\n",
      "7 7\n",
      "8 8\n",
      "5 5\n",
      "0 0\n",
      "2 6\n",
      "1 1\n",
      "5 6\n",
      "4 4\n",
      "7 7\n",
      "0 0\n",
      "6 6\n",
      "9 9\n",
      "2 2\n",
      "2 2\n",
      "3 5\n",
      "1 1\n",
      "1 4\n",
      "6 6\n",
      "2 3\n",
      "8 6\n",
      "2 2\n",
      "8 8\n",
      "8 8\n",
      "4 4\n",
      "6 6\n",
      "2 2\n",
      "3 3\n",
      "8 8\n",
      "7 7\n",
      "7 7\n",
      "1 1\n",
      "1 4\n",
      "2 2\n",
      "Accuracy: 0.78\n"
     ]
    }
   ],
   "source": [
    "predictions_raw = raw_model.model.predict(X_test_noisy_random_expanded)\n",
    "\n",
    "scoreraw=0\n",
    "\n",
    "for i,row in enumerate(predictions_raw):\n",
    "    print(np.argmax(row), y_test[i])\n",
    "    if np.argmax(row) == y_test[i]:\n",
    "        scoreraw += 1\n",
    "\n",
    "print(f\"Accuracy: {scoreraw/len(predictions_raw)}\")\n"
   ]
  },
  {
   "cell_type": "code",
   "execution_count": 115,
   "metadata": {},
   "outputs": [
    {
     "name": "stdout",
     "output_type": "stream",
     "text": [
      "tda:  9     raw:  7     combined:  7     actual:  9\n",
      "tda:  0     raw:  0     combined:  0     actual:  0\n",
      "tda:  3     raw:  3     combined:  3     actual:  3\n",
      "tda:  5     raw:  5     combined:  5     actual:  5\n",
      "tda:  7     raw:  7     combined:  7     actual:  7\n",
      "tda:  7     raw:  7     combined:  7     actual:  7\n",
      "tda:  4     raw:  4     combined:  4     actual:  4\n",
      "tda:  3     raw:  1     combined:  1     actual:  1\n",
      "tda:  1     raw:  1     combined:  1     actual:  1\n",
      "tda:  3     raw:  3     combined:  3     actual:  3\n",
      "tda:  7     raw:  7     combined:  7     actual:  7\n",
      "tda:  8     raw:  3     combined:  8     actual:  8\n",
      "tda:  1     raw:  8     combined:  1     actual:  8\n",
      "tda:  0     raw:  6     combined:  6     actual:  6\n",
      "tda:  2     raw:  2     combined:  2     actual:  2\n",
      "tda:  4     raw:  4     combined:  4     actual:  4\n",
      "tda:  6     raw:  6     combined:  6     actual:  6\n",
      "tda:  1     raw:  1     combined:  1     actual:  1\n",
      "tda:  0     raw:  0     combined:  0     actual:  0\n",
      "tda:  8     raw:  8     combined:  8     actual:  8\n",
      "tda:  6     raw:  6     combined:  6     actual:  6\n",
      "tda:  1     raw:  0     combined:  0     actual:  0\n",
      "tda:  1     raw:  1     combined:  1     actual:  1\n",
      "tda:  3     raw:  3     combined:  3     actual:  3\n",
      "tda:  0     raw:  5     combined:  0     actual:  0\n",
      "tda:  8     raw:  9     combined:  8     actual:  9\n",
      "tda:  9     raw:  8     combined:  9     actual:  4\n",
      "tda:  5     raw:  5     combined:  5     actual:  5\n",
      "tda:  4     raw:  4     combined:  4     actual:  4\n",
      "tda:  3     raw:  5     combined:  5     actual:  5\n",
      "tda:  0     raw:  0     combined:  0     actual:  0\n",
      "tda:  9     raw:  7     combined:  9     actual:  9\n",
      "tda:  5     raw:  3     combined:  3     actual:  3\n",
      "tda:  1     raw:  1     combined:  1     actual:  1\n",
      "tda:  2     raw:  3     combined:  3     actual:  3\n",
      "tda:  8     raw:  4     combined:  8     actual:  9\n",
      "tda:  0     raw:  0     combined:  0     actual:  0\n",
      "tda:  5     raw:  3     combined:  5     actual:  5\n",
      "tda:  0     raw:  0     combined:  0     actual:  0\n",
      "tda:  0     raw:  7     combined:  0     actual:  7\n",
      "tda:  2     raw:  2     combined:  2     actual:  2\n",
      "tda:  8     raw:  7     combined:  8     actual:  7\n",
      "tda:  8     raw:  9     combined:  8     actual:  9\n",
      "tda:  8     raw:  1     combined:  8     actual:  1\n",
      "tda:  3     raw:  3     combined:  3     actual:  3\n",
      "tda:  2     raw:  2     combined:  2     actual:  2\n",
      "tda:  5     raw:  5     combined:  5     actual:  5\n",
      "tda:  5     raw:  5     combined:  5     actual:  5\n",
      "tda:  2     raw:  1     combined:  1     actual:  1\n",
      "tda:  6     raw:  6     combined:  6     actual:  6\n",
      "tda:  4     raw:  9     combined:  4     actual:  4\n",
      "tda:  9     raw:  9     combined:  9     actual:  9\n",
      "tda:  3     raw:  3     combined:  3     actual:  3\n",
      "tda:  8     raw:  7     combined:  7     actual:  9\n",
      "tda:  1     raw:  8     combined:  1     actual:  8\n",
      "tda:  6     raw:  1     combined:  2     actual:  8\n",
      "tda:  4     raw:  4     combined:  4     actual:  4\n",
      "tda:  5     raw:  3     combined:  5     actual:  9\n",
      "tda:  1     raw:  1     combined:  1     actual:  8\n",
      "tda:  3     raw:  3     combined:  3     actual:  3\n",
      "tda:  7     raw:  7     combined:  7     actual:  7\n",
      "tda:  2     raw:  2     combined:  2     actual:  2\n",
      "tda:  8     raw:  1     combined:  8     actual:  1\n",
      "tda:  9     raw:  1     combined:  9     actual:  9\n",
      "tda:  0     raw:  0     combined:  0     actual:  0\n",
      "tda:  2     raw:  1     combined:  2     actual:  2\n",
      "tda:  5     raw:  7     combined:  5     actual:  5\n",
      "tda:  7     raw:  7     combined:  7     actual:  7\n",
      "tda:  8     raw:  8     combined:  8     actual:  8\n",
      "tda:  8     raw:  5     combined:  5     actual:  5\n",
      "tda:  0     raw:  0     combined:  0     actual:  0\n",
      "tda:  6     raw:  2     combined:  6     actual:  6\n",
      "tda:  1     raw:  1     combined:  1     actual:  1\n",
      "tda:  9     raw:  5     combined:  5     actual:  6\n",
      "tda:  4     raw:  4     combined:  4     actual:  4\n",
      "tda:  7     raw:  7     combined:  7     actual:  7\n",
      "tda:  0     raw:  0     combined:  0     actual:  0\n",
      "tda:  6     raw:  6     combined:  6     actual:  6\n",
      "tda:  9     raw:  9     combined:  9     actual:  9\n",
      "tda:  1     raw:  2     combined:  1     actual:  2\n",
      "tda:  2     raw:  2     combined:  2     actual:  2\n",
      "tda:  5     raw:  3     combined:  5     actual:  5\n",
      "tda:  1     raw:  1     combined:  1     actual:  1\n",
      "tda:  7     raw:  1     combined:  1     actual:  4\n",
      "tda:  6     raw:  6     combined:  6     actual:  6\n",
      "tda:  9     raw:  2     combined:  3     actual:  3\n",
      "tda:  6     raw:  8     combined:  6     actual:  6\n",
      "tda:  2     raw:  2     combined:  2     actual:  2\n",
      "tda:  6     raw:  8     combined:  8     actual:  8\n",
      "tda:  8     raw:  8     combined:  8     actual:  8\n",
      "tda:  4     raw:  4     combined:  4     actual:  4\n",
      "tda:  6     raw:  6     combined:  6     actual:  6\n",
      "tda:  2     raw:  2     combined:  2     actual:  2\n",
      "tda:  3     raw:  3     combined:  3     actual:  3\n",
      "tda:  8     raw:  8     combined:  8     actual:  8\n",
      "tda:  7     raw:  7     combined:  7     actual:  7\n",
      "tda:  7     raw:  7     combined:  7     actual:  7\n",
      "tda:  1     raw:  1     combined:  1     actual:  1\n",
      "tda:  8     raw:  1     combined:  8     actual:  4\n",
      "tda:  2     raw:  2     combined:  2     actual:  2\n",
      "Combined Accuracy: 0.81\n"
     ]
    }
   ],
   "source": [
    "i=0\n",
    "combined_score = 0\n",
    "for row_tda, row_raw in zip(predictions_tda, predictions_raw):\n",
    "    # multiply rows elementwise \n",
    "    combined = row_tda * row_raw\n",
    "    if np.argmax(combined) == y_test[i]:\n",
    "        combined_score += 1\n",
    "    print(\"tda: \",np.argmax(row_tda),\"    raw: \", np.argmax(row_raw), \"    combined: \", np.argmax(combined), \"    actual: \", y_test[i]) \n",
    "    i+=1\n",
    "\n",
    "print(f\"Combined Accuracy: {combined_score/len(predictions_tda)}\")"
   ]
  },
  {
   "cell_type": "code",
   "execution_count": 87,
   "metadata": {},
   "outputs": [],
   "source": [
    "tf.keras.backend.clear_session()"
   ]
  },
  {
   "cell_type": "code",
   "execution_count": 88,
   "metadata": {},
   "outputs": [
    {
     "name": "stdout",
     "output_type": "stream",
     "text": [
      "Epoch 1/20\n",
      "220/220 [==============================] - 4s 11ms/step - loss: 1.2930 - accuracy: 0.5845 - val_loss: 1.7986 - val_accuracy: 0.5800\n",
      "Epoch 2/20\n",
      "220/220 [==============================] - 2s 9ms/step - loss: 0.5281 - accuracy: 0.8518 - val_loss: 0.9013 - val_accuracy: 0.7600\n",
      "Epoch 3/20\n",
      "220/220 [==============================] - 2s 8ms/step - loss: 0.3569 - accuracy: 0.8891 - val_loss: 1.0845 - val_accuracy: 0.7500\n",
      "Epoch 4/20\n",
      "220/220 [==============================] - 2s 9ms/step - loss: 0.2412 - accuracy: 0.9336 - val_loss: 1.5040 - val_accuracy: 0.7400\n",
      "Epoch 5/20\n",
      "220/220 [==============================] - 2s 8ms/step - loss: 0.1857 - accuracy: 0.9391 - val_loss: 2.1928 - val_accuracy: 0.6700\n",
      "Epoch 6/20\n",
      "220/220 [==============================] - 2s 9ms/step - loss: 0.1928 - accuracy: 0.9436 - val_loss: 1.2407 - val_accuracy: 0.7700\n",
      "Epoch 7/20\n",
      "220/220 [==============================] - 2s 10ms/step - loss: 0.1523 - accuracy: 0.9527 - val_loss: 1.0901 - val_accuracy: 0.8100\n",
      "Epoch 8/20\n",
      "220/220 [==============================] - 2s 11ms/step - loss: 0.0725 - accuracy: 0.9791 - val_loss: 1.3391 - val_accuracy: 0.8100\n",
      "Epoch 9/20\n",
      "220/220 [==============================] - 2s 11ms/step - loss: 0.1325 - accuracy: 0.9564 - val_loss: 0.4342 - val_accuracy: 0.8900\n",
      "Epoch 10/20\n",
      "220/220 [==============================] - 2s 11ms/step - loss: 0.1018 - accuracy: 0.9691 - val_loss: 0.5086 - val_accuracy: 0.8700\n",
      "Epoch 11/20\n",
      "220/220 [==============================] - 2s 11ms/step - loss: 0.0758 - accuracy: 0.9782 - val_loss: 1.0951 - val_accuracy: 0.8600\n",
      "Epoch 12/20\n",
      "220/220 [==============================] - 3s 13ms/step - loss: 0.0706 - accuracy: 0.9773 - val_loss: 1.0631 - val_accuracy: 0.8300\n",
      "Epoch 13/20\n",
      "220/220 [==============================] - 4s 17ms/step - loss: 0.0394 - accuracy: 0.9882 - val_loss: 1.5682 - val_accuracy: 0.8100\n",
      "Epoch 14/20\n",
      "220/220 [==============================] - 3s 13ms/step - loss: 0.0697 - accuracy: 0.9809 - val_loss: 1.1507 - val_accuracy: 0.8600\n",
      "Epoch 15/20\n",
      "220/220 [==============================] - 3s 13ms/step - loss: 0.0123 - accuracy: 0.9964 - val_loss: 1.0454 - val_accuracy: 0.8700\n",
      "Epoch 16/20\n",
      "220/220 [==============================] - 3s 13ms/step - loss: 0.0490 - accuracy: 0.9818 - val_loss: 0.8157 - val_accuracy: 0.8000\n",
      "Epoch 17/20\n",
      "220/220 [==============================] - 3s 13ms/step - loss: 0.1805 - accuracy: 0.9582 - val_loss: 0.9442 - val_accuracy: 0.8600\n",
      "Epoch 18/20\n",
      "220/220 [==============================] - 3s 14ms/step - loss: 0.0563 - accuracy: 0.9855 - val_loss: 0.7468 - val_accuracy: 0.9000\n",
      "Epoch 19/20\n",
      "220/220 [==============================] - 3s 15ms/step - loss: 0.0854 - accuracy: 0.9700 - val_loss: 0.6171 - val_accuracy: 0.8700\n",
      "Epoch 20/20\n",
      "220/220 [==============================] - 3s 14ms/step - loss: 0.0672 - accuracy: 0.9827 - val_loss: 0.6804 - val_accuracy: 0.8700\n"
     ]
    },
    {
     "data": {
      "text/plain": [
       "<keras.src.callbacks.History at 0x221232d7190>"
      ]
     },
     "execution_count": 88,
     "metadata": {},
     "output_type": "execute_result"
    }
   ],
   "source": [
    "#Vector stitching model\n",
    "\n",
    "vector_stitching_model_34.model.fit(X_tr_vector_stitching_34, y_tr_vector_stitching_34, epochs=20, batch_size=5, validation_data=(X_test_noisy_vector_stitching_good_34, y_test))"
   ]
  },
  {
   "cell_type": "code",
   "execution_count": 65,
   "metadata": {},
   "outputs": [],
   "source": [
    "tf.keras.backend.clear_session()"
   ]
  },
  {
   "cell_type": "code",
   "execution_count": 89,
   "metadata": {},
   "outputs": [
    {
     "name": "stdout",
     "output_type": "stream",
     "text": [
      "Epoch 1/20\n",
      "110/110 [==============================] - 4s 22ms/step - loss: 1.6972 - accuracy: 0.4491 - val_loss: 1.7502 - val_accuracy: 0.5600\n",
      "Epoch 2/20\n",
      "110/110 [==============================] - 2s 22ms/step - loss: 0.6391 - accuracy: 0.7991 - val_loss: 1.0982 - val_accuracy: 0.7400\n",
      "Epoch 3/20\n",
      "110/110 [==============================] - 2s 19ms/step - loss: 0.4286 - accuracy: 0.8682 - val_loss: 1.1156 - val_accuracy: 0.7600\n",
      "Epoch 4/20\n",
      "110/110 [==============================] - 2s 18ms/step - loss: 0.3387 - accuracy: 0.8982 - val_loss: 0.8829 - val_accuracy: 0.8100\n",
      "Epoch 5/20\n",
      "110/110 [==============================] - 2s 23ms/step - loss: 0.2116 - accuracy: 0.9245 - val_loss: 0.8066 - val_accuracy: 0.7800\n",
      "Epoch 6/20\n",
      "110/110 [==============================] - 2s 17ms/step - loss: 0.1489 - accuracy: 0.9527 - val_loss: 1.5682 - val_accuracy: 0.7500\n",
      "Epoch 7/20\n",
      "110/110 [==============================] - 2s 18ms/step - loss: 0.1280 - accuracy: 0.9609 - val_loss: 0.9350 - val_accuracy: 0.8200\n",
      "Epoch 8/20\n",
      "110/110 [==============================] - 2s 20ms/step - loss: 0.1066 - accuracy: 0.9636 - val_loss: 1.2570 - val_accuracy: 0.8000\n",
      "Epoch 9/20\n",
      "110/110 [==============================] - 2s 19ms/step - loss: 0.0821 - accuracy: 0.9727 - val_loss: 1.9335 - val_accuracy: 0.7800\n",
      "Epoch 10/20\n",
      "110/110 [==============================] - 2s 21ms/step - loss: 0.0809 - accuracy: 0.9764 - val_loss: 2.1856 - val_accuracy: 0.7100\n",
      "Epoch 11/20\n",
      "110/110 [==============================] - 2s 20ms/step - loss: 0.0925 - accuracy: 0.9727 - val_loss: 1.1706 - val_accuracy: 0.8300\n",
      "Epoch 12/20\n",
      "110/110 [==============================] - 2s 17ms/step - loss: 0.0284 - accuracy: 0.9900 - val_loss: 1.5883 - val_accuracy: 0.8000\n",
      "Epoch 13/20\n",
      "110/110 [==============================] - 2s 18ms/step - loss: 0.0505 - accuracy: 0.9809 - val_loss: 0.6025 - val_accuracy: 0.8200\n",
      "Epoch 14/20\n",
      "110/110 [==============================] - 2s 18ms/step - loss: 0.0602 - accuracy: 0.9791 - val_loss: 0.7456 - val_accuracy: 0.8300\n",
      "Epoch 15/20\n",
      "110/110 [==============================] - 2s 19ms/step - loss: 0.0568 - accuracy: 0.9791 - val_loss: 1.9898 - val_accuracy: 0.7900\n",
      "Epoch 16/20\n",
      "110/110 [==============================] - 2s 18ms/step - loss: 0.0431 - accuracy: 0.9855 - val_loss: 1.6628 - val_accuracy: 0.8300\n",
      "Epoch 17/20\n",
      "110/110 [==============================] - 2s 22ms/step - loss: 0.0355 - accuracy: 0.9882 - val_loss: 1.4517 - val_accuracy: 0.8100\n",
      "Epoch 18/20\n",
      "110/110 [==============================] - 2s 20ms/step - loss: 0.0316 - accuracy: 0.9918 - val_loss: 1.2594 - val_accuracy: 0.8500\n",
      "Epoch 19/20\n",
      "110/110 [==============================] - 2s 17ms/step - loss: 0.0614 - accuracy: 0.9818 - val_loss: 0.5906 - val_accuracy: 0.8800\n",
      "Epoch 20/20\n",
      "110/110 [==============================] - 2s 21ms/step - loss: 0.0430 - accuracy: 0.9845 - val_loss: 1.0602 - val_accuracy: 0.8300\n"
     ]
    },
    {
     "data": {
      "text/plain": [
       "<keras.src.callbacks.History at 0x22120dd7a60>"
      ]
     },
     "execution_count": 89,
     "metadata": {},
     "output_type": "execute_result"
    }
   ],
   "source": [
    "vector_stitching_model_42.model.fit(X_tr_vector_stitching_42, y_tr_vector_stitching_42, epochs=20, batch_size=10, validation_data=(X_test_noisy_vector_stitching_good_42, y_test))"
   ]
  },
  {
   "cell_type": "code",
   "execution_count": null,
   "metadata": {},
   "outputs": [],
   "source": []
  }
 ],
 "metadata": {
  "kernelspec": {
   "display_name": "Python 3",
   "language": "python",
   "name": "python3"
  },
  "language_info": {
   "codemirror_mode": {
    "name": "ipython",
    "version": 3
   },
   "file_extension": ".py",
   "mimetype": "text/x-python",
   "name": "python",
   "nbconvert_exporter": "python",
   "pygments_lexer": "ipython3",
   "version": "3.10.11"
  }
 },
 "nbformat": 4,
 "nbformat_minor": 2
}
