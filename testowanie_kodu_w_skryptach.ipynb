{
 "cells": [
  {
   "cell_type": "markdown",
   "metadata": {},
   "source": [
    "## Import packages and modules"
   ]
  },
  {
   "cell_type": "code",
   "execution_count": 1,
   "metadata": {},
   "outputs": [
    {
     "name": "stdout",
     "output_type": "stream",
     "text": [
      "WARNING:tensorflow:From c:\\Users\\jawor\\AppData\\Local\\Programs\\Python\\Python310\\lib\\site-packages\\keras\\src\\losses.py:2976: The name tf.losses.sparse_softmax_cross_entropy is deprecated. Please use tf.compat.v1.losses.sparse_softmax_cross_entropy instead.\n",
      "\n"
     ]
    }
   ],
   "source": [
    "from models.tda_models import TDA_PI34_Model, VECTOR_STITCHING_PI_Model\n",
    "from models.raw_models import Raw_Model, Dummy_Model\n",
    "from tda_pipelines import *\n"
   ]
  },
  {
   "cell_type": "markdown",
   "metadata": {},
   "source": [
    "## Fetch dataset, prepare training and testing sets, generate distorted sets"
   ]
  },
  {
   "cell_type": "code",
   "execution_count": 2,
   "metadata": {},
   "outputs": [
    {
     "name": "stderr",
     "output_type": "stream",
     "text": [
      "c:\\Users\\jawor\\AppData\\Local\\Programs\\Python\\Python310\\lib\\site-packages\\sklearn\\datasets\\_openml.py:968: FutureWarning: The default value of `parser` will change from `'liac-arff'` to `'auto'` in 1.4. You can set `parser='auto'` to silence this warning. Therefore, an `ImportError` will be raised from 1.4 if the dataset is dense and pandas is not installed. Note that the pandas parser may return different data types. See the Notes Section in fetch_openml's API doc for details.\n",
      "  warn(\n"
     ]
    },
    {
     "name": "stdout",
     "output_type": "stream",
     "text": [
      "X shape: (70000, 784), y shape: (70000,)\n",
      "X_train shape: (1000, 28, 28), y_train shape: (1000,)\n",
      "X_test shape: (300, 28, 28), y_test shape: (300,)\n"
     ]
    }
   ],
   "source": [
    "# fetch data, prepare for pipeline and test models\n",
    "\n",
    "from sklearn.datasets import fetch_openml \n",
    "import numpy as np\n",
    "from sklearn.model_selection import train_test_split\n",
    "\n",
    "X, y = fetch_openml(\"mnist_784\", version=1, return_X_y=True, as_frame=False)\n",
    "print(f\"X shape: {X.shape}, y shape: {y.shape}\")\n",
    "train_size, test_size = 1000, 300 # Reshape to (n_samples, n_pixels_x, n_pixels_y) \n",
    "X = X.reshape((-1, 28, 28)) \n",
    "X_train, X_test, y_train, y_test = train_test_split( X, y, train_size=train_size, test_size=test_size, stratify=y, random_state=666 ) \n",
    "print(f\"X_train shape: {X_train.shape}, y_train shape: {y_train.shape}\") \n",
    "print(f\"X_test shape: {X_test.shape}, y_test shape: {y_test.shape}\")\n",
    "\n",
    "\n",
    "# mnist comes with string labels, we need to convert them to int\n",
    "y_train = y_train.astype(int)\n",
    "y_test = y_test.astype(int)\n"
   ]
  },
  {
   "cell_type": "code",
   "execution_count": 3,
   "metadata": {},
   "outputs": [
    {
     "name": "stderr",
     "output_type": "stream",
     "text": [
      "C:\\Users\\jawor\\AppData\\Local\\Temp\\ipykernel_16508\\3764725209.py:4: FutureWarning: `seed` is a deprecated argument name for `random_noise`. It will be removed in version 0.23. Please use `rng` instead.\n",
      "  X_train_noisy = random_noise(X_train, mode=\"s&p\",amount=0.05, seed=666)\n",
      "C:\\Users\\jawor\\AppData\\Local\\Temp\\ipykernel_16508\\3764725209.py:5: FutureWarning: `seed` is a deprecated argument name for `random_noise`. It will be removed in version 0.23. Please use `rng` instead.\n",
      "  X_test_noisy = random_noise(X_test, mode=\"s&p\",amount=0.05, seed=666)\n"
     ]
    },
    {
     "data": {
      "text/plain": [
       "Text(0.5, 1.0, 'Noisy Image with Random Noise')"
      ]
     },
     "execution_count": 3,
     "metadata": {},
     "output_type": "execute_result"
    },
    {
     "data": {
      "image/png": "[encoded data removed]",
      "text/plain": [
       "<Figure size 1500x500 with 3 Axes>"
      ]
     },
     "metadata": {},
     "output_type": "display_data"
    }
   ],
   "source": [
    "# distort X_train and X_test a little bit not using giotto\n",
    "import matplotlib.pyplot as plt\n",
    "from skimage.util import random_noise\n",
    "X_train_noisy = random_noise(X_train, mode=\"s&p\",amount=0.05, seed=666)\n",
    "X_test_noisy = random_noise(X_test, mode=\"s&p\",amount=0.05, seed=666)\n",
    "\n",
    "# generate random noise matrix of size X_train_noisy.shape and X_test_noisy.shape but without original image\n",
    "\n",
    "X_train_noisy_random = np.random.rand(*X_train_noisy.shape)\n",
    "X_test_noisy_random = np.random.rand(*X_test_noisy.shape)\n",
    "\n",
    "# for each image in X_train_noisy and X_test_noisy, we will add the random noise matrix to the image\n",
    "\n",
    "X_train_noisy_random = X_train_noisy + X_train_noisy_random\n",
    "X_test_noisy_random = X_test_noisy + 0.5*X_test_noisy_random\n",
    "\n",
    "# plot the original image, the noisy image and the noisy image with random noise\n",
    "\n",
    "fig, ax = plt.subplots(1, 3, figsize=(15, 5))\n",
    "ax[0].imshow(X_test[5], cmap=\"gray\")\n",
    "ax[0].set_title(\"Original Image\")\n",
    "ax[1].imshow(X_test_noisy[5], cmap=\"gray\")\n",
    "ax[1].set_title(\"Noisy Image\")\n",
    "ax[2].imshow(X_test_noisy_random[5], cmap=\"gray\")\n",
    "ax[2].set_title(\"Noisy Image with Random Noise\")\n"
   ]
  },
  {
   "cell_type": "markdown",
   "metadata": {},
   "source": [
    "## Load TDA and Vector-stitching pipelines "
   ]
  },
  {
   "cell_type": "code",
   "execution_count": 4,
   "metadata": {},
   "outputs": [],
   "source": [
    "# load pipelines \n",
    "\n",
    "tda_pipeline = TDA_PI34_Pipeline()\n",
    "vector_stitching_pipeline, tda_union = VECTOR_STITCHIGN_PI_Pipeline()\n"
   ]
  },
  {
   "cell_type": "markdown",
   "metadata": {},
   "source": [
    "## Transform raw data to persistance images and stitched RAW-PI images"
   ]
  },
  {
   "cell_type": "code",
   "execution_count": 6,
   "metadata": {},
   "outputs": [],
   "source": [
    "# clean data\n",
    "\n",
    "X_train_clean_tda = tda_pipeline.fit_transform(X_train)\n",
    "X_test_clean_tda = tda_pipeline.transform(X_test)\n",
    "\n",
    "\n",
    "# distorted data\n",
    "X_train_noisy_tda = tda_pipeline.fit_transform(X_train_noisy_random)\n",
    "X_test_noisy_tda = tda_pipeline.transform(X_test_noisy_random)\n"
   ]
  },
  {
   "cell_type": "code",
   "execution_count": 5,
   "metadata": {},
   "outputs": [],
   "source": [
    "\n",
    "#important for initializing Binarizer\n",
    "X_training = tda_union.fit(X_train)\n",
    "\n",
    "#clean data\n",
    "X_train_clean_vector_stitching = vector_stitching_pipeline.fit_transform(X_train)\n",
    "X_test_clean_vector_stitching = vector_stitching_pipeline.transform(X_test)\n",
    "\n",
    "# distorted data\n",
    "X_train_noisy_vector_stitching = vector_stitching_pipeline.fit_transform(X_train_noisy_random)\n",
    "X_test_noisy_vector_stitching = vector_stitching_pipeline.transform(X_test_noisy_random)\n"
   ]
  },
  {
   "cell_type": "code",
   "execution_count": 14,
   "metadata": {},
   "outputs": [
    {
     "name": "stdout",
     "output_type": "stream",
     "text": [
      "X_train_clean_tda_good shape: (1000, 28, 28, 34), X_test_clean_tda_good shape: (300, 28, 28, 34)\n",
      "X_train_noisy_tda_good shape: (1000, 28, 28, 34), X_test_noisy_tda_good shape: (300, 28, 28, 34)\n",
      "X_train_clean_vector_stitching_good shape: (1000, 56, 28, 34), X_test_clean_vector_stitching_good shape: (300, 56, 28, 34)\n",
      "X_train_noisy_vector_stitching_good shape: (1000, 56, 28, 34), X_test_noisy_vector_stitching_good shape: (300, 56, 28, 34)\n"
     ]
    }
   ],
   "source": [
    "# this needs to be integrated into pipeline, transposing the data to fit the input shape of the model\n",
    "\n",
    "# normal tda\n",
    "X_train_clean_tda_good = np.transpose(X_train_clean_tda, (0, 3, 2, 1))\n",
    "X_test_clean_tda_good = np.transpose(X_test_clean_tda, (0, 3, 2, 1))\n",
    "\n",
    "X_train_noisy_tda_good = np.transpose(X_train_noisy_tda, (0, 3, 2, 1))\n",
    "X_test_noisy_tda_good = np.transpose(X_test_noisy_tda, (0, 3, 2, 1))\n",
    "\n",
    "#stitched\n",
    "\n",
    "X_train_clean_vector_stitching_good = np.transpose(X_train_clean_vector_stitching, (0, 3, 2, 1))\n",
    "X_test_clean_vector_stitching_good = np.transpose(X_test_clean_vector_stitching, (0, 3, 2, 1))\n",
    "\n",
    "X_train_noisy_vector_stitching_good = np.transpose(X_train_noisy_vector_stitching, (0, 3, 2, 1))\n",
    "X_test_noisy_vector_stitching_good = np.transpose(X_test_noisy_vector_stitching, (0, 3, 2, 1))\n",
    "\n",
    "# shapes\n",
    "print(f\"X_train_clean_tda_good shape: {X_train_clean_tda_good.shape}, X_test_clean_tda_good shape: {X_test_clean_tda_good.shape}\")\n",
    "print(f\"X_train_noisy_tda_good shape: {X_train_noisy_tda_good.shape}, X_test_noisy_tda_good shape: {X_test_noisy_tda_good.shape}\")\n",
    "print(f\"X_train_clean_vector_stitching_good shape: {X_train_clean_vector_stitching_good.shape}, X_test_clean_vector_stitching_good shape: {X_test_clean_vector_stitching_good.shape}\")\n",
    "print(f\"X_train_noisy_vector_stitching_good shape: {X_train_noisy_vector_stitching_good.shape}, X_test_noisy_vector_stitching_good shape: {X_test_noisy_vector_stitching_good.shape}\")\n",
    "\n"
   ]
  },
  {
   "cell_type": "markdown",
   "metadata": {},
   "source": [
    "# Initialize models"
   ]
  },
  {
   "cell_type": "code",
   "execution_count": 16,
   "metadata": {},
   "outputs": [
    {
     "name": "stdout",
     "output_type": "stream",
     "text": [
      "WARNING:tensorflow:From c:\\Users\\jawor\\AppData\\Local\\Programs\\Python\\Python310\\lib\\site-packages\\keras\\src\\backend.py:873: The name tf.get_default_graph is deprecated. Please use tf.compat.v1.get_default_graph instead.\n",
      "\n",
      "WARNING:tensorflow:From c:\\Users\\jawor\\AppData\\Local\\Programs\\Python\\Python310\\lib\\site-packages\\keras\\src\\layers\\pooling\\max_pooling2d.py:161: The name tf.nn.max_pool is deprecated. Please use tf.nn.max_pool2d instead.\n",
      "\n",
      "WARNING:tensorflow:From c:\\Users\\jawor\\AppData\\Local\\Programs\\Python\\Python310\\lib\\site-packages\\keras\\src\\optimizers\\__init__.py:309: The name tf.train.Optimizer is deprecated. Please use tf.compat.v1.train.Optimizer instead.\n",
      "\n"
     ]
    }
   ],
   "source": [
    "# models\n",
    "\n",
    "raw_model = Raw_Model() # cnn models working on raw images\n",
    "dummy_model = Dummy_Model() # fully dense model working on raw images\n",
    "tda_model = TDA_PI34_Model() # cnn model working on persistance images\n",
    "vector_stitching_model = VECTOR_STITCHING_PI_Model() # cnn model working on stitched raw and PI images\n"
   ]
  },
  {
   "cell_type": "markdown",
   "metadata": {},
   "source": [
    "## Fitting and validating models\n",
    "\n",
    "All models are trained on clean data, and then validated on only distorted data (look up 2nd paragraph to see plotted example images)"
   ]
  },
  {
   "cell_type": "code",
   "execution_count": 17,
   "metadata": {},
   "outputs": [
    {
     "name": "stdout",
     "output_type": "stream",
     "text": [
      "Epoch 1/20\n",
      "WARNING:tensorflow:From c:\\Users\\jawor\\AppData\\Local\\Programs\\Python\\Python310\\lib\\site-packages\\keras\\src\\utils\\tf_utils.py:492: The name tf.ragged.RaggedTensorValue is deprecated. Please use tf.compat.v1.ragged.RaggedTensorValue instead.\n",
      "\n",
      "WARNING:tensorflow:From c:\\Users\\jawor\\AppData\\Local\\Programs\\Python\\Python310\\lib\\site-packages\\keras\\src\\engine\\base_layer_utils.py:384: The name tf.executing_eagerly_outside_functions is deprecated. Please use tf.compat.v1.executing_eagerly_outside_functions instead.\n",
      "\n",
      "100/100 [==============================] - 7s 30ms/step - loss: 1.3636 - accuracy: 0.5400 - val_loss: 7.0046 - val_accuracy: 0.2033\n",
      "Epoch 2/20\n",
      "100/100 [==============================] - 2s 16ms/step - loss: 0.5859 - accuracy: 0.8290 - val_loss: 5.9183 - val_accuracy: 0.1967\n",
      "Epoch 3/20\n",
      "100/100 [==============================] - 2s 20ms/step - loss: 0.4065 - accuracy: 0.8870 - val_loss: 6.7796 - val_accuracy: 0.2633\n",
      "Epoch 4/20\n",
      "100/100 [==============================] - 2s 19ms/step - loss: 0.2521 - accuracy: 0.9280 - val_loss: 8.3139 - val_accuracy: 0.2300\n",
      "Epoch 5/20\n",
      "100/100 [==============================] - 3s 30ms/step - loss: 0.2512 - accuracy: 0.9220 - val_loss: 5.7219 - val_accuracy: 0.2233\n",
      "Epoch 6/20\n",
      "100/100 [==============================] - 3s 29ms/step - loss: 0.2088 - accuracy: 0.9350 - val_loss: 7.7834 - val_accuracy: 0.2133\n",
      "Epoch 7/20\n",
      "100/100 [==============================] - 2s 19ms/step - loss: 0.1848 - accuracy: 0.9400 - val_loss: 6.1260 - val_accuracy: 0.2600\n",
      "Epoch 8/20\n",
      "100/100 [==============================] - 2s 17ms/step - loss: 0.1353 - accuracy: 0.9560 - val_loss: 5.8185 - val_accuracy: 0.2733\n",
      "Epoch 9/20\n",
      "100/100 [==============================] - 2s 21ms/step - loss: 0.1116 - accuracy: 0.9650 - val_loss: 6.8900 - val_accuracy: 0.3067\n",
      "Epoch 10/20\n",
      "100/100 [==============================] - 2s 21ms/step - loss: 0.0922 - accuracy: 0.9710 - val_loss: 7.3980 - val_accuracy: 0.2833\n",
      "Epoch 11/20\n",
      "100/100 [==============================] - 3s 27ms/step - loss: 0.0799 - accuracy: 0.9750 - val_loss: 8.1489 - val_accuracy: 0.2867\n",
      "Epoch 12/20\n",
      "100/100 [==============================] - 3s 27ms/step - loss: 0.0986 - accuracy: 0.9650 - val_loss: 5.2167 - val_accuracy: 0.3233\n",
      "Epoch 13/20\n",
      "100/100 [==============================] - 2s 19ms/step - loss: 0.0572 - accuracy: 0.9830 - val_loss: 9.4095 - val_accuracy: 0.2233\n",
      "Epoch 14/20\n",
      "100/100 [==============================] - 3s 27ms/step - loss: 0.0500 - accuracy: 0.9860 - val_loss: 7.5487 - val_accuracy: 0.2633\n",
      "Epoch 15/20\n",
      "100/100 [==============================] - 2s 21ms/step - loss: 0.0370 - accuracy: 0.9920 - val_loss: 8.3299 - val_accuracy: 0.2833\n",
      "Epoch 16/20\n",
      "100/100 [==============================] - 3s 28ms/step - loss: 0.1039 - accuracy: 0.9710 - val_loss: 16.8463 - val_accuracy: 0.2133\n",
      "Epoch 17/20\n",
      "100/100 [==============================] - 2s 24ms/step - loss: 0.1345 - accuracy: 0.9710 - val_loss: 7.3015 - val_accuracy: 0.3033\n",
      "Epoch 18/20\n",
      "100/100 [==============================] - 2s 18ms/step - loss: 0.0532 - accuracy: 0.9850 - val_loss: 7.6833 - val_accuracy: 0.2667\n",
      "Epoch 19/20\n",
      "100/100 [==============================] - 2s 16ms/step - loss: 0.0292 - accuracy: 0.9920 - val_loss: 9.1017 - val_accuracy: 0.2667\n",
      "Epoch 20/20\n",
      "100/100 [==============================] - 2s 17ms/step - loss: 0.0279 - accuracy: 0.9920 - val_loss: 11.0782 - val_accuracy: 0.2867\n"
     ]
    },
    {
     "data": {
      "text/plain": [
       "<keras.src.callbacks.History at 0x1d43fb323e0>"
      ]
     },
     "execution_count": 17,
     "metadata": {},
     "output_type": "execute_result"
    }
   ],
   "source": [
    "#TDA model\n",
    "\n",
    "tda_model.model.fit(X_train_clean_tda_good, y_train, epochs=20, batch_size=10, validation_data=(X_test_noisy_tda_good, y_test))"
   ]
  },
  {
   "cell_type": "code",
   "execution_count": 18,
   "metadata": {},
   "outputs": [
    {
     "name": "stdout",
     "output_type": "stream",
     "text": [
      "Epoch 1/20\n",
      "100/100 [==============================] - 4s 16ms/step - loss: 2.6611 - accuracy: 0.5020 - val_loss: 2.2943 - val_accuracy: 0.1800\n",
      "Epoch 2/20\n",
      "100/100 [==============================] - 2s 16ms/step - loss: 0.6340 - accuracy: 0.7990 - val_loss: 2.2900 - val_accuracy: 0.1567\n",
      "Epoch 3/20\n",
      "100/100 [==============================] - 2s 16ms/step - loss: 0.3791 - accuracy: 0.8800 - val_loss: 2.2876 - val_accuracy: 0.1000\n",
      "Epoch 4/20\n",
      "100/100 [==============================] - 2s 16ms/step - loss: 0.2716 - accuracy: 0.9090 - val_loss: 2.2867 - val_accuracy: 0.1000\n",
      "Epoch 5/20\n",
      "100/100 [==============================] - 2s 23ms/step - loss: 0.1900 - accuracy: 0.9460 - val_loss: 2.2828 - val_accuracy: 0.0967\n",
      "Epoch 6/20\n",
      "100/100 [==============================] - 2s 16ms/step - loss: 0.1476 - accuracy: 0.9500 - val_loss: 2.2824 - val_accuracy: 0.0967\n",
      "Epoch 7/20\n",
      "100/100 [==============================] - 2s 18ms/step - loss: 0.1100 - accuracy: 0.9680 - val_loss: 2.2826 - val_accuracy: 0.0967\n",
      "Epoch 8/20\n",
      "100/100 [==============================] - 2s 18ms/step - loss: 0.0811 - accuracy: 0.9710 - val_loss: 2.2774 - val_accuracy: 0.0967\n",
      "Epoch 9/20\n",
      "100/100 [==============================] - 1s 14ms/step - loss: 0.0906 - accuracy: 0.9750 - val_loss: 2.2774 - val_accuracy: 0.1033\n",
      "Epoch 10/20\n",
      "100/100 [==============================] - 2s 24ms/step - loss: 0.0480 - accuracy: 0.9840 - val_loss: 2.2746 - val_accuracy: 0.1033\n",
      "Epoch 11/20\n",
      "100/100 [==============================] - 1s 13ms/step - loss: 0.0744 - accuracy: 0.9800 - val_loss: 2.2759 - val_accuracy: 0.0967\n",
      "Epoch 12/20\n",
      "100/100 [==============================] - 3s 29ms/step - loss: 0.1041 - accuracy: 0.9730 - val_loss: 2.2813 - val_accuracy: 0.1000\n",
      "Epoch 13/20\n",
      "100/100 [==============================] - 2s 16ms/step - loss: 0.0653 - accuracy: 0.9760 - val_loss: 2.2785 - val_accuracy: 0.0967\n",
      "Epoch 14/20\n",
      "100/100 [==============================] - 3s 25ms/step - loss: 0.0368 - accuracy: 0.9890 - val_loss: 2.2721 - val_accuracy: 0.0967\n",
      "Epoch 15/20\n",
      "100/100 [==============================] - 2s 17ms/step - loss: 0.0551 - accuracy: 0.9840 - val_loss: 2.2791 - val_accuracy: 0.0967\n",
      "Epoch 16/20\n",
      "100/100 [==============================] - 2s 21ms/step - loss: 0.0282 - accuracy: 0.9900 - val_loss: 2.2765 - val_accuracy: 0.0967\n",
      "Epoch 17/20\n",
      "100/100 [==============================] - 2s 17ms/step - loss: 0.1101 - accuracy: 0.9620 - val_loss: 2.2806 - val_accuracy: 0.1033\n",
      "Epoch 18/20\n",
      "100/100 [==============================] - 2s 18ms/step - loss: 0.1100 - accuracy: 0.9620 - val_loss: 2.2766 - val_accuracy: 0.0967\n",
      "Epoch 19/20\n",
      "100/100 [==============================] - 2s 16ms/step - loss: 0.0950 - accuracy: 0.9730 - val_loss: 2.2862 - val_accuracy: 0.0967\n",
      "Epoch 20/20\n",
      "100/100 [==============================] - 3s 29ms/step - loss: 0.0351 - accuracy: 0.9900 - val_loss: 2.2846 - val_accuracy: 0.0967\n"
     ]
    },
    {
     "data": {
      "text/plain": [
       "<keras.src.callbacks.History at 0x1d4561518a0>"
      ]
     },
     "execution_count": 18,
     "metadata": {},
     "output_type": "execute_result"
    }
   ],
   "source": [
    "# RAW model\n",
    "raw_model.model.fit(X_train, y_train, epochs=20, batch_size=10, validation_data=(X_test_noisy_random, y_test))"
   ]
  },
  {
   "cell_type": "code",
   "execution_count": 20,
   "metadata": {},
   "outputs": [
    {
     "name": "stdout",
     "output_type": "stream",
     "text": [
      "Epoch 1/20\n",
      "100/100 [==============================] - 7s 36ms/step - loss: 1.1428 - accuracy: 0.6310 - val_loss: 1.5910 - val_accuracy: 0.4767\n",
      "Epoch 2/20\n",
      "100/100 [==============================] - 2s 24ms/step - loss: 0.4221 - accuracy: 0.8710 - val_loss: 1.0338 - val_accuracy: 0.6700\n",
      "Epoch 3/20\n",
      "100/100 [==============================] - 2s 22ms/step - loss: 0.2968 - accuracy: 0.9010 - val_loss: 0.9235 - val_accuracy: 0.7300\n",
      "Epoch 4/20\n",
      "100/100 [==============================] - 3s 31ms/step - loss: 0.1922 - accuracy: 0.9410 - val_loss: 0.8405 - val_accuracy: 0.7167\n",
      "Epoch 5/20\n",
      "100/100 [==============================] - 3s 26ms/step - loss: 0.1437 - accuracy: 0.9600 - val_loss: 0.7531 - val_accuracy: 0.7633\n",
      "Epoch 6/20\n",
      "100/100 [==============================] - 3s 28ms/step - loss: 0.0973 - accuracy: 0.9690 - val_loss: 0.6427 - val_accuracy: 0.8033\n",
      "Epoch 7/20\n",
      "100/100 [==============================] - 3s 33ms/step - loss: 0.0697 - accuracy: 0.9700 - val_loss: 0.6950 - val_accuracy: 0.7600\n",
      "Epoch 8/20\n",
      "100/100 [==============================] - 3s 26ms/step - loss: 0.1436 - accuracy: 0.9590 - val_loss: 0.6068 - val_accuracy: 0.8333\n",
      "Epoch 9/20\n",
      "100/100 [==============================] - 3s 25ms/step - loss: 0.0714 - accuracy: 0.9810 - val_loss: 0.6316 - val_accuracy: 0.8600\n",
      "Epoch 10/20\n",
      "100/100 [==============================] - 3s 27ms/step - loss: 0.0326 - accuracy: 0.9930 - val_loss: 0.5560 - val_accuracy: 0.8333\n",
      "Epoch 11/20\n",
      "100/100 [==============================] - 3s 27ms/step - loss: 0.0629 - accuracy: 0.9780 - val_loss: 0.5775 - val_accuracy: 0.8233\n",
      "Epoch 12/20\n",
      "100/100 [==============================] - 2s 24ms/step - loss: 0.1030 - accuracy: 0.9670 - val_loss: 0.6040 - val_accuracy: 0.8167\n",
      "Epoch 13/20\n",
      "100/100 [==============================] - 2s 25ms/step - loss: 0.0534 - accuracy: 0.9810 - val_loss: 0.4912 - val_accuracy: 0.8800\n",
      "Epoch 14/20\n",
      "100/100 [==============================] - 2s 24ms/step - loss: 0.0598 - accuracy: 0.9820 - val_loss: 0.4697 - val_accuracy: 0.8767\n",
      "Epoch 15/20\n",
      "100/100 [==============================] - 3s 27ms/step - loss: 0.0291 - accuracy: 0.9910 - val_loss: 0.5822 - val_accuracy: 0.8100\n",
      "Epoch 16/20\n",
      "100/100 [==============================] - 2s 24ms/step - loss: 0.0362 - accuracy: 0.9900 - val_loss: 1.3027 - val_accuracy: 0.6800\n",
      "Epoch 17/20\n",
      "100/100 [==============================] - 2s 23ms/step - loss: 0.0714 - accuracy: 0.9750 - val_loss: 0.5618 - val_accuracy: 0.8067\n",
      "Epoch 18/20\n",
      "100/100 [==============================] - 2s 23ms/step - loss: 0.0320 - accuracy: 0.9880 - val_loss: 0.8120 - val_accuracy: 0.7467\n",
      "Epoch 19/20\n",
      "100/100 [==============================] - 3s 28ms/step - loss: 0.0339 - accuracy: 0.9930 - val_loss: 0.5010 - val_accuracy: 0.8533\n",
      "Epoch 20/20\n",
      "100/100 [==============================] - 3s 28ms/step - loss: 0.0469 - accuracy: 0.9870 - val_loss: 0.5557 - val_accuracy: 0.8300\n"
     ]
    },
    {
     "data": {
      "text/plain": [
       "<keras.src.callbacks.History at 0x1d457c134f0>"
      ]
     },
     "execution_count": 20,
     "metadata": {},
     "output_type": "execute_result"
    }
   ],
   "source": [
    "#Vector stitching model\n",
    "\n",
    "vector_stitching_model.model.fit(X_train_clean_vector_stitching_good, y_train, epochs=20, batch_size=10, validation_data=(X_test_noisy_vector_stitching_good, y_test))"
   ]
  }
 ],
 "metadata": {
  "kernelspec": {
   "display_name": "Python 3",
   "language": "python",
   "name": "python3"
  },
  "language_info": {
   "codemirror_mode": {
    "name": "ipython",
    "version": 3
   },
   "file_extension": ".py",
   "mimetype": "text/x-python",
   "name": "python",
   "nbconvert_exporter": "python",
   "pygments_lexer": "ipython3",
   "version": "3.10.11"
  }
 },
 "nbformat": 4,
 "nbformat_minor": 2
}
