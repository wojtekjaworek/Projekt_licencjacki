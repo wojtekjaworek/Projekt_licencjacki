{
 "cells": [
  {
   "cell_type": "markdown",
   "metadata": {},
   "source": [
    "## Import packages and modules"
   ]
  },
  {
   "cell_type": "code",
   "execution_count": 1,
   "metadata": {},
   "outputs": [],
   "source": [
    "from models.tda_models import TDA_PI34_Model, VECTOR_STITCHING_PI_Model\n",
    "from models.raw_models import Raw_Model, Dummy_Model\n",
    "from tda_pipelines import *\n"
   ]
  },
  {
   "cell_type": "markdown",
   "metadata": {},
   "source": [
    "## Fetch dataset, prepare training and testing sets, generate distorted sets"
   ]
  },
  {
   "cell_type": "code",
   "execution_count": 2,
   "metadata": {},
   "outputs": [
    {
     "name": "stdout",
     "output_type": "stream",
     "text": [
      "X shape: (70000, 784), y shape: (70000,)\n",
      "X_train shape: (1000, 28, 28), y_train shape: (1000,)\n",
      "X_test shape: (300, 28, 28), y_test shape: (300,)\n"
     ]
    }
   ],
   "source": [
    "# fetch data, prepare for pipeline and test models\n",
    "\n",
    "from sklearn.datasets import fetch_openml \n",
    "import numpy as np\n",
    "from sklearn.model_selection import train_test_split\n",
    "\n",
    "X, y = fetch_openml(\"mnist_784\", version=1, return_X_y=True, as_frame=False)\n",
    "print(f\"X shape: {X.shape}, y shape: {y.shape}\")\n",
    "train_size, test_size = 1000, 300 # Reshape to (n_samples, n_pixels_x, n_pixels_y) \n",
    "X = X.reshape((-1, 28, 28)) \n",
    "X_train, X_test, y_train, y_test = train_test_split( X, y, train_size=train_size, test_size=test_size, stratify=y, random_state=666 ) \n",
    "print(f\"X_train shape: {X_train.shape}, y_train shape: {y_train.shape}\") \n",
    "print(f\"X_test shape: {X_test.shape}, y_test shape: {y_test.shape}\")\n",
    "\n",
    "\n",
    "# mnist comes with string labels, we need to convert them to int\n",
    "y_train = y_train.astype(int)\n",
    "y_test = y_test.astype(int)\n"
   ]
  },
  {
   "cell_type": "code",
   "execution_count": 3,
   "metadata": {},
   "outputs": [
    {
     "data": {
      "text/plain": [
       "Text(0.5, 1.0, 'Noisy Image with Random Noise')"
      ]
     },
     "execution_count": 3,
     "metadata": {},
     "output_type": "execute_result"
    },
    {
     "data": {
      "image/png": "[encoded data removed]",
      "text/plain": [
       "<Figure size 1080x360 with 3 Axes>"
      ]
     },
     "metadata": {
      "needs_background": "light"
     },
     "output_type": "display_data"
    }
   ],
   "source": [
    "# distort X_train and X_test a little bit not using giotto\n",
    "import matplotlib.pyplot as plt\n",
    "from skimage.util import random_noise\n",
    "X_train_noisy = random_noise(X_train, mode=\"s&p\",amount=0.05, seed=666)\n",
    "X_test_noisy = random_noise(X_test, mode=\"s&p\",amount=0.05, seed=666)\n",
    "\n",
    "# generate random noise matrix of size X_train_noisy.shape and X_test_noisy.shape but without original image\n",
    "\n",
    "X_train_noisy_random = np.random.rand(*X_train_noisy.shape)\n",
    "X_test_noisy_random = np.random.rand(*X_test_noisy.shape)\n",
    "\n",
    "# for each image in X_train_noisy and X_test_noisy, we will add the random noise matrix to the image\n",
    "\n",
    "X_train_noisy_random = X_train_noisy + X_train_noisy_random\n",
    "X_test_noisy_random = X_test_noisy + 0.5*X_test_noisy_random\n",
    "\n",
    "# plot the original image, the noisy image and the noisy image with random noise\n",
    "\n",
    "fig, ax = plt.subplots(1, 3, figsize=(15, 5))\n",
    "ax[0].imshow(X_test[5], cmap=\"gray\")\n",
    "ax[0].set_title(\"Original Image\")\n",
    "ax[1].imshow(X_test_noisy[5], cmap=\"gray\")\n",
    "ax[1].set_title(\"Noisy Image\")\n",
    "ax[2].imshow(X_test_noisy_random[5], cmap=\"gray\")\n",
    "ax[2].set_title(\"Noisy Image with Random Noise\")\n"
   ]
  },
  {
   "cell_type": "markdown",
   "metadata": {},
   "source": [
    "## Load TDA and Vector-stitching pipelines "
   ]
  },
  {
   "cell_type": "code",
   "execution_count": 4,
   "metadata": {},
   "outputs": [],
   "source": [
    "# load pipelines \n",
    "\n",
    "tda_pipeline = TDA_PI34_Pipeline()\n",
    "vector_stitching_pipeline, tda_union = VECTOR_STITCHING_PI_Pipeline()\n"
   ]
  },
  {
   "cell_type": "markdown",
   "metadata": {},
   "source": [
    "## Transform raw data to persistance images and stitched RAW-PI images"
   ]
  },
  {
   "cell_type": "code",
   "execution_count": 5,
   "metadata": {},
   "outputs": [],
   "source": [
    "# clean data\n",
    "\n",
    "X_train_clean_tda = tda_pipeline.fit_transform(X_train)\n",
    "X_test_clean_tda = tda_pipeline.transform(X_test)\n",
    "\n",
    "# distorted data\n",
    "X_train_noisy_tda = tda_pipeline.fit_transform(X_train_noisy_random)\n",
    "X_test_noisy_tda = tda_pipeline.transform(X_test_noisy_random)\n"
   ]
  },
  {
   "cell_type": "code",
   "execution_count": 6,
   "metadata": {},
   "outputs": [
    {
     "name": "stdout",
     "output_type": "stream",
     "text": [
      "(1000, 42, 28, 28)\n",
      "(300, 42, 28, 28)\n"
     ]
    }
   ],
   "source": [
    "print(X_train_clean_tda.shape)\n",
    "print(X_test_clean_tda.shape)"
   ]
  },
  {
   "cell_type": "code",
   "execution_count": 7,
   "metadata": {},
   "outputs": [],
   "source": [
    "\n",
    "#important for initializing Binarizer\n",
    "#X_training = tda_union.fit(X_train)\n",
    "\n",
    "#clean data\n",
    "X_train_clean_vector_stitching = vector_stitching_pipeline.fit_transform(X_train)\n",
    "X_test_clean_vector_stitching = vector_stitching_pipeline.transform(X_test)\n",
    "\n",
    "# distorted data\n",
    "X_train_noisy_vector_stitching = vector_stitching_pipeline.fit_transform(X_train_noisy_random)\n",
    "X_test_noisy_vector_stitching = vector_stitching_pipeline.transform(X_test_noisy_random)\n"
   ]
  },
  {
   "cell_type": "code",
   "execution_count": 8,
   "metadata": {},
   "outputs": [
    {
     "name": "stdout",
     "output_type": "stream",
     "text": [
      "X_train_clean_tda_good shape: (1000, 28, 28, 42), X_test_clean_tda_good shape: (300, 28, 28, 42)\n",
      "X_train_noisy_tda_good shape: (1000, 28, 28, 42), X_test_noisy_tda_good shape: (300, 28, 28, 42)\n",
      "X_train_clean_vector_stitching_good shape: (1000, 56, 28, 42), X_test_clean_vector_stitching_good shape: (300, 56, 28, 42)\n",
      "X_train_noisy_vector_stitching_good shape: (1000, 56, 28, 42), X_test_noisy_vector_stitching_good shape: (300, 56, 28, 42)\n"
     ]
    }
   ],
   "source": [
    "# this needs to be integrated into pipeline, transposing the data to fit the input shape of the model\n",
    "\n",
    "# normal tda\n",
    "X_train_clean_tda_good = np.transpose(X_train_clean_tda, (0, 3, 2, 1))\n",
    "X_test_clean_tda_good = np.transpose(X_test_clean_tda, (0, 3, 2, 1))\n",
    "\n",
    "X_train_noisy_tda_good = np.transpose(X_train_noisy_tda, (0, 3, 2, 1))\n",
    "X_test_noisy_tda_good = np.transpose(X_test_noisy_tda, (0, 3, 2, 1))\n",
    "\n",
    "#stitched\n",
    "\n",
    "X_train_clean_vector_stitching_good = np.transpose(X_train_clean_vector_stitching, (0, 3, 2, 1))\n",
    "X_test_clean_vector_stitching_good = np.transpose(X_test_clean_vector_stitching, (0, 3, 2, 1))\n",
    "\n",
    "X_train_noisy_vector_stitching_good = np.transpose(X_train_noisy_vector_stitching, (0, 3, 2, 1))\n",
    "X_test_noisy_vector_stitching_good = np.transpose(X_test_noisy_vector_stitching, (0, 3, 2, 1))\n",
    "\n",
    "# shapes\n",
    "print(f\"X_train_clean_tda_good shape: {X_train_clean_tda_good.shape}, X_test_clean_tda_good shape: {X_test_clean_tda_good.shape}\")\n",
    "print(f\"X_train_noisy_tda_good shape: {X_train_noisy_tda_good.shape}, X_test_noisy_tda_good shape: {X_test_noisy_tda_good.shape}\")\n",
    "print(f\"X_train_clean_vector_stitching_good shape: {X_train_clean_vector_stitching_good.shape}, X_test_clean_vector_stitching_good shape: {X_test_clean_vector_stitching_good.shape}\")\n",
    "print(f\"X_train_noisy_vector_stitching_good shape: {X_train_noisy_vector_stitching_good.shape}, X_test_noisy_vector_stitching_good shape: {X_test_noisy_vector_stitching_good.shape}\")\n",
    "\n"
   ]
  },
  {
   "cell_type": "code",
   "execution_count": 9,
   "metadata": {},
   "outputs": [],
   "source": [
    "X_train_expanded, X_test_noisy_random_expanded, X_test_expanded = transform_data(X_train, X_test_noisy_random, X_test)"
   ]
  },
  {
   "cell_type": "markdown",
   "metadata": {},
   "source": [
    "# Initialize models"
   ]
  },
  {
   "cell_type": "code",
   "execution_count": 10,
   "metadata": {},
   "outputs": [],
   "source": [
    "# models\n",
    "\n",
    "raw_model = Raw_Model() # cnn models working on raw images\n",
    "dummy_model = Dummy_Model() # fully dense model working on raw images\n",
    "tda_model = TDA_PI34_Model() # cnn model working on persistance images\n",
    "vector_stitching_model = VECTOR_STITCHING_PI_Model() # cnn model working on stitched raw and PI images\n"
   ]
  },
  {
   "cell_type": "markdown",
   "metadata": {},
   "source": [
    "## Fitting and validating models\n",
    "\n",
    "All models are trained on clean data, and then validated on only distorted data (look up 2nd paragraph to see plotted example images)"
   ]
  },
  {
   "cell_type": "code",
   "execution_count": 11,
   "metadata": {},
   "outputs": [
    {
     "name": "stdout",
     "output_type": "stream",
     "text": [
      "Epoch 1/20\n",
      "100/100 [==============================] - 1s 10ms/step - loss: 1.6816 - accuracy: 0.4590 - val_loss: 0.8896 - val_accuracy: 0.7233\n",
      "Epoch 2/20\n",
      "100/100 [==============================] - 1s 9ms/step - loss: 0.7904 - accuracy: 0.7500 - val_loss: 0.4958 - val_accuracy: 0.8467\n",
      "Epoch 3/20\n",
      "100/100 [==============================] - 1s 9ms/step - loss: 0.5103 - accuracy: 0.8470 - val_loss: 0.4770 - val_accuracy: 0.8500\n",
      "Epoch 4/20\n",
      "100/100 [==============================] - 1s 9ms/step - loss: 0.3838 - accuracy: 0.8790 - val_loss: 0.5078 - val_accuracy: 0.8533\n",
      "Epoch 5/20\n",
      "100/100 [==============================] - 1s 9ms/step - loss: 0.3015 - accuracy: 0.9070 - val_loss: 0.4208 - val_accuracy: 0.8700\n",
      "Epoch 6/20\n",
      "100/100 [==============================] - 1s 9ms/step - loss: 0.2363 - accuracy: 0.9290 - val_loss: 0.4196 - val_accuracy: 0.8900\n",
      "Epoch 7/20\n",
      "100/100 [==============================] - 1s 9ms/step - loss: 0.2374 - accuracy: 0.9310 - val_loss: 0.3113 - val_accuracy: 0.9133\n",
      "Epoch 8/20\n",
      "100/100 [==============================] - 1s 9ms/step - loss: 0.1856 - accuracy: 0.9490 - val_loss: 0.5348 - val_accuracy: 0.8733\n",
      "Epoch 9/20\n",
      "100/100 [==============================] - 1s 9ms/step - loss: 0.1532 - accuracy: 0.9490 - val_loss: 0.4649 - val_accuracy: 0.8900\n",
      "Epoch 10/20\n",
      "100/100 [==============================] - 1s 9ms/step - loss: 0.1507 - accuracy: 0.9610 - val_loss: 0.6021 - val_accuracy: 0.8900\n",
      "Epoch 11/20\n",
      "100/100 [==============================] - 1s 9ms/step - loss: 0.1234 - accuracy: 0.9590 - val_loss: 0.3922 - val_accuracy: 0.9133\n",
      "Epoch 12/20\n",
      "100/100 [==============================] - 1s 9ms/step - loss: 0.1236 - accuracy: 0.9660 - val_loss: 0.4210 - val_accuracy: 0.9067\n",
      "Epoch 13/20\n",
      "100/100 [==============================] - 1s 9ms/step - loss: 0.1273 - accuracy: 0.9570 - val_loss: 0.4261 - val_accuracy: 0.9000\n",
      "Epoch 14/20\n",
      "100/100 [==============================] - 1s 9ms/step - loss: 0.1376 - accuracy: 0.9650 - val_loss: 0.5216 - val_accuracy: 0.8833\n",
      "Epoch 15/20\n",
      "100/100 [==============================] - 1s 9ms/step - loss: 0.0790 - accuracy: 0.9720 - val_loss: 0.3167 - val_accuracy: 0.9367\n",
      "Epoch 16/20\n",
      "100/100 [==============================] - 1s 9ms/step - loss: 0.0845 - accuracy: 0.9800 - val_loss: 0.5078 - val_accuracy: 0.8933\n",
      "Epoch 17/20\n",
      "100/100 [==============================] - 1s 8ms/step - loss: 0.1516 - accuracy: 0.9530 - val_loss: 0.4786 - val_accuracy: 0.9000\n",
      "Epoch 18/20\n",
      "100/100 [==============================] - 1s 9ms/step - loss: 0.0494 - accuracy: 0.9840 - val_loss: 0.4483 - val_accuracy: 0.9133\n",
      "Epoch 19/20\n",
      "100/100 [==============================] - 1s 9ms/step - loss: 0.0519 - accuracy: 0.9880 - val_loss: 0.4258 - val_accuracy: 0.9233\n",
      "Epoch 20/20\n",
      "100/100 [==============================] - 1s 9ms/step - loss: 0.0224 - accuracy: 0.9940 - val_loss: 0.5531 - val_accuracy: 0.9167\n"
     ]
    },
    {
     "data": {
      "text/plain": [
       "<tensorflow.python.keras.callbacks.History at 0x1819744ad60>"
      ]
     },
     "execution_count": 11,
     "metadata": {},
     "output_type": "execute_result"
    }
   ],
   "source": [
    "#TDA model\n",
    "\n",
    "tda_model.model.fit(X_train_clean_tda_good, y_train, epochs=20, batch_size=10, validation_data=(X_test_clean_tda_good, y_test))"
   ]
  },
  {
   "cell_type": "code",
   "execution_count": 12,
   "metadata": {},
   "outputs": [
    {
     "name": "stdout",
     "output_type": "stream",
     "text": [
      "Epoch 1/20\n",
      "100/100 [==============================] - 1s 6ms/step - loss: 4.0743 - accuracy: 0.4960 - val_loss: 2.2943 - val_accuracy: 0.1433\n",
      "Epoch 2/20\n",
      "100/100 [==============================] - 1s 5ms/step - loss: 0.6362 - accuracy: 0.8000 - val_loss: 2.2930 - val_accuracy: 0.1400\n",
      "Epoch 3/20\n",
      "100/100 [==============================] - 0s 5ms/step - loss: 0.3499 - accuracy: 0.8880 - val_loss: 2.2905 - val_accuracy: 0.1633\n",
      "Epoch 4/20\n",
      "100/100 [==============================] - 1s 5ms/step - loss: 0.2185 - accuracy: 0.9300 - val_loss: 2.2838 - val_accuracy: 0.2567\n",
      "Epoch 5/20\n",
      "100/100 [==============================] - 1s 5ms/step - loss: 0.1886 - accuracy: 0.9310 - val_loss: 2.2880 - val_accuracy: 0.1900\n",
      "Epoch 6/20\n",
      "100/100 [==============================] - 1s 5ms/step - loss: 0.1005 - accuracy: 0.9590 - val_loss: 2.2793 - val_accuracy: 0.2300\n",
      "Epoch 7/20\n",
      "100/100 [==============================] - 1s 5ms/step - loss: 0.1058 - accuracy: 0.9650 - val_loss: 2.2854 - val_accuracy: 0.1433\n",
      "Epoch 8/20\n",
      "100/100 [==============================] - 1s 5ms/step - loss: 0.1282 - accuracy: 0.9580 - val_loss: 2.2831 - val_accuracy: 0.3000\n",
      "Epoch 9/20\n",
      "100/100 [==============================] - 0s 5ms/step - loss: 0.1324 - accuracy: 0.9550 - val_loss: 2.2806 - val_accuracy: 0.2067\n",
      "Epoch 10/20\n",
      "100/100 [==============================] - 0s 5ms/step - loss: 0.0768 - accuracy: 0.9730 - val_loss: 2.2809 - val_accuracy: 0.2800\n",
      "Epoch 11/20\n",
      "100/100 [==============================] - 0s 5ms/step - loss: 0.0754 - accuracy: 0.9750 - val_loss: 2.2840 - val_accuracy: 0.1900\n",
      "Epoch 12/20\n",
      "100/100 [==============================] - 0s 5ms/step - loss: 0.0253 - accuracy: 0.9930 - val_loss: 2.2774 - val_accuracy: 0.2567\n",
      "Epoch 13/20\n",
      "100/100 [==============================] - 0s 5ms/step - loss: 0.0357 - accuracy: 0.9890 - val_loss: 2.2825 - val_accuracy: 0.2467\n",
      "Epoch 14/20\n",
      "100/100 [==============================] - 0s 5ms/step - loss: 0.0337 - accuracy: 0.9880 - val_loss: 2.2763 - val_accuracy: 0.2067\n",
      "Epoch 15/20\n",
      "100/100 [==============================] - 0s 5ms/step - loss: 0.0574 - accuracy: 0.9830 - val_loss: 2.2782 - val_accuracy: 0.1800\n",
      "Epoch 16/20\n",
      "100/100 [==============================] - 0s 5ms/step - loss: 0.0859 - accuracy: 0.9710 - val_loss: 2.2783 - val_accuracy: 0.1900\n",
      "Epoch 17/20\n",
      "100/100 [==============================] - 0s 5ms/step - loss: 0.0834 - accuracy: 0.9720 - val_loss: 2.2840 - val_accuracy: 0.1733\n",
      "Epoch 18/20\n",
      "100/100 [==============================] - 0s 5ms/step - loss: 0.0499 - accuracy: 0.9840 - val_loss: 2.2843 - val_accuracy: 0.1400\n",
      "Epoch 19/20\n",
      "100/100 [==============================] - 0s 5ms/step - loss: 0.0306 - accuracy: 0.9900 - val_loss: 2.2797 - val_accuracy: 0.1667\n",
      "Epoch 20/20\n",
      "100/100 [==============================] - 0s 5ms/step - loss: 0.0241 - accuracy: 0.9910 - val_loss: 2.2755 - val_accuracy: 0.1633\n"
     ]
    },
    {
     "data": {
      "text/plain": [
       "<tensorflow.python.keras.callbacks.History at 0x181975d94c0>"
      ]
     },
     "execution_count": 12,
     "metadata": {},
     "output_type": "execute_result"
    }
   ],
   "source": [
    "# RAW model\n",
    "raw_model.model.fit(X_train_expanded, y_train, epochs=20, batch_size=10, validation_data=(X_test_noisy_random_expanded, y_test))"
   ]
  },
  {
   "cell_type": "code",
   "execution_count": 13,
   "metadata": {},
   "outputs": [
    {
     "name": "stdout",
     "output_type": "stream",
     "text": [
      "Epoch 1/20\n",
      "100/100 [==============================] - 2s 17ms/step - loss: 1.3468 - accuracy: 0.5310 - val_loss: 0.3530 - val_accuracy: 0.9033\n",
      "Epoch 2/20\n",
      "100/100 [==============================] - 2s 15ms/step - loss: 0.4944 - accuracy: 0.8450 - val_loss: 0.2505 - val_accuracy: 0.9300\n",
      "Epoch 3/20\n",
      "100/100 [==============================] - 2s 15ms/step - loss: 0.3136 - accuracy: 0.9040 - val_loss: 0.1262 - val_accuracy: 0.9733\n",
      "Epoch 4/20\n",
      "100/100 [==============================] - 2s 16ms/step - loss: 0.2183 - accuracy: 0.9340 - val_loss: 0.1308 - val_accuracy: 0.9667\n",
      "Epoch 5/20\n",
      "100/100 [==============================] - 2s 15ms/step - loss: 0.1648 - accuracy: 0.9480 - val_loss: 0.1276 - val_accuracy: 0.9567\n",
      "Epoch 6/20\n",
      "100/100 [==============================] - 2s 15ms/step - loss: 0.1283 - accuracy: 0.9540 - val_loss: 0.1545 - val_accuracy: 0.9667\n",
      "Epoch 7/20\n",
      "100/100 [==============================] - 2s 15ms/step - loss: 0.1303 - accuracy: 0.9540 - val_loss: 0.1716 - val_accuracy: 0.9467\n",
      "Epoch 8/20\n",
      "100/100 [==============================] - 2s 15ms/step - loss: 0.1409 - accuracy: 0.9560 - val_loss: 0.1410 - val_accuracy: 0.9633\n",
      "Epoch 9/20\n",
      "100/100 [==============================] - 2s 15ms/step - loss: 0.0557 - accuracy: 0.9840 - val_loss: 0.1285 - val_accuracy: 0.9567\n",
      "Epoch 10/20\n",
      "100/100 [==============================] - 2s 15ms/step - loss: 0.0580 - accuracy: 0.9800 - val_loss: 0.1734 - val_accuracy: 0.9500\n",
      "Epoch 11/20\n",
      "100/100 [==============================] - 2s 19ms/step - loss: 0.0629 - accuracy: 0.9810 - val_loss: 0.2090 - val_accuracy: 0.9567\n",
      "Epoch 12/20\n",
      "100/100 [==============================] - 2s 17ms/step - loss: 0.0664 - accuracy: 0.9770 - val_loss: 0.1433 - val_accuracy: 0.9700\n",
      "Epoch 13/20\n",
      "100/100 [==============================] - 2s 18ms/step - loss: 0.0515 - accuracy: 0.9870 - val_loss: 0.1322 - val_accuracy: 0.9767\n",
      "Epoch 14/20\n",
      "100/100 [==============================] - 2s 17ms/step - loss: 0.0884 - accuracy: 0.9690 - val_loss: 0.1231 - val_accuracy: 0.9733\n",
      "Epoch 15/20\n",
      "100/100 [==============================] - 2s 17ms/step - loss: 0.0399 - accuracy: 0.9860 - val_loss: 0.1716 - val_accuracy: 0.9700\n",
      "Epoch 16/20\n",
      "100/100 [==============================] - 2s 17ms/step - loss: 0.0360 - accuracy: 0.9900 - val_loss: 0.1002 - val_accuracy: 0.9600\n",
      "Epoch 17/20\n",
      "100/100 [==============================] - 2s 18ms/step - loss: 0.0563 - accuracy: 0.9810 - val_loss: 0.0958 - val_accuracy: 0.9800\n",
      "Epoch 18/20\n",
      "100/100 [==============================] - 2s 17ms/step - loss: 0.0209 - accuracy: 0.9900 - val_loss: 0.1814 - val_accuracy: 0.9533\n",
      "Epoch 19/20\n",
      "100/100 [==============================] - 2s 17ms/step - loss: 0.0326 - accuracy: 0.9870 - val_loss: 0.1482 - val_accuracy: 0.9633\n",
      "Epoch 20/20\n",
      "100/100 [==============================] - 2s 17ms/step - loss: 0.0277 - accuracy: 0.9910 - val_loss: 0.1570 - val_accuracy: 0.9633\n"
     ]
    },
    {
     "data": {
      "text/plain": [
       "<tensorflow.python.keras.callbacks.History at 0x18199da7160>"
      ]
     },
     "execution_count": 13,
     "metadata": {},
     "output_type": "execute_result"
    }
   ],
   "source": [
    "#Vector stitching model\n",
    "\n",
    "vector_stitching_model.model.fit(X_train_clean_vector_stitching_good, y_train, epochs=20, batch_size=10, validation_data=(X_test_clean_vector_stitching_good, y_test))"
   ]
  }
 ],
 "metadata": {
  "kernelspec": {
   "display_name": "Python 3",
   "language": "python",
   "name": "python3"
  },
  "language_info": {
   "codemirror_mode": {
    "name": "ipython",
    "version": 3
   },
   "file_extension": ".py",
   "mimetype": "text/x-python",
   "name": "python",
   "nbconvert_exporter": "python",
   "pygments_lexer": "ipython3",
   "version": "3.8.8"
  }
 },
 "nbformat": 4,
 "nbformat_minor": 2
}
