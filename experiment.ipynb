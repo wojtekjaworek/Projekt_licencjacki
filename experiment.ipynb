{
 "cells": [
  {
   "cell_type": "markdown",
   "metadata": {},
   "source": [
    "## Import packages and modules"
   ]
  },
  {
   "cell_type": "code",
   "execution_count": 1,
   "metadata": {},
   "outputs": [
    {
     "name": "stdout",
     "output_type": "stream",
     "text": [
      "WARNING:tensorflow:From c:\\Users\\jawor\\AppData\\Local\\Programs\\Python\\Python310\\lib\\site-packages\\keras\\src\\losses.py:2976: The name tf.losses.sparse_softmax_cross_entropy is deprecated. Please use tf.compat.v1.losses.sparse_softmax_cross_entropy instead.\n",
      "\n"
     ]
    }
   ],
   "source": [
    "from models.tda_models import TDA_PI34_Model, TDA_PI42_Model, VECTOR_STITCHING_PI_Model_34, VECTOR_STITCHING_PI_Model_42\n",
    "from models.raw_models import Raw_Model, Dummy_Model\n",
    "from data_preprocessing import process\n",
    "\n",
    "import tensorflow as tf\n"
   ]
  },
  {
   "cell_type": "code",
   "execution_count": 4,
   "metadata": {},
   "outputs": [],
   "source": [
    "# models\n",
    "\n",
    "raw_model = Raw_Model() # cnn models working on raw images\n",
    "tda_model_34 = TDA_PI34_Model() # cnn model working on persistance images\n",
    "vector_stitching_model_34 = VECTOR_STITCHING_PI_Model_34() # cnn model working on stitched raw and PI images\n"
   ]
  },
  {
   "cell_type": "code",
   "execution_count": 5,
   "metadata": {},
   "outputs": [],
   "source": [
    "# indices for 10 fold cross validation\n",
    "\n",
    "indices100 = [\n",
    "    ((8028, 8128), (2237, 2337)),\n",
    "    ((31081, 31181), (47635, 47735)),\n",
    "    ((51438, 51538), (24766, 24866)),\n",
    "    ((32427, 32527), (36258, 36358)),\n",
    "    ((0, 100), (17901, 18001)),\n",
    "    ((49216, 49316), (13836, 13936)),\n",
    "    ((51207, 51307), (100, 200)),\n",
    "    ((48137, 48237), (57296, 57396)),\n",
    "    ((1000, 1100), (59758, 59858)),\n",
    "    ((29740, 29840), (17885, 17985))\n",
    "]\n",
    "\n",
    "indices250 = [\n",
    "    ((8028, 8278), (2237, 2337)),\n",
    "    ((31081, 31331), (47635, 47735)),\n",
    "    ((51438, 51688), (24766, 24866)),\n",
    "    ((32427, 32677), (36258, 36358)),\n",
    "    ((0, 250), (17901, 18001)),\n",
    "    ((49216, 49466), (13836, 13936)),\n",
    "    ((51207, 51457), (100, 200)),\n",
    "    ((48137, 48387), (57296, 57396)),\n",
    "    ((1000, 1250), (59758, 59858)),\n",
    "    ((29740, 29990), (17885, 17985))\n",
    "]\n",
    "\n",
    "indices500 = [\n",
    "    ((8028, 8528), (2237, 2337)),\n",
    "    ((31081, 31581), (47635, 47735)),\n",
    "    ((51438, 51938), (24766, 24866)),\n",
    "    ((32427, 32927), (36258, 36358)),\n",
    "    ((0, 500), (17901, 18001)),\n",
    "    ((49216, 49716), (13836, 13936)),\n",
    "    ((51207, 51707), (100, 200)),\n",
    "    ((48137, 48637), (57296, 57396)),\n",
    "    ((1000, 1500), (59758, 59858)),\n",
    "    ((29740, 30240), (17885, 17985))\n",
    "]\n",
    "\n",
    "\n",
    "\n"
   ]
  },
  {
   "cell_type": "code",
   "execution_count": 6,
   "metadata": {},
   "outputs": [
    {
     "name": "stdout",
     "output_type": "stream",
     "text": [
      "krok:  0\n"
     ]
    },
    {
     "name": "stderr",
     "output_type": "stream",
     "text": [
      "c:\\Users\\jawor\\Desktop\\Projekt_licencjacki\\data_preprocessing.py:50: FutureWarning: `seed` is a deprecated argument name for `random_noise`. It will be removed in version 0.23. Please use `rng` instead.\n",
      "  X_train_noisy = random_noise(X_train, mode=\"s&p\",amount=0.05, seed=666)\n",
      "c:\\Users\\jawor\\Desktop\\Projekt_licencjacki\\data_preprocessing.py:51: FutureWarning: `seed` is a deprecated argument name for `random_noise`. It will be removed in version 0.23. Please use `rng` instead.\n",
      "  X_test_noisy = random_noise(X_test, mode=\"s&p\",amount=0.05, seed=666)\n"
     ]
    },
    {
     "name": "stdout",
     "output_type": "stream",
     "text": [
      "1/4\n",
      "2/4\n",
      "3/4\n",
      "4/4\n",
      "WARNING:tensorflow:From c:\\Users\\jawor\\AppData\\Local\\Programs\\Python\\Python310\\lib\\site-packages\\keras\\src\\utils\\tf_utils.py:492: The name tf.ragged.RaggedTensorValue is deprecated. Please use tf.compat.v1.ragged.RaggedTensorValue instead.\n",
      "\n",
      "WARNING:tensorflow:From c:\\Users\\jawor\\AppData\\Local\\Programs\\Python\\Python310\\lib\\site-packages\\keras\\src\\engine\\base_layer_utils.py:384: The name tf.executing_eagerly_outside_functions is deprecated. Please use tf.compat.v1.executing_eagerly_outside_functions instead.\n",
      "\n",
      "Best validation accuracy for TDA model 34: \t 0.3199999928474426\n",
      "Best validation accuracy for RAW model: \t 0.1899999976158142\n",
      "Best validation accuracy for VS model 34: \t 0.6700000166893005\n",
      "krok:  1\n",
      "1/4\n",
      "2/4\n",
      "3/4\n",
      "4/4\n",
      "Best validation accuracy for TDA model 34: \t 0.27000001072883606\n",
      "Best validation accuracy for RAW model: \t 0.28999999165534973\n",
      "Best validation accuracy for VS model 34: \t 0.6100000143051147\n",
      "krok:  2\n",
      "1/4\n",
      "2/4\n",
      "3/4\n",
      "4/4\n",
      "Best validation accuracy for TDA model 34: \t 0.41999998688697815\n",
      "Best validation accuracy for RAW model: \t 0.23999999463558197\n",
      "Best validation accuracy for VS model 34: \t 0.6000000238418579\n",
      "krok:  3\n",
      "1/4\n",
      "2/4\n",
      "3/4\n",
      "4/4\n",
      "Best validation accuracy for TDA model 34: \t 0.2199999988079071\n",
      "Best validation accuracy for RAW model: \t 0.38999998569488525\n",
      "Best validation accuracy for VS model 34: \t 0.5199999809265137\n",
      "krok:  4\n",
      "1/4\n",
      "2/4\n",
      "3/4\n",
      "4/4\n",
      "Best validation accuracy for TDA model 34: \t 0.3700000047683716\n",
      "Best validation accuracy for RAW model: \t 0.25999999046325684\n",
      "Best validation accuracy for VS model 34: \t 0.6899999976158142\n",
      "krok:  5\n",
      "1/4\n",
      "2/4\n",
      "3/4\n",
      "4/4\n",
      "Best validation accuracy for TDA model 34: \t 0.33000001311302185\n",
      "Best validation accuracy for RAW model: \t 0.18000000715255737\n",
      "Best validation accuracy for VS model 34: \t 0.6299999952316284\n",
      "krok:  6\n",
      "1/4\n",
      "2/4\n",
      "3/4\n",
      "4/4\n",
      "Best validation accuracy for TDA model 34: \t 0.15000000596046448\n",
      "Best validation accuracy for RAW model: \t 0.15000000596046448\n",
      "Best validation accuracy for VS model 34: \t 0.6499999761581421\n",
      "krok:  7\n",
      "1/4\n",
      "2/4\n",
      "3/4\n",
      "4/4\n",
      "Best validation accuracy for TDA model 34: \t 0.28999999165534973\n",
      "Best validation accuracy for RAW model: \t 0.3100000023841858\n",
      "Best validation accuracy for VS model 34: \t 0.5299999713897705\n",
      "krok:  8\n",
      "1/4\n",
      "2/4\n",
      "3/4\n",
      "4/4\n",
      "Best validation accuracy for TDA model 34: \t 0.4099999964237213\n",
      "Best validation accuracy for RAW model: \t 0.1599999964237213\n",
      "Best validation accuracy for VS model 34: \t 0.6800000071525574\n",
      "krok:  9\n",
      "1/4\n",
      "2/4\n",
      "3/4\n",
      "4/4\n",
      "Best validation accuracy for TDA model 34: \t 0.3100000023841858\n",
      "Best validation accuracy for RAW model: \t 0.28999999165534973\n",
      "Best validation accuracy for VS model 34: \t 0.6299999952316284\n"
     ]
    }
   ],
   "source": [
    "(X, y), _ = tf.keras.datasets.mnist.load_data()\n",
    "\n",
    "tda_history = []\n",
    "raw_history = []\n",
    "vector_stitching_history = []\n",
    "j=0\n",
    "\n",
    "for i in indices250:\n",
    "    data = process(data=(X,y), training_indices=i[0], testing_indices=i[1], dist_ratio=10)\n",
    "\n",
    "    #TDA model\n",
    "    #early stopping\n",
    "    tf.keras.backend.clear_session()\n",
    "    early_stopping = tf.keras.callbacks.EarlyStopping(monitor='val_accuracy', patience=5, restore_best_weights=True)\n",
    "    tda_model_34.model.fit(data[\"X_tr_tda_34\"], data[\"y_tr_tda_34\"], epochs=30, batch_size=1, validation_data=(data[\"X_test_noisy_tda_good_34\"], data[\"y_test\"]), callbacks=[early_stopping], verbose=0)\n",
    "    #print the best validation accuracy\n",
    "    print(\"krok: \", j)\n",
    "    print(\"Best validation accuracy for TDA model 34: \\t\", max(tda_model_34.model.history.history['val_accuracy']))\n",
    "    tda_history.append(max(tda_model_34.model.history.history['val_accuracy']))\n",
    "\n",
    "\n",
    "    # RAW model\n",
    "    tf.keras.backend.clear_session()\n",
    "    early_stopping = tf.keras.callbacks.EarlyStopping(monitor='val_accuracy', patience=5, restore_best_weights=True)\n",
    "    raw_model.model.fit(data[\"X_tr\"], data[\"y_tr\"], epochs=20, batch_size=1, validation_data=(data[\"X_test_noisy_random\"], data[\"y_test\"]), callbacks=[early_stopping], verbose=0)\n",
    "    print(\"Best validation accuracy for RAW model: \\t\", max(raw_model.model.history.history['val_accuracy']))\n",
    "    raw_history.append(max(raw_model.model.history.history['val_accuracy']))\n",
    "\n",
    "\n",
    "\n",
    "    #Vector stitching model\n",
    "    tf.keras.backend.clear_session()\n",
    "    early_stopping = tf.keras.callbacks.EarlyStopping(monitor='val_accuracy', patience=5, restore_best_weights=True)\n",
    "    vector_stitching_model_34.model.fit(data[\"X_tr_vector_stitching_34\"], data[\"y_tr_vector_stitching_34\"], epochs=20, batch_size=1, validation_data=(data[\"X_test_noisy_vector_stitching_good_34\"], data[\"y_test\"]), callbacks=[early_stopping], verbose=0)\n",
    "    print(\"Best validation accuracy for VS model 34: \\t\", max(vector_stitching_model_34.model.history.history['val_accuracy']))\n",
    "    vector_stitching_history.append(max(vector_stitching_model_34.model.history.history['val_accuracy']))\n",
    "\n",
    "\n",
    "    #reload models\n",
    "    raw_model = Raw_Model() # cnn models working on raw images\n",
    "    tda_model_34 = TDA_PI34_Model() # cnn model working on persistance images\n",
    "    vector_stitching_model_34 = VECTOR_STITCHING_PI_Model_34() # cnn model working on stitched raw and PI images\n",
    "\n",
    "    \n",
    "    j=j+1"
   ]
  },
  {
   "cell_type": "code",
   "execution_count": 7,
   "metadata": {},
   "outputs": [
    {
     "name": "stdout",
     "output_type": "stream",
     "text": [
      "TDA mean:  0.30900000035762787\n",
      "RAW mean:  0.24599999636411668\n",
      "Vector stitching mean:  0.6209999978542328\n"
     ]
    }
   ],
   "source": [
    "\n",
    "# print means of history\n",
    "print(\"TDA mean: \", sum(tda_history)/len(tda_history))\n",
    "print(\"RAW mean: \", sum(raw_history)/len(raw_history))\n",
    "print(\"Vector stitching mean: \", sum(vector_stitching_history)/len(vector_stitching_history))\n"
   ]
  },
  {
   "cell_type": "code",
   "execution_count": 10,
   "metadata": {},
   "outputs": [
    {
     "name": "stdout",
     "output_type": "stream",
     "text": [
      "tda model:\n",
      "0.3199999928474426\n",
      "0.27000001072883606\n",
      "0.41999998688697815\n",
      "0.2199999988079071\n",
      "0.3700000047683716\n",
      "0.33000001311302185\n",
      "0.15000000596046448\n",
      "0.28999999165534973\n",
      "0.4099999964237213\n",
      "0.3100000023841858\n",
      "\n",
      "raw model:\n",
      "0.1899999976158142\n",
      "0.28999999165534973\n",
      "0.23999999463558197\n",
      "0.38999998569488525\n",
      "0.25999999046325684\n",
      "0.18000000715255737\n",
      "0.15000000596046448\n",
      "0.3100000023841858\n",
      "0.1599999964237213\n",
      "0.28999999165534973\n",
      "\n",
      "vector stitching model:\n",
      "0.6700000166893005\n",
      "0.6100000143051147\n",
      "0.6000000238418579\n",
      "0.5199999809265137\n",
      "0.6899999976158142\n",
      "0.6299999952316284\n",
      "0.6499999761581421\n",
      "0.5299999713897705\n",
      "0.6800000071525574\n",
      "0.6299999952316284\n"
     ]
    }
   ],
   "source": [
    "print(\"tda model:\")\n",
    "for i in tda_history:\n",
    "    print(i)\n",
    "print(\"\\nraw model:\")\n",
    "for i in raw_history:\n",
    "    print(i)\n",
    "print(\"\\nvector stitching model:\")\n",
    "for i in vector_stitching_history:\n",
    "    print(i)\n"
   ]
  },
  {
   "cell_type": "code",
   "execution_count": null,
   "metadata": {},
   "outputs": [],
   "source": []
  }
 ],
 "metadata": {
  "kernelspec": {
   "display_name": "Python 3",
   "language": "python",
   "name": "python3"
  },
  "language_info": {
   "codemirror_mode": {
    "name": "ipython",
    "version": 3
   },
   "file_extension": ".py",
   "mimetype": "text/x-python",
   "name": "python",
   "nbconvert_exporter": "python",
   "pygments_lexer": "ipython3",
   "version": "3.10.11"
  }
 },
 "nbformat": 4,
 "nbformat_minor": 2
}
