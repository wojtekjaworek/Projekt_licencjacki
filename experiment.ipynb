{
 "cells": [
  {
   "cell_type": "markdown",
   "metadata": {},
   "source": [
    "## Import packages and modules"
   ]
  },
  {
   "cell_type": "code",
   "execution_count": 21,
   "metadata": {},
   "outputs": [],
   "source": [
    "from models.tda_models import TDA_PI34_Model, TDA_PI42_Model, VECTOR_STITCHING_PI_Model_34, VECTOR_STITCHING_PI_Model_42\n",
    "from models.raw_models import Raw_Model, Dummy_Model\n",
    "from data_preprocessing import process_mnist_alike\n",
    "\n",
    "import tensorflow as tf\n"
   ]
  },
  {
   "cell_type": "code",
   "execution_count": 22,
   "metadata": {},
   "outputs": [],
   "source": [
    "# models\n",
    "\n",
    "raw_model = Raw_Model() # cnn models working on raw images\n",
    "tda_model_34 = TDA_PI34_Model() # cnn model working on persistance images\n",
    "vector_stitching_model_34 = VECTOR_STITCHING_PI_Model_34() # cnn model working on stitched raw and PI images\n"
   ]
  },
  {
   "cell_type": "code",
   "execution_count": 11,
   "metadata": {},
   "outputs": [],
   "source": [
    "# indices for 10 fold cross validation\n",
    "\n",
    "indices = [\n",
    "    ((32427, 32927), (36258, 36358))\n",
    "]\n",
    "\n",
    "indices100 = [\n",
    "    ((8028, 8128), (2237, 2337)),\n",
    "    ((31081, 31181), (47635, 47735)),\n",
    "    ((51438, 51538), (24766, 24866)),\n",
    "    ((32427, 32527), (36258, 36358)),\n",
    "    ((0, 100), (17901, 18001)),\n",
    "    ((49216, 49316), (13836, 13936)),\n",
    "    ((51207, 51307), (100, 200)),\n",
    "    ((48137, 48237), (57296, 57396)),\n",
    "    ((1000, 1100), (59758, 59858)),\n",
    "    ((29740, 29840), (17885, 17985))\n",
    "]\n",
    "\n",
    "indices250 = [\n",
    "    ((8028, 8278), (2237, 2337)),\n",
    "    ((31081, 31331), (47635, 47735)),\n",
    "    ((51438, 51688), (24766, 24866)),\n",
    "    ((32427, 32677), (36258, 36358)),\n",
    "    ((0, 250), (17901, 18001)),\n",
    "    ((49216, 49466), (13836, 13936)),\n",
    "    ((51207, 51457), (100, 200)),\n",
    "    ((48137, 48387), (57296, 57396)),\n",
    "    ((1000, 1250), (59758, 59858)),\n",
    "    ((29740, 29990), (17885, 17985))\n",
    "]\n",
    "\n",
    "indices500 = [\n",
    "    ((8028, 8528), (2237, 2337)),\n",
    "    ((31081, 31581), (47635, 47735)),\n",
    "    ((51438, 51938), (24766, 24866)),\n",
    "    ((32427, 32927), (36258, 36358)),\n",
    "    ((0, 500), (17901, 18001)),\n",
    "    ((49216, 49716), (13836, 13936)),\n",
    "    ((51207, 51707), (100, 200)),\n",
    "    ((48137, 48637), (57296, 57396)),\n",
    "    ((1000, 1500), (59758, 59858)),\n",
    "    ((29740, 30240), (17885, 17985))\n",
    "]\n",
    "\n",
    "\n",
    "indices1000 = [\n",
    "    ((8028, 9028), (2237, 2337)),\n",
    "    ((31081, 32081), (47635, 47735)),\n",
    "    ((51438, 52438), (24766, 24866)),\n",
    "    ((32427, 33427), (36258, 36358)),\n",
    "    ((0, 1000), (17901, 18001)),\n",
    "    ((49216, 50216), (13836, 13936)),\n",
    "    ((51207, 52207), (100, 200)),\n",
    "    ((48137, 49137), (57296, 57396)),\n",
    "    ((1000, 2000), (59758, 59858)),\n",
    "    ((29740, 30740), (17885, 17985))\n",
    "]\n",
    "\n",
    "\n",
    "\n"
   ]
  },
  {
   "cell_type": "code",
   "execution_count": 12,
   "metadata": {},
   "outputs": [
    {
     "name": "stderr",
     "output_type": "stream",
     "text": [
      "c:\\Users\\jawor\\Desktop\\Projekt_licencjacki\\data_preprocessing.py:73: FutureWarning: `seed` is a deprecated argument name for `random_noise`. It will be removed in version 0.23. Please use `rng` instead.\n",
      "  X_train_noisy = random_noise(X_train, mode=\"s&p\",amount=0.05, seed=666)\n",
      "c:\\Users\\jawor\\Desktop\\Projekt_licencjacki\\data_preprocessing.py:74: FutureWarning: `seed` is a deprecated argument name for `random_noise`. It will be removed in version 0.23. Please use `rng` instead.\n",
      "  X_test_noisy = random_noise(X_test, mode=\"s&p\",amount=0.05, seed=666)\n"
     ]
    },
    {
     "name": "stdout",
     "output_type": "stream",
     "text": [
      "1/4\n",
      "2/4\n",
      "inside CombineTDAWithRawImages_34\n",
      "(500, 34, 28, 28)\n",
      "after normalization\n",
      "(500, 34, 28, 28)\n",
      "0.0\n",
      "1.0\n",
      "inside CombineTDAWithRawImages_34\n",
      "(100, 34, 28, 28)\n",
      "after normalization\n",
      "(100, 34, 28, 28)\n",
      "0.0\n",
      "1.0\n",
      "3/4\n",
      "inside CombineTDAWithRawImages_34\n",
      "(500, 34, 28, 28)\n",
      "after normalization\n",
      "(500, 34, 28, 28)\n",
      "0.0\n",
      "1.0\n",
      "inside CombineTDAWithRawImages_34\n",
      "(100, 34, 28, 28)\n",
      "after normalization\n",
      "(100, 34, 28, 28)\n",
      "0.0\n",
      "1.0\n",
      "4/4\n",
      "krok:  0\n",
      "Best validation accuracy for TDA model 34: \t 0.3700000047683716\n",
      "Best validation accuracy for RAW model: \t 0.11999999731779099\n",
      "Best validation accuracy for VS model 34: \t 0.7699999809265137\n"
     ]
    }
   ],
   "source": [
    "(X, y), _ = tf.keras.datasets.mnist.load_data()\n",
    "\n",
    "tda_history = []\n",
    "raw_history = []\n",
    "vector_stitching_history = []\n",
    "j=0\n",
    "_verbose = 0\n",
    "early_stopping_tda = 5\n",
    "early_stopping_raw = 5\n",
    "early_stopping_vector_stitching = 5\n",
    "\n",
    "for i in indices100:\n",
    "    data = process_mnist_alike(data=(X,y), training_indices=i[0], testing_indices=i[1], dist_ratio=10)\n",
    "    \n",
    "    #TDA model\n",
    "    #early stopping\n",
    "    tf.keras.backend.clear_session()\n",
    "    early_stopping = tf.keras.callbacks.EarlyStopping(monitor='val_accuracy', patience=early_stopping_tda, restore_best_weights=True)\n",
    "    tda_model_34.model.fit(data[\"X_train_clean_tda_good_34\"], data[\"y_train\"], epochs=20, batch_size=1, validation_data=(data[\"X_test_noisy_tda_good_34\"], data[\"y_test\"]), callbacks=[early_stopping], verbose=_verbose)\n",
    "    #print the best validation accuracy\n",
    "    print(\"krok: \", j)\n",
    "    print(\"Best validation accuracy for TDA model 34: \\t\", max(tda_model_34.model.history.history['val_accuracy']))\n",
    "    tda_history.append(max(tda_model_34.model.history.history['val_accuracy']))\n",
    "    \n",
    "\n",
    "    # RAW model\n",
    "    tf.keras.backend.clear_session()\n",
    "    early_stopping = tf.keras.callbacks.EarlyStopping(monitor='val_accuracy', patience=early_stopping_raw, restore_best_weights=True)\n",
    "    raw_model.model.fit(data[\"X_train\"], data[\"y_train\"], epochs=20, batch_size=1, validation_data=(data[\"X_test_noisy_random\"], data[\"y_test\"]), callbacks=[early_stopping], verbose=_verbose)\n",
    "    print(\"Best validation accuracy for RAW model: \\t\", max(raw_model.model.history.history['val_accuracy']))\n",
    "    raw_history.append(max(raw_model.model.history.history['val_accuracy']))\n",
    "\n",
    "\n",
    "    \n",
    "    #Vector stitching model\n",
    "    tf.keras.backend.clear_session()\n",
    "    early_stopping = tf.keras.callbacks.EarlyStopping(monitor='val_accuracy', patience=early_stopping_vector_stitching, restore_best_weights=True)\n",
    "    vector_stitching_model_34.model.fit(data[\"X_train_clean_vector_stitching_good_34\"], data[\"y_train\"], epochs=20, batch_size=1, validation_data=(data[\"X_test_noisy_vector_stitching_good_34\"], data[\"y_test\"]), callbacks=[early_stopping], verbose=_verbose)\n",
    "    print(\"Best validation accuracy for VS model 34: \\t\", max(vector_stitching_model_34.model.history.history['val_accuracy']))\n",
    "    vector_stitching_history.append(max(vector_stitching_model_34.model.history.history['val_accuracy']))\n",
    "    \n",
    "\n",
    "    #reload models\n",
    "    raw_model = Raw_Model() # cnn models working on raw images\n",
    "    tda_model_34 = TDA_PI34_Model() # cnn model working on persistance images\n",
    "    vector_stitching_model_34 = VECTOR_STITCHING_PI_Model_34() # cnn model working on stitched raw and PI images\n",
    "\n",
    "    \n",
    "    j=j+1"
   ]
  },
  {
   "cell_type": "code",
   "execution_count": 22,
   "metadata": {},
   "outputs": [
    {
     "name": "stdout",
     "output_type": "stream",
     "text": [
      "TDA mean:  0.31099999994039534\n",
      "RAW mean:  0.16599999889731407\n",
      "Vector stitching mean:  0.4050000011920929\n"
     ]
    }
   ],
   "source": [
    "\n",
    "# print means of history\n",
    "print(\"TDA mean: \", sum(tda_history)/len(tda_history))\n",
    "print(\"RAW mean: \", sum(raw_history)/len(raw_history))\n",
    "print(\"Vector stitching mean: \", sum(vector_stitching_history)/len(vector_stitching_history))\n"
   ]
  },
  {
   "cell_type": "code",
   "execution_count": 23,
   "metadata": {},
   "outputs": [
    {
     "name": "stdout",
     "output_type": "stream",
     "text": [
      "tda model:\n",
      "0.3499999940395355\n",
      "0.3700000047683716\n",
      "0.20000000298023224\n",
      "0.36000001430511475\n",
      "0.25\n",
      "0.38999998569488525\n",
      "0.23000000417232513\n",
      "0.2800000011920929\n",
      "0.44999998807907104\n",
      "0.23000000417232513\n",
      "\n",
      "raw model:\n",
      "0.09000000357627869\n",
      "0.14000000059604645\n",
      "0.20999999344348907\n",
      "0.07999999821186066\n",
      "0.20000000298023224\n",
      "0.25999999046325684\n",
      "0.1599999964237213\n",
      "0.18000000715255737\n",
      "0.23999999463558197\n",
      "0.10000000149011612\n",
      "\n",
      "vector stitching model:\n",
      "0.4699999988079071\n",
      "0.5099999904632568\n",
      "0.27000001072883606\n",
      "0.41999998688697815\n",
      "0.38999998569488525\n",
      "0.2800000011920929\n",
      "0.3400000035762787\n",
      "0.49000000953674316\n",
      "0.5400000214576721\n",
      "0.3400000035762787\n"
     ]
    }
   ],
   "source": [
    "print(\"tda model:\")\n",
    "for i in tda_history:\n",
    "    print(i)\n",
    "print(\"\\nraw model:\")\n",
    "for i in raw_history:\n",
    "    print(i)\n",
    "print(\"\\nvector stitching model:\")\n",
    "for i in vector_stitching_history:\n",
    "    print(i)\n"
   ]
  },
  {
   "cell_type": "code",
   "execution_count": null,
   "metadata": {},
   "outputs": [],
   "source": []
  }
 ],
 "metadata": {
  "kernelspec": {
   "display_name": "Python 3",
   "language": "python",
   "name": "python3"
  },
  "language_info": {
   "codemirror_mode": {
    "name": "ipython",
    "version": 3
   },
   "file_extension": ".py",
   "mimetype": "text/x-python",
   "name": "python",
   "nbconvert_exporter": "python",
   "pygments_lexer": "ipython3",
   "version": "3.10.11"
  }
 },
 "nbformat": 4,
 "nbformat_minor": 2
}
